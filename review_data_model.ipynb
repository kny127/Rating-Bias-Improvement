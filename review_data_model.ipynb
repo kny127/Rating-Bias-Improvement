{
  "cells": [
    {
      "cell_type": "markdown",
      "metadata": {
        "id": "YVtD8Ia5e9hP"
      },
      "source": [
        "# 1. 데이터 수집하기\n",
        "+ 요기요와 구글맵에 존재하는 '성균관대(서울)' 근처의 치킨집 20개의 리뷰들을 수집한다."
      ]
    },
    {
      "cell_type": "markdown",
      "metadata": {
        "id": "9ymwCd2QnJtu"
      },
      "source": [
        "## 1-1. 요기요 리뷰 수집하기\n"
      ]
    },
    {
      "cell_type": "markdown",
      "metadata": {
        "id": "UwEUb2MINC4o"
      },
      "source": [
        "### 1) 가게별 고유 번호 수집"
      ]
    },
    {
      "cell_type": "code",
      "execution_count": null,
      "metadata": {
        "colab": {
          "base_uri": "https://localhost:8080/"
        },
        "id": "1pEmPt23_wdc",
        "outputId": "a9c7f9a0-6b5b-4784-b9b4-c0ed2c842a67"
      },
      "outputs": [
        {
          "name": "stdout",
          "output_type": "stream",
          "text": [
            "Collecting selenium\n",
            "  Downloading selenium-4.27.1-py3-none-any.whl.metadata (7.1 kB)\n",
            "Requirement already satisfied: urllib3<3,>=1.26 in /usr/local/lib/python3.10/dist-packages (from urllib3[socks]<3,>=1.26->selenium) (2.2.3)\n",
            "Collecting trio~=0.17 (from selenium)\n",
            "  Downloading trio-0.27.0-py3-none-any.whl.metadata (8.6 kB)\n",
            "Collecting trio-websocket~=0.9 (from selenium)\n",
            "  Downloading trio_websocket-0.11.1-py3-none-any.whl.metadata (4.7 kB)\n",
            "Requirement already satisfied: certifi>=2021.10.8 in /usr/local/lib/python3.10/dist-packages (from selenium) (2024.8.30)\n",
            "Requirement already satisfied: typing_extensions~=4.9 in /usr/local/lib/python3.10/dist-packages (from selenium) (4.12.2)\n",
            "Requirement already satisfied: websocket-client~=1.8 in /usr/local/lib/python3.10/dist-packages (from selenium) (1.8.0)\n",
            "Requirement already satisfied: attrs>=23.2.0 in /usr/local/lib/python3.10/dist-packages (from trio~=0.17->selenium) (24.2.0)\n",
            "Collecting sortedcontainers (from trio~=0.17->selenium)\n",
            "  Downloading sortedcontainers-2.4.0-py2.py3-none-any.whl.metadata (10 kB)\n",
            "Requirement already satisfied: idna in /usr/local/lib/python3.10/dist-packages (from trio~=0.17->selenium) (3.10)\n",
            "Collecting outcome (from trio~=0.17->selenium)\n",
            "  Downloading outcome-1.3.0.post0-py2.py3-none-any.whl.metadata (2.6 kB)\n",
            "Requirement already satisfied: sniffio>=1.3.0 in /usr/local/lib/python3.10/dist-packages (from trio~=0.17->selenium) (1.3.1)\n",
            "Requirement already satisfied: exceptiongroup in /usr/local/lib/python3.10/dist-packages (from trio~=0.17->selenium) (1.2.2)\n",
            "Collecting wsproto>=0.14 (from trio-websocket~=0.9->selenium)\n",
            "  Downloading wsproto-1.2.0-py3-none-any.whl.metadata (5.6 kB)\n",
            "Requirement already satisfied: pysocks!=1.5.7,<2.0,>=1.5.6 in /usr/local/lib/python3.10/dist-packages (from urllib3[socks]<3,>=1.26->selenium) (1.7.1)\n",
            "Requirement already satisfied: h11<1,>=0.9.0 in /usr/local/lib/python3.10/dist-packages (from wsproto>=0.14->trio-websocket~=0.9->selenium) (0.14.0)\n",
            "Downloading selenium-4.27.1-py3-none-any.whl (9.7 MB)\n",
            "\u001b[2K   \u001b[90m━━━━━━━━━━━━━━━━━━━━━━━━━━━━━━━━━━━━━━━━\u001b[0m \u001b[32m9.7/9.7 MB\u001b[0m \u001b[31m45.8 MB/s\u001b[0m eta \u001b[36m0:00:00\u001b[0m\n",
            "\u001b[?25hDownloading trio-0.27.0-py3-none-any.whl (481 kB)\n",
            "\u001b[2K   \u001b[90m━━━━━━━━━━━━━━━━━━━━━━━━━━━━━━━━━━━━━━━━\u001b[0m \u001b[32m481.7/481.7 kB\u001b[0m \u001b[31m24.5 MB/s\u001b[0m eta \u001b[36m0:00:00\u001b[0m\n",
            "\u001b[?25hDownloading trio_websocket-0.11.1-py3-none-any.whl (17 kB)\n",
            "Downloading wsproto-1.2.0-py3-none-any.whl (24 kB)\n",
            "Downloading outcome-1.3.0.post0-py2.py3-none-any.whl (10 kB)\n",
            "Downloading sortedcontainers-2.4.0-py2.py3-none-any.whl (29 kB)\n",
            "Installing collected packages: sortedcontainers, wsproto, outcome, trio, trio-websocket, selenium\n",
            "Successfully installed outcome-1.3.0.post0 selenium-4.27.1 sortedcontainers-2.4.0 trio-0.27.0 trio-websocket-0.11.1 wsproto-1.2.0\n",
            "Get:1 https://cloud.r-project.org/bin/linux/ubuntu jammy-cran40/ InRelease [3,626 B]\n",
            "Hit:2 https://developer.download.nvidia.com/compute/cuda/repos/ubuntu2204/x86_64  InRelease\n",
            "Get:3 http://security.ubuntu.com/ubuntu jammy-security InRelease [129 kB]\n",
            "Hit:4 http://archive.ubuntu.com/ubuntu jammy InRelease\n",
            "Get:5 https://r2u.stat.illinois.edu/ubuntu jammy InRelease [6,555 B]\n",
            "Get:6 http://archive.ubuntu.com/ubuntu jammy-updates InRelease [128 kB]\n",
            "Hit:7 https://ppa.launchpadcontent.net/deadsnakes/ppa/ubuntu jammy InRelease\n",
            "Get:8 https://r2u.stat.illinois.edu/ubuntu jammy/main amd64 Packages [2,619 kB]\n",
            "Hit:9 https://ppa.launchpadcontent.net/graphics-drivers/ppa/ubuntu jammy InRelease\n",
            "Hit:10 https://ppa.launchpadcontent.net/ubuntugis/ppa/ubuntu jammy InRelease\n",
            "Get:11 http://archive.ubuntu.com/ubuntu jammy-backports InRelease [127 kB]\n",
            "Get:12 http://security.ubuntu.com/ubuntu jammy-security/universe amd64 Packages [1,224 kB]\n",
            "Get:13 http://archive.ubuntu.com/ubuntu jammy-updates/main amd64 Packages [2,738 kB]\n",
            "Get:14 http://security.ubuntu.com/ubuntu jammy-security/main amd64 Packages [2,454 kB]\n",
            "Get:15 https://r2u.stat.illinois.edu/ubuntu jammy/main all Packages [8,506 kB]\n",
            "Get:16 http://archive.ubuntu.com/ubuntu jammy-updates/universe amd64 Packages [1,513 kB]\n",
            "Get:17 http://archive.ubuntu.com/ubuntu jammy-backports/universe amd64 Packages [33.8 kB]\n",
            "Fetched 19.5 MB in 5s (3,750 kB/s)\n",
            "Reading package lists... Done\n",
            "W: Skipping acquire of configured file 'main/source/Sources' as repository 'https://r2u.stat.illinois.edu/ubuntu jammy InRelease' does not seem to provide it (sources.list entry misspelt?)\n",
            "Reading package lists... Done\n",
            "Building dependency tree... Done\n",
            "Reading state information... Done\n",
            "The following additional packages will be installed:\n",
            "  apparmor chromium-browser libfuse3-3 liblzo2-2 libudev1 snapd squashfs-tools systemd-hwe-hwdb\n",
            "  udev\n",
            "Suggested packages:\n",
            "  apparmor-profiles-extra apparmor-utils fuse3 zenity | kdialog\n",
            "The following NEW packages will be installed:\n",
            "  apparmor chromium-browser chromium-chromedriver libfuse3-3 liblzo2-2 snapd squashfs-tools\n",
            "  systemd-hwe-hwdb udev\n",
            "The following packages will be upgraded:\n",
            "  libudev1\n",
            "1 upgraded, 9 newly installed, 0 to remove and 52 not upgraded.\n",
            "Need to get 30.2 MB of archives.\n",
            "After this operation, 123 MB of additional disk space will be used.\n",
            "Get:1 http://archive.ubuntu.com/ubuntu jammy-updates/main amd64 apparmor amd64 3.0.4-2ubuntu2.4 [598 kB]\n",
            "Get:2 http://archive.ubuntu.com/ubuntu jammy/main amd64 liblzo2-2 amd64 2.10-2build3 [53.7 kB]\n",
            "Get:3 http://archive.ubuntu.com/ubuntu jammy/main amd64 squashfs-tools amd64 1:4.5-3build1 [159 kB]\n",
            "Get:4 http://archive.ubuntu.com/ubuntu jammy-updates/main amd64 libudev1 amd64 249.11-0ubuntu3.12 [78.2 kB]\n",
            "Get:5 http://archive.ubuntu.com/ubuntu jammy-updates/main amd64 udev amd64 249.11-0ubuntu3.12 [1,557 kB]\n",
            "Get:6 http://archive.ubuntu.com/ubuntu jammy/main amd64 libfuse3-3 amd64 3.10.5-1build1 [81.2 kB]\n",
            "Get:7 http://archive.ubuntu.com/ubuntu jammy-updates/main amd64 snapd amd64 2.66.1+22.04 [27.6 MB]\n",
            "Get:8 http://archive.ubuntu.com/ubuntu jammy-updates/universe amd64 chromium-browser amd64 1:85.0.4183.83-0ubuntu2.22.04.1 [49.2 kB]\n",
            "Get:9 http://archive.ubuntu.com/ubuntu jammy-updates/universe amd64 chromium-chromedriver amd64 1:85.0.4183.83-0ubuntu2.22.04.1 [2,308 B]\n",
            "Get:10 http://archive.ubuntu.com/ubuntu jammy-updates/main amd64 systemd-hwe-hwdb all 249.11.5 [3,228 B]\n",
            "Fetched 30.2 MB in 5s (6,324 kB/s)\n",
            "Preconfiguring packages ...\n",
            "Selecting previously unselected package apparmor.\n",
            "(Reading database ... 123630 files and directories currently installed.)\n",
            "Preparing to unpack .../apparmor_3.0.4-2ubuntu2.4_amd64.deb ...\n",
            "Unpacking apparmor (3.0.4-2ubuntu2.4) ...\n",
            "Selecting previously unselected package liblzo2-2:amd64.\n",
            "Preparing to unpack .../liblzo2-2_2.10-2build3_amd64.deb ...\n",
            "Unpacking liblzo2-2:amd64 (2.10-2build3) ...\n",
            "Selecting previously unselected package squashfs-tools.\n",
            "Preparing to unpack .../squashfs-tools_1%3a4.5-3build1_amd64.deb ...\n",
            "Unpacking squashfs-tools (1:4.5-3build1) ...\n",
            "Preparing to unpack .../libudev1_249.11-0ubuntu3.12_amd64.deb ...\n",
            "Unpacking libudev1:amd64 (249.11-0ubuntu3.12) over (249.11-0ubuntu3.10) ...\n",
            "Setting up libudev1:amd64 (249.11-0ubuntu3.12) ...\n",
            "Selecting previously unselected package udev.\n",
            "(Reading database ... 123838 files and directories currently installed.)\n",
            "Preparing to unpack .../udev_249.11-0ubuntu3.12_amd64.deb ...\n",
            "Unpacking udev (249.11-0ubuntu3.12) ...\n",
            "Selecting previously unselected package libfuse3-3:amd64.\n",
            "Preparing to unpack .../libfuse3-3_3.10.5-1build1_amd64.deb ...\n",
            "Unpacking libfuse3-3:amd64 (3.10.5-1build1) ...\n",
            "Selecting previously unselected package snapd.\n",
            "Preparing to unpack .../snapd_2.66.1+22.04_amd64.deb ...\n",
            "Unpacking snapd (2.66.1+22.04) ...\n",
            "Setting up apparmor (3.0.4-2ubuntu2.4) ...\n",
            "Created symlink /etc/systemd/system/sysinit.target.wants/apparmor.service → /lib/systemd/system/apparmor.service.\n",
            "Setting up liblzo2-2:amd64 (2.10-2build3) ...\n",
            "Setting up squashfs-tools (1:4.5-3build1) ...\n",
            "Setting up udev (249.11-0ubuntu3.12) ...\n",
            "invoke-rc.d: could not determine current runlevel\n",
            "invoke-rc.d: policy-rc.d denied execution of start.\n",
            "Setting up libfuse3-3:amd64 (3.10.5-1build1) ...\n",
            "Setting up snapd (2.66.1+22.04) ...\n",
            "Created symlink /etc/systemd/system/multi-user.target.wants/snapd.apparmor.service → /lib/systemd/system/snapd.apparmor.service.\n",
            "Created symlink /etc/systemd/system/multi-user.target.wants/snapd.autoimport.service → /lib/systemd/system/snapd.autoimport.service.\n",
            "Created symlink /etc/systemd/system/multi-user.target.wants/snapd.core-fixup.service → /lib/systemd/system/snapd.core-fixup.service.\n",
            "Created symlink /etc/systemd/system/multi-user.target.wants/snapd.recovery-chooser-trigger.service → /lib/systemd/system/snapd.recovery-chooser-trigger.service.\n",
            "Created symlink /etc/systemd/system/multi-user.target.wants/snapd.seeded.service → /lib/systemd/system/snapd.seeded.service.\n",
            "Created symlink /etc/systemd/system/cloud-final.service.wants/snapd.seeded.service → /lib/systemd/system/snapd.seeded.service.\n",
            "Unit /lib/systemd/system/snapd.seeded.service is added as a dependency to a non-existent unit cloud-final.service.\n",
            "Created symlink /etc/systemd/system/multi-user.target.wants/snapd.service → /lib/systemd/system/snapd.service.\n",
            "Created symlink /etc/systemd/system/timers.target.wants/snapd.snap-repair.timer → /lib/systemd/system/snapd.snap-repair.timer.\n",
            "Created symlink /etc/systemd/system/sockets.target.wants/snapd.socket → /lib/systemd/system/snapd.socket.\n",
            "Created symlink /etc/systemd/system/final.target.wants/snapd.system-shutdown.service → /lib/systemd/system/snapd.system-shutdown.service.\n",
            "Selecting previously unselected package chromium-browser.\n",
            "(Reading database ... 124067 files and directories currently installed.)\n",
            "Preparing to unpack .../chromium-browser_1%3a85.0.4183.83-0ubuntu2.22.04.1_amd64.deb ...\n",
            "=> Installing the chromium snap\n",
            "==> Checking connectivity with the snap store\n",
            "===> System doesn't have a working snapd, skipping\n",
            "Unpacking chromium-browser (1:85.0.4183.83-0ubuntu2.22.04.1) ...\n",
            "Selecting previously unselected package chromium-chromedriver.\n",
            "Preparing to unpack .../chromium-chromedriver_1%3a85.0.4183.83-0ubuntu2.22.04.1_amd64.deb ...\n",
            "Unpacking chromium-chromedriver (1:85.0.4183.83-0ubuntu2.22.04.1) ...\n",
            "Selecting previously unselected package systemd-hwe-hwdb.\n",
            "Preparing to unpack .../systemd-hwe-hwdb_249.11.5_all.deb ...\n",
            "Unpacking systemd-hwe-hwdb (249.11.5) ...\n",
            "Setting up systemd-hwe-hwdb (249.11.5) ...\n",
            "Setting up chromium-browser (1:85.0.4183.83-0ubuntu2.22.04.1) ...\n",
            "update-alternatives: using /usr/bin/chromium-browser to provide /usr/bin/x-www-browser (x-www-browser) in auto mode\n",
            "update-alternatives: using /usr/bin/chromium-browser to provide /usr/bin/gnome-www-browser (gnome-www-browser) in auto mode\n",
            "Setting up chromium-chromedriver (1:85.0.4183.83-0ubuntu2.22.04.1) ...\n",
            "Processing triggers for udev (249.11-0ubuntu3.12) ...\n",
            "Processing triggers for hicolor-icon-theme (0.17-2) ...\n",
            "Processing triggers for libc-bin (2.35-0ubuntu3.4) ...\n",
            "/sbin/ldconfig.real: /usr/local/lib/libur_loader.so.0 is not a symbolic link\n",
            "\n",
            "/sbin/ldconfig.real: /usr/local/lib/libtcm_debug.so.1 is not a symbolic link\n",
            "\n",
            "/sbin/ldconfig.real: /usr/local/lib/libtbbbind_2_5.so.3 is not a symbolic link\n",
            "\n",
            "/sbin/ldconfig.real: /usr/local/lib/libtbbmalloc_proxy.so.2 is not a symbolic link\n",
            "\n",
            "/sbin/ldconfig.real: /usr/local/lib/libur_adapter_opencl.so.0 is not a symbolic link\n",
            "\n",
            "/sbin/ldconfig.real: /usr/local/lib/libtbbbind_2_0.so.3 is not a symbolic link\n",
            "\n",
            "/sbin/ldconfig.real: /usr/local/lib/libtbbbind.so.3 is not a symbolic link\n",
            "\n",
            "/sbin/ldconfig.real: /usr/local/lib/libtbb.so.12 is not a symbolic link\n",
            "\n",
            "/sbin/ldconfig.real: /usr/local/lib/libtcm.so.1 is not a symbolic link\n",
            "\n",
            "/sbin/ldconfig.real: /usr/local/lib/libur_adapter_level_zero.so.0 is not a symbolic link\n",
            "\n",
            "/sbin/ldconfig.real: /usr/local/lib/libtbbmalloc.so.2 is not a symbolic link\n",
            "\n",
            "/sbin/ldconfig.real: /usr/local/lib/libhwloc.so.15 is not a symbolic link\n",
            "\n",
            "/sbin/ldconfig.real: /usr/local/lib/libumf.so.0 is not a symbolic link\n",
            "\n",
            "Processing triggers for man-db (2.10.2-1) ...\n",
            "Processing triggers for dbus (1.12.20-2ubuntu4.1) ...\n",
            "cp: missing destination file operand after '/usr/lib/chromium-brower/chromedriver/usr/bin'\n",
            "Try 'cp --help' for more information.\n"
          ]
        }
      ],
      "source": [
        "!pip install selenium\n",
        "!apt-get update\n",
        "!apt install chromium-chromedriver\n",
        "!cp /usr/lib/chromium-brower/chromedriver/usr/bin"
      ]
    },
    {
      "cell_type": "code",
      "execution_count": null,
      "metadata": {
        "colab": {
          "base_uri": "https://localhost:8080/"
        },
        "id": "LKWVyVQp_wgR",
        "outputId": "615111cc-ad4c-407d-b7b8-0c80014dc367"
      },
      "outputs": [
        {
          "name": "stdout",
          "output_type": "stream",
          "text": [
            "Requirement already satisfied: selenium in /usr/local/lib/python3.10/dist-packages (4.27.1)\n",
            "Requirement already satisfied: urllib3<3,>=1.26 in /usr/local/lib/python3.10/dist-packages (from urllib3[socks]<3,>=1.26->selenium) (2.2.3)\n",
            "Requirement already satisfied: trio~=0.17 in /usr/local/lib/python3.10/dist-packages (from selenium) (0.27.0)\n",
            "Requirement already satisfied: trio-websocket~=0.9 in /usr/local/lib/python3.10/dist-packages (from selenium) (0.11.1)\n",
            "Requirement already satisfied: certifi>=2021.10.8 in /usr/local/lib/python3.10/dist-packages (from selenium) (2024.8.30)\n",
            "Requirement already satisfied: typing_extensions~=4.9 in /usr/local/lib/python3.10/dist-packages (from selenium) (4.12.2)\n",
            "Requirement already satisfied: websocket-client~=1.8 in /usr/local/lib/python3.10/dist-packages (from selenium) (1.8.0)\n",
            "Requirement already satisfied: attrs>=23.2.0 in /usr/local/lib/python3.10/dist-packages (from trio~=0.17->selenium) (24.2.0)\n",
            "Requirement already satisfied: sortedcontainers in /usr/local/lib/python3.10/dist-packages (from trio~=0.17->selenium) (2.4.0)\n",
            "Requirement already satisfied: idna in /usr/local/lib/python3.10/dist-packages (from trio~=0.17->selenium) (3.10)\n",
            "Requirement already satisfied: outcome in /usr/local/lib/python3.10/dist-packages (from trio~=0.17->selenium) (1.3.0.post0)\n",
            "Requirement already satisfied: sniffio>=1.3.0 in /usr/local/lib/python3.10/dist-packages (from trio~=0.17->selenium) (1.3.1)\n",
            "Requirement already satisfied: exceptiongroup in /usr/local/lib/python3.10/dist-packages (from trio~=0.17->selenium) (1.2.2)\n",
            "Requirement already satisfied: wsproto>=0.14 in /usr/local/lib/python3.10/dist-packages (from trio-websocket~=0.9->selenium) (1.2.0)\n",
            "Requirement already satisfied: pysocks!=1.5.7,<2.0,>=1.5.6 in /usr/local/lib/python3.10/dist-packages (from urllib3[socks]<3,>=1.26->selenium) (1.7.1)\n",
            "Requirement already satisfied: h11<1,>=0.9.0 in /usr/local/lib/python3.10/dist-packages (from wsproto>=0.14->trio-websocket~=0.9->selenium) (0.14.0)\n",
            "Collecting webdriver_manager\n",
            "  Downloading webdriver_manager-4.0.2-py2.py3-none-any.whl.metadata (12 kB)\n",
            "Requirement already satisfied: requests in /usr/local/lib/python3.10/dist-packages (from webdriver_manager) (2.32.3)\n",
            "Collecting python-dotenv (from webdriver_manager)\n",
            "  Downloading python_dotenv-1.0.1-py3-none-any.whl.metadata (23 kB)\n",
            "Requirement already satisfied: packaging in /usr/local/lib/python3.10/dist-packages (from webdriver_manager) (24.2)\n",
            "Requirement already satisfied: charset-normalizer<4,>=2 in /usr/local/lib/python3.10/dist-packages (from requests->webdriver_manager) (3.4.0)\n",
            "Requirement already satisfied: idna<4,>=2.5 in /usr/local/lib/python3.10/dist-packages (from requests->webdriver_manager) (3.10)\n",
            "Requirement already satisfied: urllib3<3,>=1.21.1 in /usr/local/lib/python3.10/dist-packages (from requests->webdriver_manager) (2.2.3)\n",
            "Requirement already satisfied: certifi>=2017.4.17 in /usr/local/lib/python3.10/dist-packages (from requests->webdriver_manager) (2024.8.30)\n",
            "Downloading webdriver_manager-4.0.2-py2.py3-none-any.whl (27 kB)\n",
            "Downloading python_dotenv-1.0.1-py3-none-any.whl (19 kB)\n",
            "Installing collected packages: python-dotenv, webdriver_manager\n",
            "Successfully installed python-dotenv-1.0.1 webdriver_manager-4.0.2\n",
            "Mounted at /content/drive\n"
          ]
        }
      ],
      "source": [
        "import sys\n",
        "sys.path.insert(0,'/usr/lib/chromium-browser/chromedriver')\n",
        "\n",
        "!pip install selenium\n",
        "!pip install webdriver_manager\n",
        "\n",
        "from selenium import webdriver\n",
        "from selenium.webdriver.chrome.service import Service as ChromeService\n",
        "from selenium.webdriver.chrome.options import Options\n",
        "from webdriver_manager.chrome import ChromeDriverManager\n",
        "from bs4 import BeautifulSoup\n",
        "from selenium.webdriver.support.ui import Select\n",
        "import requests\n",
        "from urllib.parse import quote\n",
        "import time\n",
        "import pandas as pd\n",
        "from selenium.webdriver.common.by import By\n",
        "from selenium.webdriver.support.ui import WebDriverWait\n",
        "from selenium.webdriver.support import expected_conditions as EC\n",
        "from google.colab import drive\n",
        "drive.mount('/content/drive')"
      ]
    },
    {
      "cell_type": "code",
      "execution_count": null,
      "metadata": {
        "id": "hpHwyp4EfjMd"
      },
      "outputs": [],
      "source": [
        "options = Options()\n",
        "options.add_argument(\"--headless\")\n",
        "options.add_argument(\"--disable-dev-shm-usage\")\n",
        "options.add_argument(\"--no-sandbox\")\n",
        "driver = webdriver.Chrome(options=options)"
      ]
    },
    {
      "cell_type": "code",
      "execution_count": null,
      "metadata": {
        "id": "U7mYBboGjDQB"
      },
      "outputs": [],
      "source": [
        "store_info = pd.DataFrame()"
      ]
    },
    {
      "cell_type": "code",
      "execution_count": null,
      "metadata": {
        "id": "unjbKRNSieBX"
      },
      "outputs": [],
      "source": [
        "#url로 이동한 후 가게들의 고유 번호 찾기\n",
        "def store_id(driver):\n",
        "  global store_info\n",
        "\n",
        "  #치킨 카테고리 클릭\n",
        "  XPATH = '//*[@id=\"category\"]/ul/li[5]/span'\n",
        "  category_element = WebDriverWait(driver, 10).until(\n",
        "              EC.presence_of_element_located((By.XPATH, XPATH))\n",
        "          )\n",
        "  driver.execute_script(\"arguments[0].click();\", category_element)\n",
        "\n",
        "  #리뷰 많은 순서로 정렬하기\n",
        "  dropdown = driver.find_element(By.XPATH, '//*[@id=\"content\"]/div/div[1]/div[2]/div/select')\n",
        "  select = Select(dropdown)\n",
        "  time.sleep(1)\n",
        "  select.select_by_value(\"review_count\")\n",
        "\n",
        "  #치킨 카테고리에 속한 가게 20개의 고유 번호 찾기\n",
        "  for i in range(20):\n",
        "    stores = WebDriverWait(driver, 10).until(\n",
        "              EC.presence_of_all_elements_located((By.CSS_SELECTOR, \".restaurant-name.ng-binding\")))[:20]\n",
        "    stores[i].click()\n",
        "    time.sleep(2)\n",
        "\n",
        "    store_url = driver.current_url.rstrip('/').split('/')[-1] #가게 고유 번호\n",
        "    store_name = WebDriverWait(driver, 10).until(EC.element_to_be_clickable((By.CSS_SELECTOR, \".restaurant-name.ng-binding\"))).text\n",
        "    review_count = WebDriverWait(driver, 10).until(EC.visibility_of_element_located((By.CSS_SELECTOR, 'li[ng-class*=\"review\"] .ng-binding'))).text\n",
        "\n",
        "    data = pd.DataFrame({\n",
        "                  'id': [store_url], # 가게 ID\n",
        "                  'name' : [store_name],\n",
        "                  'review_count' : [review_count] #리뷰 수\n",
        "              })\n",
        "    store_info = pd.concat([store_info, data])\n",
        "    driver.back()\n",
        "    time.sleep(2)"
      ]
    },
    {
      "cell_type": "code",
      "execution_count": null,
      "metadata": {
        "id": "CJCFeCvBfmne"
      },
      "outputs": [],
      "source": [
        "def move_to_url(driver, search_key):\n",
        "  url = \"https://www.yogiyo.co.kr/mobile/#/\"\n",
        "  driver.get(url)\n",
        "  time.sleep(2)\n",
        "\n",
        "  search_box = driver.find_element(By.XPATH, '//*[@id=\"search\"]/div/form/input')\n",
        "  search_button = driver.find_element(By.XPATH, '//*[@id=\"button_search_address\"]/button[2]')\n",
        "\n",
        "  # 검색어 입력 및 버튼 클릭\n",
        "  search_box.send_keys(search_key)\n",
        "  time.sleep(1)\n",
        "  search_button.click()\n",
        "  time.sleep(2)\n",
        "  try:\n",
        "    elements = WebDriverWait(driver, 10).until(\n",
        "        EC.visibility_of_all_elements_located((By.CSS_SELECTOR, \".ng-binding.ng-scope\"))\n",
        "    )\n",
        "  except:\n",
        "    elements = None\n",
        "  if elements:\n",
        "    elements[1].click()\n",
        "  return driver"
      ]
    },
    {
      "cell_type": "code",
      "execution_count": null,
      "metadata": {
        "id": "sT7anXP4JrCy"
      },
      "outputs": [],
      "source": [
        "search_keys = ['서울 송파구 신천동 29-5 송파구청','마포구청','강남구청','관악구청','강서구청','성북구청',\n",
        "               '영등포구청','은평구청','양천구청','구로구청','서울특별시 종로구 예지동 293-1 종로광장시장','서울특별시 중구 남창동 4-2 남대문시장','명동','서울특별시 종로구 연건동 128-8 홍익대학교대학로캠퍼스',\n",
        "               '혜화동로터리','충무아트센터']\n",
        "\n",
        "for key in search_keys:\n",
        "  tell_driver = move_to_url(driver, key)\n",
        "  store_id(driver)\n",
        "base_url = \"https://www.yogiyo.co.kr/api/v1/reviews/\"\n",
        "store_info['review_url'] = [f\"{base_url}{store_id}/\" for store_id in store_info['id']]"
      ]
    },
    {
      "cell_type": "code",
      "execution_count": null,
      "metadata": {
        "id": "uyQyEqzIy9R5"
      },
      "outputs": [],
      "source": [
        "store_info.drop_duplicates(inplace=True)\n",
        "store_info.to_csv(\"/content/drive/MyDrive/yogigyo_store_id_data.csv\", index=False, encoding=\"utf-8\")"
      ]
    },
    {
      "cell_type": "markdown",
      "metadata": {
        "id": "ftLuvzw6fouv"
      },
      "source": [
        "### 2)음식점 리뷰 수집\n"
      ]
    },
    {
      "cell_type": "code",
      "execution_count": null,
      "metadata": {
        "id": "GRZeYqEfMjUA"
      },
      "outputs": [],
      "source": [
        "import math\n",
        "yogiyo_review = pd.DataFrame()\n",
        "store_info =pd.read_csv(\"/content/drive/MyDrive/yogigyo_store_id_data.csv\")\n",
        "\n",
        "for i in range(len(store_info)): #가게 하나씩 리뷰 수집하기\n",
        "  url = store_info['review_url'].iloc[i].strip() + '?count=10&only_photo_review=false&sort=time&'\n",
        "  store_id = store_info['id'].iloc[i]\n",
        "  store_name =store_info['name'].iloc[i]\n",
        "  num = int(store_info['review_count'].iloc[i])\n",
        "  max_review_page  = math.ceil(num / 10)\n",
        "\n",
        "  for j in range(1, max_review_page + 1):\n",
        "        set_url = url + f'page={j}'\n",
        "        response = requests.get(set_url)\n",
        "        temp_reviews = response.json()\n",
        "\n",
        "        for x in range(min(10, len(temp_reviews))):\n",
        "          menu = temp_reviews[x].get('menu_items', [])\n",
        "          menu_name = menu[0]['name'] if menu and 'name' in menu[0] else ''\n",
        "          reviews = pd.DataFrame({\n",
        "              'store_id': [store_id],  # 가게 ID\n",
        "              'store_name': [store_name],                     # 가게 이름\n",
        "              'comment': temp_reviews[x].get('comment', ''),  # 리뷰 내용\n",
        "              'rating': temp_reviews[x].get('rating', ''),    # 평점\n",
        "              'menu': [menu_name] # 메뉴\n",
        "          })\n",
        "          yogiyo_review = pd.concat([yogiyo_review, reviews], ignore_index=True)"
      ]
    },
    {
      "cell_type": "code",
      "execution_count": null,
      "metadata": {
        "id": "LgYNrSZrjpLx"
      },
      "outputs": [],
      "source": [
        "yogiyo_review.to_csv(\"/content/drive/MyDrive/yogigyo_Review_data.csv\", index=False, encoding=\"utf-8\")"
      ]
    },
    {
      "cell_type": "markdown",
      "metadata": {
        "id": "3l4Joa-dnpPi"
      },
      "source": [
        "## 1-2. 구글맵 리뷰 수집하기 <서울>"
      ]
    },
    {
      "cell_type": "markdown",
      "metadata": {
        "id": "Eznu-fuv_mk-"
      },
      "source": [
        "### 1) 구글맵 치킨집들의 개별 url과 가게 이름 수집하기\n",
        "\n",
        ": 가게의 이름은 같으나, 장소가 달라 url이 다른 row들 존재."
      ]
    },
    {
      "cell_type": "code",
      "execution_count": null,
      "metadata": {
        "id": "jHJXF9a_ojmD"
      },
      "outputs": [],
      "source": [
        "import urllib.parse"
      ]
    },
    {
      "cell_type": "code",
      "execution_count": null,
      "metadata": {
        "id": "Kzsi7s10OFVw"
      },
      "outputs": [],
      "source": [
        "options = Options()\n",
        "options.add_argument(\"--headless\")\n",
        "options.add_argument(\"--disable-dev-shm-usage\")\n",
        "options.add_argument(\"--no-sandbox\")\n",
        "driver = webdriver.Chrome(options=options)"
      ]
    },
    {
      "cell_type": "code",
      "execution_count": null,
      "metadata": {
        "id": "al7NqE_55s-F"
      },
      "outputs": [],
      "source": [
        "search_term =  urllib.parse.quote('치킨')\n",
        "url_list = [\n",
        "            f'https://www.google.com/maps/search/{search_term}/@37.5144533,127.1059047,15z/data=!3m1!4b1?hl=ko&entry=ttu&g_ep=EgoyMDI0MTEwNi4wIKXMDSoASAFQAw%3D%3D', #송파구청\n",
        "            f'https://www.google.com/maps/search/{search_term}/@37.566242,126.9019425,15z/data=!3m1!4b1?hl=ko&entry=ttu&g_ep=EgoyMDI0MTEwNi4wIKXMDSoASAFQAw%3D%3D', #마포구청\n",
        "            f'https://www.google.com/maps/search/{search_term}/@37.5175066,127.0473753,15z/data=!3m1!4b1?hl=ko&entry=ttu&g_ep=EgoyMDI0MTEwNi4wIKXMDSoASAFQAw%3D%3D',   #강남구청\n",
        "            f'https://www.google.com/maps/search/{search_term}/@37.4782605,126.9515208,15z/data=!3m1!4b1?hl=ko&entry=ttu&g_ep=EgoyMDI0MTEwNi4wIKXMDSoASAFQAw%3D%3D',  #관악구청\n",
        "            f'https://www.google.com/maps/search/{search_term}/@37.5509103,126.8495742,15z/data=!3m1!4b1?hl=ko&entry=ttu&g_ep=EgoyMDI0MTEwNi4wIKXMDSoASAFQAw%3D%3D',   #강서구청\n",
        "            f'https://www.google.com/maps/search/{search_term}/@37.589366,127.016743,15z/data=!3m1!4b1?hl=ko&entry=ttu&g_ep=EgoyMDI0MTEwNi4wIKXMDSoASAFQAw%3D%3D', #성북구청\n",
        "            f'https://www.google.com/maps/search/{search_term}/@37.5262625,126.8959528,15z/data=!3m1!4b1?hl=ko&entry=ttu&g_ep=EgoyMDI0MTExMC4wIKXMDSoASAFQAw%3D%3D', #영등포구청\n",
        "            f'https://www.google.com/maps/search/{search_term}/@37.602749,126.929256,15z/data=!3m1!4b1?hl=ko&entry=ttu&g_ep=EgoyMDI0MTExMC4wIKXMDSoASAFQAw%3D%3D',#은평구청\n",
        "            f'https://www.google.com/maps/search/{search_term}/@37.5169508,126.8665644,15z/data=!3m1!4b1?hl=ko&entry=ttu&g_ep=EgoyMDI0MTExMC4wIKXMDSoASAFQAw%3D%3D', #양천구청\n",
        "            f'https://www.google.com/maps/search/{search_term}/@37.4954703,126.8876391,15z/data=!3m1!4b1?hl=ko&entry=ttu&g_ep=EgoyMDI0MTExMC4wIKXMDSoASAFQAw%3D%3D', #구로구청\n",
        "            f'https://www.google.com/maps/search/{search_term}/@37.5700398,126.9996036,15z/data=!3m1!4b1?hl=ko&entry=ttu&g_ep=EgoyMDI0MTExMC4wIKXMDSoASAFQAw%3D%3D', #종로광장시장\n",
        "            f'https://www.google.com/maps/search/{search_term}/@37.5591786,126.9776692,15z/data=!3m1!4b1?hl=ko&entry=ttu&g_ep=EgoyMDI0MTExMC4wIKXMDSoASAFQAw%3D%3D', #남대문시장\n",
        "            f'https://www.google.com/maps/search/{search_term}/@37.55998,126.9858296,15z/data=!3m1!4b1?hl=ko&entry=ttu&g_ep=EgoyMDI0MTExMC4wIKXMDSoASAFQAw%3D%3D', #명동\n",
        "            f'https://www.google.com/maps/search/{search_term}/@37.5507563,126.9254901,15z/data=!3m1!4b1?hl=ko&entry=ttu&g_ep=EgoyMDI0MTExMC4wIKXMDSoASAFQAw%3D%3D',#홍익대\n",
        "            f'https://www.google.com/maps/search/{search_term}/@37.5855329,127.0012167,15z/data=!3m1!4b1?hl=ko&entry=ttu&g_ep=EgoyMDI0MTExMC4wIKXMDSoASAFQAw%3D%3D', #혜화동로터리\n",
        "            f'https://www.google.com/maps/search/{search_term}/@37.5659291,127.0148592,15z/data=!3m1!4b1?hl=ko&entry=ttu&g_ep=EgoyMDI0MTExMC4wIKXMDSoASAFQAw%3D%3D', #충무아트센터\n",
        "            f'https://www.google.com/maps/search/{search_term}/@37.4835872,127.0326987,15z/data=!3m1!4b1?hl=ko&entry=ttu&g_ep=EgoyMDI0MTExMS4wIKXMDSoASAFQAw%3D%3D', #서초구청\n",
        "            f'https://www.google.com/maps/search/{search_term}/@37.5742015,127.0398327,15z/data=!3m1!4b1?hl=ko&entry=ttu&g_ep=EgoyMDI0MTExMS4wIKXMDSoASAFQAw%3D%3D', #동대문구청\n",
        "            f'https://www.google.com/maps/search/{search_term}/@37.5124298,126.9397997,15z/data=!3m1!4b1?hl=ko&entry=ttu&g_ep=EgoyMDI0MTExMS4wIKXMDSoASAFQAw%3D%3D', #동작구청\n",
        "            f'https://www.google.com/maps/search/{search_term}/@37.6063046,127.0931523,15z/data=!3m1!4b1?hl=ko&entry=ttu&g_ep=EgoyMDI0MTExMS4wIKXMDSoASAFQAw%3D%3D', #중랑구청\n",
        "            f'https://www.google.com/maps/search/{search_term}/@37.6540782,127.0566045,15z/data=!3m1!4b1?hl=ko&entry=ttu&g_ep=EgoyMDI0MTExMS4wIKXMDSoASAFQAw%3D%3D', #노원구청\n",
        "            f'https://www.google.com/maps/search/{search_term}/@37.6397767,127.0255184,15z/data=!3m1!4b1?hl=ko&entry=ttu&g_ep=EgoyMDI0MTExMS4wIKXMDSoASAFQAw%3D%3D' #강북구청\n",
        "]"
      ]
    },
    {
      "cell_type": "code",
      "execution_count": null,
      "metadata": {
        "id": "UmBd41LR6mUQ"
      },
      "outputs": [],
      "source": [
        "google_map_store_info = pd.DataFrame()\n",
        "\n",
        "for url in url_list:\n",
        "    driver.delete_all_cookies()\n",
        "    driver.get(url)\n",
        "    time.sleep(2)\n",
        "    scroll_div = WebDriverWait(driver, 20).until(\n",
        "        EC.visibility_of_element_located((By.XPATH, '//*[@id=\"QA0Szd\"]/div/div/div[1]/div[2]/div/div[1]/div/div/div[1]/div[1]'))\n",
        "    )\n",
        "\n",
        "    # 페이지 끝까지 스크롤\n",
        "    last_height = driver.execute_script(\"return arguments[0].scrollHeight\", scroll_div)\n",
        "    while True:\n",
        "        driver.execute_script(\"arguments[0].scrollBy(0, 3000);\", scroll_div)\n",
        "        time.sleep(2)\n",
        "        new_height = driver.execute_script(\"return arguments[0].scrollHeight\", scroll_div)\n",
        "        if new_height == last_height:\n",
        "            break\n",
        "        last_height = new_height\n",
        "\n",
        "    for i in range(3,42,2): #20개의 가게 정보 수집\n",
        "      xpath = f'//*[@id=\"QA0Szd\"]/div/div/div[1]/div[2]/div/div[1]/div/div/div[1]/div[1]/div[{i}]/div'\n",
        "      store = driver.find_element(By.XPATH,xpath)\n",
        "      store_html = store.get_attribute('outerHTML')\n",
        "      soup = BeautifulSoup(store_html, 'html.parser')\n",
        "      tag = soup.find('a', class_=\"hfpxzc\")\n",
        "      store_name = tag.get(\"aria-label\")\n",
        "      store_url = tag.get(\"href\")\n",
        "      data = pd.DataFrame({\n",
        "          '가게 이름': [store_name],\n",
        "          'url': [store_url]\n",
        "      })\n",
        "\n",
        "      google_map_store_info = pd.concat([google_map_store_info, data], ignore_index=True)"
      ]
    },
    {
      "cell_type": "code",
      "execution_count": null,
      "metadata": {
        "id": "M76Na1AqUOR8"
      },
      "outputs": [],
      "source": [
        "google_map_store_info.drop_duplicates(inplace=True)"
      ]
    },
    {
      "cell_type": "code",
      "execution_count": null,
      "metadata": {
        "id": "iKcH0ZSVZONq"
      },
      "outputs": [],
      "source": [
        "google_map_store_info.to_csv(\"/content/drive/MyDrive/google_map_store.csv\", index=False, encoding=\"utf-8\")"
      ]
    },
    {
      "cell_type": "markdown",
      "metadata": {
        "id": "_uoNr_7uAJ0G"
      },
      "source": [
        "### 2) 구글맵 가게들의 리뷰와 별점 수집하기"
      ]
    },
    {
      "cell_type": "code",
      "execution_count": null,
      "metadata": {
        "id": "KAOH3dmx7ED_"
      },
      "outputs": [],
      "source": [
        "options = Options()\n",
        "options.add_argument(\"--headless\")\n",
        "options.add_argument(\"--disable-dev-shm-usage\")\n",
        "options.add_argument(\"--no-sandbox\")\n",
        "driver = webdriver.Chrome(options=options)"
      ]
    },
    {
      "cell_type": "code",
      "execution_count": null,
      "metadata": {
        "id": "MWSrXDi666Pv"
      },
      "outputs": [],
      "source": [
        "def scroll_to_end(driver):\n",
        "  scroll_div = WebDriverWait(driver, 10).until(\n",
        "        EC.presence_of_element_located((By.CSS_SELECTOR, \".m6QErb.DxyBCb.kA9KIf.dS8AEf.XiKgde\"))\n",
        "    )\n",
        "  last_height = driver.execute_script(\"return arguments[0].scrollHeight\", scroll_div)\n",
        "  print(f'first_height:{last_height}')\n",
        "  while True:\n",
        "    #15000\n",
        "    driver.execute_script(\"arguments[0].scrollBy(0, 100000);\", scroll_div)\n",
        "    time.sleep(2)\n",
        "    new_height = driver.execute_script(\"return arguments[0].scrollHeight\", scroll_div)\n",
        "\n",
        "    if new_height == last_height:\n",
        "      break\n",
        "    last_height = new_height\n",
        "  print(\"페이지 끝까지 스크롤 완료\")\n",
        "  print(f'end_height:{new_height}')"
      ]
    },
    {
      "cell_type": "code",
      "execution_count": null,
      "metadata": {
        "id": "safyG17Q-JRy"
      },
      "outputs": [],
      "source": [
        "store_info =pd.read_csv(\"/content/drive/MyDrive/google_map_store.csv\")\n",
        "google_map_review = pd.DataFrame()\n",
        "\n",
        "for idx,row in store_info.iterrows():\n",
        "  url = row['url']\n",
        "  driver.get(url)\n",
        "\n",
        "  store_name =row['가게 이름']\n",
        "  review_button = driver.find_element(By.XPATH,'//*[@id=\"QA0Szd\"]/div/div/div[1]/div[2]/div/div[1]/div/div/div[3]/div/div/button[2]/div[2]/div[2]')\n",
        "  review_button.click()\n",
        "  scroll_to_end(driver)\n",
        "\n",
        "  information =driver.find_elements(By.CSS_SELECTOR, \".GHT2ce:not([class*=' '])\")\n",
        "\n",
        "  for info in information:\n",
        "    info = info.get_attribute('outerHTML')\n",
        "    soup = BeautifulSoup(info, 'html.parser')\n",
        "    rating_tag = soup.find('span', {'aria-label': lambda x: x and '별표' in x})\n",
        "    rating = rating_tag['aria-label'] if rating_tag else \"\"\n",
        "\n",
        "    try:\n",
        "          more_button = driver.find_element(By.CSS_SELECTOR, 'button.w8nwRe.kyuRq[aria-label=\"더보기\"]')\n",
        "          more_button.click()\n",
        "          time.sleep(1)\n",
        "    except:\n",
        "          pass\n",
        "    comment_tag = soup.find('span', class_=\"wiI7pd\")\n",
        "    comment = comment_tag.text.strip() if comment_tag else \"\"\n",
        "    df = pd.DataFrame({\n",
        "        '가게 이름': [store_name],\n",
        "        '코멘트': [comment],\n",
        "        '별점': [rating]\n",
        "    })\n",
        "    google_map_review = pd.concat([google_map_review,df])"
      ]
    },
    {
      "cell_type": "code",
      "execution_count": null,
      "metadata": {
        "id": "MxsKlrgSZ2V6"
      },
      "outputs": [],
      "source": [
        "google_map_review.to_csv(\"/content/drive/MyDrive/google_map_review.csv\", index=False, encoding=\"utf-8\")"
      ]
    },
    {
      "cell_type": "markdown",
      "metadata": {
        "id": "XzmtoDNwEJ0F"
      },
      "source": [
        "# 2. 데이터 전처리"
      ]
    },
    {
      "cell_type": "markdown",
      "metadata": {
        "id": "dOhYPik2Eynb"
      },
      "source": [
        "## 2-1) 데이터 정제"
      ]
    },
    {
      "cell_type": "code",
      "execution_count": null,
      "metadata": {
        "colab": {
          "base_uri": "https://localhost:8080/"
        },
        "id": "Z56rGJcZENBr",
        "outputId": "91874f64-fb61-40fe-bcf0-2da7a1adb75a"
      },
      "outputs": [
        {
          "name": "stdout",
          "output_type": "stream",
          "text": [
            "Mounted at /content/drive\n"
          ]
        }
      ],
      "source": [
        "from google.colab import drive\n",
        "drive.mount('/content/drive')\n",
        "from sklearn.model_selection import GridSearchCV\n",
        "from sklearn.ensemble import RandomForestRegressor\n",
        "import pandas as pd\n",
        "import numpy as np\n",
        "import ast\n",
        "import re\n",
        "from sklearn.model_selection import train_test_split\n",
        "import matplotlib.pyplot as plt\n",
        "import seaborn as sns"
      ]
    },
    {
      "cell_type": "code",
      "execution_count": null,
      "metadata": {
        "colab": {
          "base_uri": "https://localhost:8080/",
          "height": 1000
        },
        "id": "r92pV-HCiqg-",
        "outputId": "fc132b12-ed6f-4254-d26a-d076be7fcc2e"
      },
      "outputs": [
        {
          "name": "stdout",
          "output_type": "stream",
          "text": [
            "Collecting git+https://github.com/haven-jeon/PyKoSpacing.git\n",
            "  Cloning https://github.com/haven-jeon/PyKoSpacing.git to /tmp/pip-req-build-9yqqdjlg\n",
            "  Running command git clone --filter=blob:none --quiet https://github.com/haven-jeon/PyKoSpacing.git /tmp/pip-req-build-9yqqdjlg\n",
            "  Resolved https://github.com/haven-jeon/PyKoSpacing.git to commit b32a889cbd10b006d2f4aba118f0cd5b677e2979\n",
            "  Preparing metadata (setup.py) ... \u001b[?25l\u001b[?25hdone\n",
            "Requirement already satisfied: tensorflow>=2.16.2 in /usr/local/lib/python3.10/dist-packages (from pykospacing==0.5) (2.17.1)\n",
            "Requirement already satisfied: h5py>=3.10.0 in /usr/local/lib/python3.10/dist-packages (from pykospacing==0.5) (3.12.1)\n",
            "Collecting argparse>=1.1.0 (from pykospacing==0.5)\n",
            "  Downloading argparse-1.4.0-py2.py3-none-any.whl.metadata (2.8 kB)\n",
            "Requirement already satisfied: numpy>=1.19.3 in /usr/local/lib/python3.10/dist-packages (from h5py>=3.10.0->pykospacing==0.5) (1.26.4)\n",
            "Requirement already satisfied: absl-py>=1.0.0 in /usr/local/lib/python3.10/dist-packages (from tensorflow>=2.16.2->pykospacing==0.5) (1.4.0)\n",
            "Requirement already satisfied: astunparse>=1.6.0 in /usr/local/lib/python3.10/dist-packages (from tensorflow>=2.16.2->pykospacing==0.5) (1.6.3)\n",
            "Requirement already satisfied: flatbuffers>=24.3.25 in /usr/local/lib/python3.10/dist-packages (from tensorflow>=2.16.2->pykospacing==0.5) (24.3.25)\n",
            "Requirement already satisfied: gast!=0.5.0,!=0.5.1,!=0.5.2,>=0.2.1 in /usr/local/lib/python3.10/dist-packages (from tensorflow>=2.16.2->pykospacing==0.5) (0.6.0)\n",
            "Requirement already satisfied: google-pasta>=0.1.1 in /usr/local/lib/python3.10/dist-packages (from tensorflow>=2.16.2->pykospacing==0.5) (0.2.0)\n",
            "Requirement already satisfied: libclang>=13.0.0 in /usr/local/lib/python3.10/dist-packages (from tensorflow>=2.16.2->pykospacing==0.5) (18.1.1)\n",
            "Requirement already satisfied: ml-dtypes<0.5.0,>=0.3.1 in /usr/local/lib/python3.10/dist-packages (from tensorflow>=2.16.2->pykospacing==0.5) (0.4.1)\n",
            "Requirement already satisfied: opt-einsum>=2.3.2 in /usr/local/lib/python3.10/dist-packages (from tensorflow>=2.16.2->pykospacing==0.5) (3.4.0)\n",
            "Requirement already satisfied: packaging in /usr/local/lib/python3.10/dist-packages (from tensorflow>=2.16.2->pykospacing==0.5) (24.2)\n",
            "Requirement already satisfied: protobuf!=4.21.0,!=4.21.1,!=4.21.2,!=4.21.3,!=4.21.4,!=4.21.5,<5.0.0dev,>=3.20.3 in /usr/local/lib/python3.10/dist-packages (from tensorflow>=2.16.2->pykospacing==0.5) (4.25.5)\n",
            "Requirement already satisfied: requests<3,>=2.21.0 in /usr/local/lib/python3.10/dist-packages (from tensorflow>=2.16.2->pykospacing==0.5) (2.32.3)\n",
            "Requirement already satisfied: setuptools in /usr/local/lib/python3.10/dist-packages (from tensorflow>=2.16.2->pykospacing==0.5) (75.1.0)\n",
            "Requirement already satisfied: six>=1.12.0 in /usr/local/lib/python3.10/dist-packages (from tensorflow>=2.16.2->pykospacing==0.5) (1.16.0)\n",
            "Requirement already satisfied: termcolor>=1.1.0 in /usr/local/lib/python3.10/dist-packages (from tensorflow>=2.16.2->pykospacing==0.5) (2.5.0)\n",
            "Requirement already satisfied: typing-extensions>=3.6.6 in /usr/local/lib/python3.10/dist-packages (from tensorflow>=2.16.2->pykospacing==0.5) (4.12.2)\n",
            "Requirement already satisfied: wrapt>=1.11.0 in /usr/local/lib/python3.10/dist-packages (from tensorflow>=2.16.2->pykospacing==0.5) (1.16.0)\n",
            "Requirement already satisfied: grpcio<2.0,>=1.24.3 in /usr/local/lib/python3.10/dist-packages (from tensorflow>=2.16.2->pykospacing==0.5) (1.68.0)\n",
            "Requirement already satisfied: tensorboard<2.18,>=2.17 in /usr/local/lib/python3.10/dist-packages (from tensorflow>=2.16.2->pykospacing==0.5) (2.17.1)\n",
            "Requirement already satisfied: keras>=3.2.0 in /usr/local/lib/python3.10/dist-packages (from tensorflow>=2.16.2->pykospacing==0.5) (3.5.0)\n",
            "Requirement already satisfied: tensorflow-io-gcs-filesystem>=0.23.1 in /usr/local/lib/python3.10/dist-packages (from tensorflow>=2.16.2->pykospacing==0.5) (0.37.1)\n",
            "Requirement already satisfied: wheel<1.0,>=0.23.0 in /usr/local/lib/python3.10/dist-packages (from astunparse>=1.6.0->tensorflow>=2.16.2->pykospacing==0.5) (0.45.0)\n",
            "Requirement already satisfied: rich in /usr/local/lib/python3.10/dist-packages (from keras>=3.2.0->tensorflow>=2.16.2->pykospacing==0.5) (13.9.4)\n",
            "Requirement already satisfied: namex in /usr/local/lib/python3.10/dist-packages (from keras>=3.2.0->tensorflow>=2.16.2->pykospacing==0.5) (0.0.8)\n",
            "Requirement already satisfied: optree in /usr/local/lib/python3.10/dist-packages (from keras>=3.2.0->tensorflow>=2.16.2->pykospacing==0.5) (0.13.1)\n",
            "Requirement already satisfied: charset-normalizer<4,>=2 in /usr/local/lib/python3.10/dist-packages (from requests<3,>=2.21.0->tensorflow>=2.16.2->pykospacing==0.5) (3.4.0)\n",
            "Requirement already satisfied: idna<4,>=2.5 in /usr/local/lib/python3.10/dist-packages (from requests<3,>=2.21.0->tensorflow>=2.16.2->pykospacing==0.5) (3.10)\n",
            "Requirement already satisfied: urllib3<3,>=1.21.1 in /usr/local/lib/python3.10/dist-packages (from requests<3,>=2.21.0->tensorflow>=2.16.2->pykospacing==0.5) (2.2.3)\n",
            "Requirement already satisfied: certifi>=2017.4.17 in /usr/local/lib/python3.10/dist-packages (from requests<3,>=2.21.0->tensorflow>=2.16.2->pykospacing==0.5) (2024.8.30)\n",
            "Requirement already satisfied: markdown>=2.6.8 in /usr/local/lib/python3.10/dist-packages (from tensorboard<2.18,>=2.17->tensorflow>=2.16.2->pykospacing==0.5) (3.7)\n",
            "Requirement already satisfied: tensorboard-data-server<0.8.0,>=0.7.0 in /usr/local/lib/python3.10/dist-packages (from tensorboard<2.18,>=2.17->tensorflow>=2.16.2->pykospacing==0.5) (0.7.2)\n",
            "Requirement already satisfied: werkzeug>=1.0.1 in /usr/local/lib/python3.10/dist-packages (from tensorboard<2.18,>=2.17->tensorflow>=2.16.2->pykospacing==0.5) (3.1.3)\n",
            "Requirement already satisfied: MarkupSafe>=2.1.1 in /usr/local/lib/python3.10/dist-packages (from werkzeug>=1.0.1->tensorboard<2.18,>=2.17->tensorflow>=2.16.2->pykospacing==0.5) (3.0.2)\n",
            "Requirement already satisfied: markdown-it-py>=2.2.0 in /usr/local/lib/python3.10/dist-packages (from rich->keras>=3.2.0->tensorflow>=2.16.2->pykospacing==0.5) (3.0.0)\n",
            "Requirement already satisfied: pygments<3.0.0,>=2.13.0 in /usr/local/lib/python3.10/dist-packages (from rich->keras>=3.2.0->tensorflow>=2.16.2->pykospacing==0.5) (2.18.0)\n",
            "Requirement already satisfied: mdurl~=0.1 in /usr/local/lib/python3.10/dist-packages (from markdown-it-py>=2.2.0->rich->keras>=3.2.0->tensorflow>=2.16.2->pykospacing==0.5) (0.1.2)\n",
            "Downloading argparse-1.4.0-py2.py3-none-any.whl (23 kB)\n",
            "Building wheels for collected packages: pykospacing\n",
            "  Building wheel for pykospacing (setup.py) ... \u001b[?25l\u001b[?25hdone\n",
            "  Created wheel for pykospacing: filename=pykospacing-0.5-py3-none-any.whl size=2286921 sha256=d78af2399a642fc8846150f2331df331d03ea831af534f6f9034700ed703e146\n",
            "  Stored in directory: /tmp/pip-ephem-wheel-cache-1r8mm2a6/wheels/76/b3/33/dda14886ee76b8e53eb05580a14dfcf9145e9eb9d282c53f28\n",
            "Successfully built pykospacing\n",
            "Installing collected packages: argparse, pykospacing\n",
            "Successfully installed argparse-1.4.0 pykospacing-0.5\n"
          ]
        },
        {
          "data": {
            "application/vnd.colab-display-data+json": {
              "id": "cbfdbba3060f4657819a00b928d70ddc",
              "pip_warning": {
                "packages": [
                  "argparse"
                ]
              }
            }
          },
          "metadata": {},
          "output_type": "display_data"
        }
      ],
      "source": [
        "!pip install git+https://github.com/haven-jeon/PyKoSpacing.git"
      ]
    },
    {
      "cell_type": "code",
      "execution_count": null,
      "metadata": {
        "id": "LUmj5ZX1b5P6"
      },
      "outputs": [],
      "source": [
        "df_seoul = pd.read_csv(\"/content/drive/MyDrive/google_map_review.csv\")\n",
        "df_gwangju = pd.read_csv(\"/content/drive/MyDrive/google_map_review_광주_전남.csv\")\n",
        "df_3 = pd.read_csv(\"/content/drive/MyDrive/google_map_review_대구.csv\")\n",
        "df_4 = pd.read_csv(\"/content/drive/MyDrive/google_map_review_울산.csv\")\n",
        "df_5 = pd.read_csv(\"/content/drive/MyDrive/google_map_review_경기도.csv\")\n",
        "df_6 = pd.read_csv(\"/content/drive/MyDrive/google_map_review_대전.csv\")\n",
        "df_7 = pd.read_csv(\"/content/drive/MyDrive/google_map_review_부산.csv\")\n",
        "df_8 = pd.read_csv(\"/content/drive/MyDrive/google_map_review_인천.csv\")\n",
        "df_9 = pd.read_csv(\"/content/drive/MyDrive/google_map_review_제주.csv\")\n",
        "df_combined = pd.concat([df_seoul, df_gwangju, df_3, df_4,df_5,df_6,df_7,df_8,df_9], ignore_index=True)"
      ]
    },
    {
      "cell_type": "code",
      "execution_count": null,
      "metadata": {
        "id": "eCBwTzDycvFF"
      },
      "outputs": [],
      "source": [
        "google_map_data = df_combined"
      ]
    },
    {
      "cell_type": "code",
      "execution_count": null,
      "metadata": {
        "id": "elkDGTZNUMXE"
      },
      "outputs": [],
      "source": [
        "yogiyo_data = pd.read_csv(\"/content/drive/MyDrive/yogigyo_Review_data.csv\")"
      ]
    },
    {
      "cell_type": "code",
      "execution_count": null,
      "metadata": {
        "id": "2qkqgVVqEj09"
      },
      "outputs": [],
      "source": [
        "# 별점 숫자로 변경\n",
        "google_map_data['별점'] = google_map_data['별점'].str.extract('(\\d+)').astype(int)\n",
        "# nan 값 제거\n",
        "google_map_data = google_map_data.dropna()\n",
        "# 중복 제거\n",
        "google_map_data = google_map_data.drop_duplicates(subset=['가게 이름', '코멘트', '별점'])\n",
        "# 열 이름 맞춤\n",
        "google_map_data.columns = ['store_name', 'comment', 'rating']\n",
        "# 인덱스 리셋\n",
        "google_map_data.reset_index(drop=True, inplace=True)\n",
        "google_map_data.to_csv(\"/content/drive/MyDrive/google_map_review_final.csv\")"
      ]
    },
    {
      "cell_type": "code",
      "execution_count": null,
      "metadata": {
        "id": "1Xa5Q80JEsd0"
      },
      "outputs": [],
      "source": [
        "# 'store_name', 'menu' 열 삭제\n",
        "yogiyo_data = yogiyo_data.drop(['store_name', 'menu'], axis=1)\n",
        "# nan 값 제거\n",
        "yogiyo_data = yogiyo_data.dropna()\n",
        "# 중복 제거\n",
        "yogiyo_data = yogiyo_data.drop_duplicates(subset=['store_id', 'comment', 'rating'])\n",
        "# 인덱스 리셋\n",
        "yogiyo_data.reset_index(drop=True, inplace=True)\n",
        "yogiyo_data.to_csv(\"/content/drive/MyDrive/yogigyo_Review_data.csv\")"
      ]
    },
    {
      "cell_type": "code",
      "execution_count": null,
      "metadata": {
        "colab": {
          "base_uri": "https://localhost:8080/",
          "height": 206
        },
        "id": "Uma9gu_P8E-8",
        "outputId": "c77b044e-a68c-4857-ff6e-2322f69fbc95"
      },
      "outputs": [
        {
          "data": {
            "application/vnd.google.colaboratory.intrinsic+json": {
              "summary": "{\n  \"name\": \"yogiyo_data\",\n  \"rows\": 37840,\n  \"fields\": [\n    {\n      \"column\": \"Unnamed: 0\",\n      \"properties\": {\n        \"dtype\": \"number\",\n        \"std\": 10923,\n        \"min\": 0,\n        \"max\": 37839,\n        \"num_unique_values\": 37840,\n        \"samples\": [\n          9073,\n          35180,\n          12599\n        ],\n        \"semantic_type\": \"\",\n        \"description\": \"\"\n      }\n    },\n    {\n      \"column\": \"store_id\",\n      \"properties\": {\n        \"dtype\": \"number\",\n        \"std\": 292386,\n        \"min\": 11732,\n        \"max\": 1146090,\n        \"num_unique_values\": 22,\n        \"samples\": [\n          82027,\n          1132161,\n          296920\n        ],\n        \"semantic_type\": \"\",\n        \"description\": \"\"\n      }\n    },\n    {\n      \"column\": \"comment\",\n      \"properties\": {\n        \"dtype\": \"string\",\n        \"num_unique_values\": 35723,\n        \"samples\": [\n          \"\\uba39\\uc744\\ub54c \\ub9c8\\ub2e4 \\uac10\\ud0c4\\ud574\\uc694...\",\n          \"\\ub370\\ub9ac\\ubc84\\uac70 \\ub9db\\uc788\\uc5b4\\uc694.\\ub2e4\\uc74c\\uc5d0 \\ub610 \\uc8fc\\ubb38\\ud558\\uaca0\\uc2b5\\ub2c8\\ub2e4.\",\n          \"\\ub9db\\uc788\\uac8c \\uc798 \\uba39\\uc5c8\\uc5b4\\uc694\\n\\uac10\\uc0ac\\ud569\\ub2c8\\ub2e4\"\n        ],\n        \"semantic_type\": \"\",\n        \"description\": \"\"\n      }\n    },\n    {\n      \"column\": \"rating\",\n      \"properties\": {\n        \"dtype\": \"number\",\n        \"std\": 0,\n        \"min\": 1,\n        \"max\": 5,\n        \"num_unique_values\": 5,\n        \"samples\": [\n          1,\n          3,\n          4\n        ],\n        \"semantic_type\": \"\",\n        \"description\": \"\"\n      }\n    }\n  ]\n}",
              "type": "dataframe",
              "variable_name": "yogiyo_data"
            },
            "text/html": [
              "\n",
              "  <div id=\"df-3bdea95f-dbd6-4120-98bd-938a625e4ac3\" class=\"colab-df-container\">\n",
              "    <div>\n",
              "<style scoped>\n",
              "    .dataframe tbody tr th:only-of-type {\n",
              "        vertical-align: middle;\n",
              "    }\n",
              "\n",
              "    .dataframe tbody tr th {\n",
              "        vertical-align: top;\n",
              "    }\n",
              "\n",
              "    .dataframe thead th {\n",
              "        text-align: right;\n",
              "    }\n",
              "</style>\n",
              "<table border=\"1\" class=\"dataframe\">\n",
              "  <thead>\n",
              "    <tr style=\"text-align: right;\">\n",
              "      <th></th>\n",
              "      <th>Unnamed: 0</th>\n",
              "      <th>store_id</th>\n",
              "      <th>comment</th>\n",
              "      <th>rating</th>\n",
              "    </tr>\n",
              "  </thead>\n",
              "  <tbody>\n",
              "    <tr>\n",
              "      <th>0</th>\n",
              "      <td>0</td>\n",
              "      <td>82027</td>\n",
              "      <td>뿌링클은 언제나 맛있긴 해요 소스가 오래된건지 젤리처럼 굳어서 왔어요.</td>\n",
              "      <td>5</td>\n",
              "    </tr>\n",
              "    <tr>\n",
              "      <th>1</th>\n",
              "      <td>1</td>\n",
              "      <td>82027</td>\n",
              "      <td>오늘은 양념을 더 넉넉히 입혀주셔서 맛있게 먹었어요 ~</td>\n",
              "      <td>5</td>\n",
              "    </tr>\n",
              "    <tr>\n",
              "      <th>2</th>\n",
              "      <td>2</td>\n",
              "      <td>82027</td>\n",
              "      <td>넘 비삭비삭하게 맛나게 잘먹었어요~</td>\n",
              "      <td>5</td>\n",
              "    </tr>\n",
              "    <tr>\n",
              "      <th>3</th>\n",
              "      <td>3</td>\n",
              "      <td>82027</td>\n",
              "      <td>잘받았고 재구매예정입니다</td>\n",
              "      <td>5</td>\n",
              "    </tr>\n",
              "    <tr>\n",
              "      <th>4</th>\n",
              "      <td>4</td>\n",
              "      <td>82027</td>\n",
              "      <td>닭이 뼈만 있네요. bhc 오랫동안 먹었는데 이런 닭은 처음이예요.</td>\n",
              "      <td>1</td>\n",
              "    </tr>\n",
              "  </tbody>\n",
              "</table>\n",
              "</div>\n",
              "    <div class=\"colab-df-buttons\">\n",
              "\n",
              "  <div class=\"colab-df-container\">\n",
              "    <button class=\"colab-df-convert\" onclick=\"convertToInteractive('df-3bdea95f-dbd6-4120-98bd-938a625e4ac3')\"\n",
              "            title=\"Convert this dataframe to an interactive table.\"\n",
              "            style=\"display:none;\">\n",
              "\n",
              "  <svg xmlns=\"http://www.w3.org/2000/svg\" height=\"24px\" viewBox=\"0 -960 960 960\">\n",
              "    <path d=\"M120-120v-720h720v720H120Zm60-500h600v-160H180v160Zm220 220h160v-160H400v160Zm0 220h160v-160H400v160ZM180-400h160v-160H180v160Zm440 0h160v-160H620v160ZM180-180h160v-160H180v160Zm440 0h160v-160H620v160Z\"/>\n",
              "  </svg>\n",
              "    </button>\n",
              "\n",
              "  <style>\n",
              "    .colab-df-container {\n",
              "      display:flex;\n",
              "      gap: 12px;\n",
              "    }\n",
              "\n",
              "    .colab-df-convert {\n",
              "      background-color: #E8F0FE;\n",
              "      border: none;\n",
              "      border-radius: 50%;\n",
              "      cursor: pointer;\n",
              "      display: none;\n",
              "      fill: #1967D2;\n",
              "      height: 32px;\n",
              "      padding: 0 0 0 0;\n",
              "      width: 32px;\n",
              "    }\n",
              "\n",
              "    .colab-df-convert:hover {\n",
              "      background-color: #E2EBFA;\n",
              "      box-shadow: 0px 1px 2px rgba(60, 64, 67, 0.3), 0px 1px 3px 1px rgba(60, 64, 67, 0.15);\n",
              "      fill: #174EA6;\n",
              "    }\n",
              "\n",
              "    .colab-df-buttons div {\n",
              "      margin-bottom: 4px;\n",
              "    }\n",
              "\n",
              "    [theme=dark] .colab-df-convert {\n",
              "      background-color: #3B4455;\n",
              "      fill: #D2E3FC;\n",
              "    }\n",
              "\n",
              "    [theme=dark] .colab-df-convert:hover {\n",
              "      background-color: #434B5C;\n",
              "      box-shadow: 0px 1px 3px 1px rgba(0, 0, 0, 0.15);\n",
              "      filter: drop-shadow(0px 1px 2px rgba(0, 0, 0, 0.3));\n",
              "      fill: #FFFFFF;\n",
              "    }\n",
              "  </style>\n",
              "\n",
              "    <script>\n",
              "      const buttonEl =\n",
              "        document.querySelector('#df-3bdea95f-dbd6-4120-98bd-938a625e4ac3 button.colab-df-convert');\n",
              "      buttonEl.style.display =\n",
              "        google.colab.kernel.accessAllowed ? 'block' : 'none';\n",
              "\n",
              "      async function convertToInteractive(key) {\n",
              "        const element = document.querySelector('#df-3bdea95f-dbd6-4120-98bd-938a625e4ac3');\n",
              "        const dataTable =\n",
              "          await google.colab.kernel.invokeFunction('convertToInteractive',\n",
              "                                                    [key], {});\n",
              "        if (!dataTable) return;\n",
              "\n",
              "        const docLinkHtml = 'Like what you see? Visit the ' +\n",
              "          '<a target=\"_blank\" href=https://colab.research.google.com/notebooks/data_table.ipynb>data table notebook</a>'\n",
              "          + ' to learn more about interactive tables.';\n",
              "        element.innerHTML = '';\n",
              "        dataTable['output_type'] = 'display_data';\n",
              "        await google.colab.output.renderOutput(dataTable, element);\n",
              "        const docLink = document.createElement('div');\n",
              "        docLink.innerHTML = docLinkHtml;\n",
              "        element.appendChild(docLink);\n",
              "      }\n",
              "    </script>\n",
              "  </div>\n",
              "\n",
              "\n",
              "<div id=\"df-a0c3c103-2c72-481d-99e3-87888a5a5e60\">\n",
              "  <button class=\"colab-df-quickchart\" onclick=\"quickchart('df-a0c3c103-2c72-481d-99e3-87888a5a5e60')\"\n",
              "            title=\"Suggest charts\"\n",
              "            style=\"display:none;\">\n",
              "\n",
              "<svg xmlns=\"http://www.w3.org/2000/svg\" height=\"24px\"viewBox=\"0 0 24 24\"\n",
              "     width=\"24px\">\n",
              "    <g>\n",
              "        <path d=\"M19 3H5c-1.1 0-2 .9-2 2v14c0 1.1.9 2 2 2h14c1.1 0 2-.9 2-2V5c0-1.1-.9-2-2-2zM9 17H7v-7h2v7zm4 0h-2V7h2v10zm4 0h-2v-4h2v4z\"/>\n",
              "    </g>\n",
              "</svg>\n",
              "  </button>\n",
              "\n",
              "<style>\n",
              "  .colab-df-quickchart {\n",
              "      --bg-color: #E8F0FE;\n",
              "      --fill-color: #1967D2;\n",
              "      --hover-bg-color: #E2EBFA;\n",
              "      --hover-fill-color: #174EA6;\n",
              "      --disabled-fill-color: #AAA;\n",
              "      --disabled-bg-color: #DDD;\n",
              "  }\n",
              "\n",
              "  [theme=dark] .colab-df-quickchart {\n",
              "      --bg-color: #3B4455;\n",
              "      --fill-color: #D2E3FC;\n",
              "      --hover-bg-color: #434B5C;\n",
              "      --hover-fill-color: #FFFFFF;\n",
              "      --disabled-bg-color: #3B4455;\n",
              "      --disabled-fill-color: #666;\n",
              "  }\n",
              "\n",
              "  .colab-df-quickchart {\n",
              "    background-color: var(--bg-color);\n",
              "    border: none;\n",
              "    border-radius: 50%;\n",
              "    cursor: pointer;\n",
              "    display: none;\n",
              "    fill: var(--fill-color);\n",
              "    height: 32px;\n",
              "    padding: 0;\n",
              "    width: 32px;\n",
              "  }\n",
              "\n",
              "  .colab-df-quickchart:hover {\n",
              "    background-color: var(--hover-bg-color);\n",
              "    box-shadow: 0 1px 2px rgba(60, 64, 67, 0.3), 0 1px 3px 1px rgba(60, 64, 67, 0.15);\n",
              "    fill: var(--button-hover-fill-color);\n",
              "  }\n",
              "\n",
              "  .colab-df-quickchart-complete:disabled,\n",
              "  .colab-df-quickchart-complete:disabled:hover {\n",
              "    background-color: var(--disabled-bg-color);\n",
              "    fill: var(--disabled-fill-color);\n",
              "    box-shadow: none;\n",
              "  }\n",
              "\n",
              "  .colab-df-spinner {\n",
              "    border: 2px solid var(--fill-color);\n",
              "    border-color: transparent;\n",
              "    border-bottom-color: var(--fill-color);\n",
              "    animation:\n",
              "      spin 1s steps(1) infinite;\n",
              "  }\n",
              "\n",
              "  @keyframes spin {\n",
              "    0% {\n",
              "      border-color: transparent;\n",
              "      border-bottom-color: var(--fill-color);\n",
              "      border-left-color: var(--fill-color);\n",
              "    }\n",
              "    20% {\n",
              "      border-color: transparent;\n",
              "      border-left-color: var(--fill-color);\n",
              "      border-top-color: var(--fill-color);\n",
              "    }\n",
              "    30% {\n",
              "      border-color: transparent;\n",
              "      border-left-color: var(--fill-color);\n",
              "      border-top-color: var(--fill-color);\n",
              "      border-right-color: var(--fill-color);\n",
              "    }\n",
              "    40% {\n",
              "      border-color: transparent;\n",
              "      border-right-color: var(--fill-color);\n",
              "      border-top-color: var(--fill-color);\n",
              "    }\n",
              "    60% {\n",
              "      border-color: transparent;\n",
              "      border-right-color: var(--fill-color);\n",
              "    }\n",
              "    80% {\n",
              "      border-color: transparent;\n",
              "      border-right-color: var(--fill-color);\n",
              "      border-bottom-color: var(--fill-color);\n",
              "    }\n",
              "    90% {\n",
              "      border-color: transparent;\n",
              "      border-bottom-color: var(--fill-color);\n",
              "    }\n",
              "  }\n",
              "</style>\n",
              "\n",
              "  <script>\n",
              "    async function quickchart(key) {\n",
              "      const quickchartButtonEl =\n",
              "        document.querySelector('#' + key + ' button');\n",
              "      quickchartButtonEl.disabled = true;  // To prevent multiple clicks.\n",
              "      quickchartButtonEl.classList.add('colab-df-spinner');\n",
              "      try {\n",
              "        const charts = await google.colab.kernel.invokeFunction(\n",
              "            'suggestCharts', [key], {});\n",
              "      } catch (error) {\n",
              "        console.error('Error during call to suggestCharts:', error);\n",
              "      }\n",
              "      quickchartButtonEl.classList.remove('colab-df-spinner');\n",
              "      quickchartButtonEl.classList.add('colab-df-quickchart-complete');\n",
              "    }\n",
              "    (() => {\n",
              "      let quickchartButtonEl =\n",
              "        document.querySelector('#df-a0c3c103-2c72-481d-99e3-87888a5a5e60 button');\n",
              "      quickchartButtonEl.style.display =\n",
              "        google.colab.kernel.accessAllowed ? 'block' : 'none';\n",
              "    })();\n",
              "  </script>\n",
              "</div>\n",
              "\n",
              "    </div>\n",
              "  </div>\n"
            ],
            "text/plain": [
              "   Unnamed: 0  store_id                                  comment  rating\n",
              "0           0     82027  뿌링클은 언제나 맛있긴 해요 소스가 오래된건지 젤리처럼 굳어서 왔어요.       5\n",
              "1           1     82027           오늘은 양념을 더 넉넉히 입혀주셔서 맛있게 먹었어요 ~       5\n",
              "2           2     82027                      넘 비삭비삭하게 맛나게 잘먹었어요~       5\n",
              "3           3     82027                            잘받았고 재구매예정입니다       5\n",
              "4           4     82027    닭이 뼈만 있네요. bhc 오랫동안 먹었는데 이런 닭은 처음이예요.       1"
            ]
          },
          "execution_count": 34,
          "metadata": {},
          "output_type": "execute_result"
        }
      ],
      "source": [
        "yogiyo_data.head()"
      ]
    },
    {
      "cell_type": "code",
      "execution_count": null,
      "metadata": {
        "colab": {
          "base_uri": "https://localhost:8080/"
        },
        "id": "Oo9bhohM8Ax_",
        "outputId": "d056ab2a-f3b9-4970-f584-4d1adf4fbd65"
      },
      "outputs": [
        {
          "data": {
            "text/plain": [
              "(37840, 4)"
            ]
          },
          "execution_count": 33,
          "metadata": {},
          "output_type": "execute_result"
        }
      ],
      "source": [
        "yogiyo_data.shape"
      ]
    },
    {
      "cell_type": "code",
      "execution_count": null,
      "metadata": {
        "colab": {
          "base_uri": "https://localhost:8080/",
          "height": 461
        },
        "id": "Vqbrp6lzEulc",
        "outputId": "d0fc057c-6b91-4d39-9236-7c401b4e97db"
      },
      "outputs": [
        {
          "data": {
            "image/png": "[encoded data removed]",
            "text/plain": [
              "<Figure size 1200x600 with 2 Axes>"
            ]
          },
          "metadata": {},
          "output_type": "display_data"
        }
      ],
      "source": [
        "import matplotlib.pyplot as plt\n",
        "import seaborn as sns\n",
        "fig, axes = plt.subplots(1, 2, figsize=(12, 6))\n",
        "sns.countplot(x='rating', data=google_map_data, ax=axes[0])\n",
        "sns.countplot(x='rating', data=yogiyo_data, ax=axes[1])\n",
        "axes[0].set_title('Google Map')\n",
        "axes[1].set_title('Yogiyo')\n",
        "\n",
        "plt.tight_layout()\n",
        "plt.show()"
      ]
    },
    {
      "cell_type": "code",
      "execution_count": null,
      "metadata": {
        "colab": {
          "base_uri": "https://localhost:8080/",
          "height": 125
        },
        "id": "NcQ7ZABSMNgs",
        "outputId": "cac6469a-a37d-4cd8-f270-417d8ae30d79"
      },
      "outputs": [
        {
          "data": {
            "application/vnd.google.colaboratory.intrinsic+json": {
              "summary": "{\n  \"name\": \"summary_df\",\n  \"rows\": 2,\n  \"fields\": [\n    {\n      \"column\": \"\\ud50c\\ub7ab\\ud3fc\",\n      \"properties\": {\n        \"dtype\": \"string\",\n        \"num_unique_values\": 2,\n        \"samples\": [\n          \"\\uad6c\\uae00\",\n          \"\\uc694\\uae30\\uc694\"\n        ],\n        \"semantic_type\": \"\",\n        \"description\": \"\"\n      }\n    },\n    {\n      \"column\": \"\\uac00\\uac8c \\uc218\",\n      \"properties\": {\n        \"dtype\": \"number\",\n        \"std\": 1437,\n        \"min\": 22,\n        \"max\": 2055,\n        \"num_unique_values\": 2,\n        \"samples\": [\n          2055,\n          22\n        ],\n        \"semantic_type\": \"\",\n        \"description\": \"\"\n      }\n    },\n    {\n      \"column\": \"\\ub9ac\\ubdf0 \\uc218\",\n      \"properties\": {\n        \"dtype\": \"number\",\n        \"std\": 7033,\n        \"min\": 27893,\n        \"max\": 37840,\n        \"num_unique_values\": 2,\n        \"samples\": [\n          27893,\n          37840\n        ],\n        \"semantic_type\": \"\",\n        \"description\": \"\"\n      }\n    },\n    {\n      \"column\": \"\\ud3c9\\uc810 \\ud3c9\\uade0\",\n      \"properties\": {\n        \"dtype\": \"number\",\n        \"std\": 0.487237828957159,\n        \"min\": 4.060624529451834,\n        \"max\": 4.749682875264271,\n        \"num_unique_values\": 2,\n        \"samples\": [\n          4.060624529451834,\n          4.749682875264271\n        ],\n        \"semantic_type\": \"\",\n        \"description\": \"\"\n      }\n    },\n    {\n      \"column\": \"\\ud3c9\\uc810 \\ud3b8\\ucc28\",\n      \"properties\": {\n        \"dtype\": \"number\",\n        \"std\": 0.3359641842491738,\n        \"min\": 0.7316380064851302,\n        \"max\": 1.2067631123219251,\n        \"num_unique_values\": 2,\n        \"samples\": [\n          1.2067631123219251,\n          0.7316380064851302\n        ],\n        \"semantic_type\": \"\",\n        \"description\": \"\"\n      }\n    }\n  ]\n}",
              "type": "dataframe",
              "variable_name": "summary_df"
            },
            "text/html": [
              "\n",
              "  <div id=\"df-b6a5ebf3-f5e7-4e25-b040-8fd965dd844a\" class=\"colab-df-container\">\n",
              "    <div>\n",
              "<style scoped>\n",
              "    .dataframe tbody tr th:only-of-type {\n",
              "        vertical-align: middle;\n",
              "    }\n",
              "\n",
              "    .dataframe tbody tr th {\n",
              "        vertical-align: top;\n",
              "    }\n",
              "\n",
              "    .dataframe thead th {\n",
              "        text-align: right;\n",
              "    }\n",
              "</style>\n",
              "<table border=\"1\" class=\"dataframe\">\n",
              "  <thead>\n",
              "    <tr style=\"text-align: right;\">\n",
              "      <th></th>\n",
              "      <th>플랫폼</th>\n",
              "      <th>가게 수</th>\n",
              "      <th>리뷰 수</th>\n",
              "      <th>평점 평균</th>\n",
              "      <th>평점 편차</th>\n",
              "    </tr>\n",
              "  </thead>\n",
              "  <tbody>\n",
              "    <tr>\n",
              "      <th>0</th>\n",
              "      <td>요기요</td>\n",
              "      <td>22</td>\n",
              "      <td>37840</td>\n",
              "      <td>4.749683</td>\n",
              "      <td>0.731638</td>\n",
              "    </tr>\n",
              "    <tr>\n",
              "      <th>1</th>\n",
              "      <td>구글</td>\n",
              "      <td>2055</td>\n",
              "      <td>27893</td>\n",
              "      <td>4.060625</td>\n",
              "      <td>1.206763</td>\n",
              "    </tr>\n",
              "  </tbody>\n",
              "</table>\n",
              "</div>\n",
              "    <div class=\"colab-df-buttons\">\n",
              "\n",
              "  <div class=\"colab-df-container\">\n",
              "    <button class=\"colab-df-convert\" onclick=\"convertToInteractive('df-b6a5ebf3-f5e7-4e25-b040-8fd965dd844a')\"\n",
              "            title=\"Convert this dataframe to an interactive table.\"\n",
              "            style=\"display:none;\">\n",
              "\n",
              "  <svg xmlns=\"http://www.w3.org/2000/svg\" height=\"24px\" viewBox=\"0 -960 960 960\">\n",
              "    <path d=\"M120-120v-720h720v720H120Zm60-500h600v-160H180v160Zm220 220h160v-160H400v160Zm0 220h160v-160H400v160ZM180-400h160v-160H180v160Zm440 0h160v-160H620v160ZM180-180h160v-160H180v160Zm440 0h160v-160H620v160Z\"/>\n",
              "  </svg>\n",
              "    </button>\n",
              "\n",
              "  <style>\n",
              "    .colab-df-container {\n",
              "      display:flex;\n",
              "      gap: 12px;\n",
              "    }\n",
              "\n",
              "    .colab-df-convert {\n",
              "      background-color: #E8F0FE;\n",
              "      border: none;\n",
              "      border-radius: 50%;\n",
              "      cursor: pointer;\n",
              "      display: none;\n",
              "      fill: #1967D2;\n",
              "      height: 32px;\n",
              "      padding: 0 0 0 0;\n",
              "      width: 32px;\n",
              "    }\n",
              "\n",
              "    .colab-df-convert:hover {\n",
              "      background-color: #E2EBFA;\n",
              "      box-shadow: 0px 1px 2px rgba(60, 64, 67, 0.3), 0px 1px 3px 1px rgba(60, 64, 67, 0.15);\n",
              "      fill: #174EA6;\n",
              "    }\n",
              "\n",
              "    .colab-df-buttons div {\n",
              "      margin-bottom: 4px;\n",
              "    }\n",
              "\n",
              "    [theme=dark] .colab-df-convert {\n",
              "      background-color: #3B4455;\n",
              "      fill: #D2E3FC;\n",
              "    }\n",
              "\n",
              "    [theme=dark] .colab-df-convert:hover {\n",
              "      background-color: #434B5C;\n",
              "      box-shadow: 0px 1px 3px 1px rgba(0, 0, 0, 0.15);\n",
              "      filter: drop-shadow(0px 1px 2px rgba(0, 0, 0, 0.3));\n",
              "      fill: #FFFFFF;\n",
              "    }\n",
              "  </style>\n",
              "\n",
              "    <script>\n",
              "      const buttonEl =\n",
              "        document.querySelector('#df-b6a5ebf3-f5e7-4e25-b040-8fd965dd844a button.colab-df-convert');\n",
              "      buttonEl.style.display =\n",
              "        google.colab.kernel.accessAllowed ? 'block' : 'none';\n",
              "\n",
              "      async function convertToInteractive(key) {\n",
              "        const element = document.querySelector('#df-b6a5ebf3-f5e7-4e25-b040-8fd965dd844a');\n",
              "        const dataTable =\n",
              "          await google.colab.kernel.invokeFunction('convertToInteractive',\n",
              "                                                    [key], {});\n",
              "        if (!dataTable) return;\n",
              "\n",
              "        const docLinkHtml = 'Like what you see? Visit the ' +\n",
              "          '<a target=\"_blank\" href=https://colab.research.google.com/notebooks/data_table.ipynb>data table notebook</a>'\n",
              "          + ' to learn more about interactive tables.';\n",
              "        element.innerHTML = '';\n",
              "        dataTable['output_type'] = 'display_data';\n",
              "        await google.colab.output.renderOutput(dataTable, element);\n",
              "        const docLink = document.createElement('div');\n",
              "        docLink.innerHTML = docLinkHtml;\n",
              "        element.appendChild(docLink);\n",
              "      }\n",
              "    </script>\n",
              "  </div>\n",
              "\n",
              "\n",
              "<div id=\"df-35b1e2e8-4622-4a01-86d8-8848fccc35c6\">\n",
              "  <button class=\"colab-df-quickchart\" onclick=\"quickchart('df-35b1e2e8-4622-4a01-86d8-8848fccc35c6')\"\n",
              "            title=\"Suggest charts\"\n",
              "            style=\"display:none;\">\n",
              "\n",
              "<svg xmlns=\"http://www.w3.org/2000/svg\" height=\"24px\"viewBox=\"0 0 24 24\"\n",
              "     width=\"24px\">\n",
              "    <g>\n",
              "        <path d=\"M19 3H5c-1.1 0-2 .9-2 2v14c0 1.1.9 2 2 2h14c1.1 0 2-.9 2-2V5c0-1.1-.9-2-2-2zM9 17H7v-7h2v7zm4 0h-2V7h2v10zm4 0h-2v-4h2v4z\"/>\n",
              "    </g>\n",
              "</svg>\n",
              "  </button>\n",
              "\n",
              "<style>\n",
              "  .colab-df-quickchart {\n",
              "      --bg-color: #E8F0FE;\n",
              "      --fill-color: #1967D2;\n",
              "      --hover-bg-color: #E2EBFA;\n",
              "      --hover-fill-color: #174EA6;\n",
              "      --disabled-fill-color: #AAA;\n",
              "      --disabled-bg-color: #DDD;\n",
              "  }\n",
              "\n",
              "  [theme=dark] .colab-df-quickchart {\n",
              "      --bg-color: #3B4455;\n",
              "      --fill-color: #D2E3FC;\n",
              "      --hover-bg-color: #434B5C;\n",
              "      --hover-fill-color: #FFFFFF;\n",
              "      --disabled-bg-color: #3B4455;\n",
              "      --disabled-fill-color: #666;\n",
              "  }\n",
              "\n",
              "  .colab-df-quickchart {\n",
              "    background-color: var(--bg-color);\n",
              "    border: none;\n",
              "    border-radius: 50%;\n",
              "    cursor: pointer;\n",
              "    display: none;\n",
              "    fill: var(--fill-color);\n",
              "    height: 32px;\n",
              "    padding: 0;\n",
              "    width: 32px;\n",
              "  }\n",
              "\n",
              "  .colab-df-quickchart:hover {\n",
              "    background-color: var(--hover-bg-color);\n",
              "    box-shadow: 0 1px 2px rgba(60, 64, 67, 0.3), 0 1px 3px 1px rgba(60, 64, 67, 0.15);\n",
              "    fill: var(--button-hover-fill-color);\n",
              "  }\n",
              "\n",
              "  .colab-df-quickchart-complete:disabled,\n",
              "  .colab-df-quickchart-complete:disabled:hover {\n",
              "    background-color: var(--disabled-bg-color);\n",
              "    fill: var(--disabled-fill-color);\n",
              "    box-shadow: none;\n",
              "  }\n",
              "\n",
              "  .colab-df-spinner {\n",
              "    border: 2px solid var(--fill-color);\n",
              "    border-color: transparent;\n",
              "    border-bottom-color: var(--fill-color);\n",
              "    animation:\n",
              "      spin 1s steps(1) infinite;\n",
              "  }\n",
              "\n",
              "  @keyframes spin {\n",
              "    0% {\n",
              "      border-color: transparent;\n",
              "      border-bottom-color: var(--fill-color);\n",
              "      border-left-color: var(--fill-color);\n",
              "    }\n",
              "    20% {\n",
              "      border-color: transparent;\n",
              "      border-left-color: var(--fill-color);\n",
              "      border-top-color: var(--fill-color);\n",
              "    }\n",
              "    30% {\n",
              "      border-color: transparent;\n",
              "      border-left-color: var(--fill-color);\n",
              "      border-top-color: var(--fill-color);\n",
              "      border-right-color: var(--fill-color);\n",
              "    }\n",
              "    40% {\n",
              "      border-color: transparent;\n",
              "      border-right-color: var(--fill-color);\n",
              "      border-top-color: var(--fill-color);\n",
              "    }\n",
              "    60% {\n",
              "      border-color: transparent;\n",
              "      border-right-color: var(--fill-color);\n",
              "    }\n",
              "    80% {\n",
              "      border-color: transparent;\n",
              "      border-right-color: var(--fill-color);\n",
              "      border-bottom-color: var(--fill-color);\n",
              "    }\n",
              "    90% {\n",
              "      border-color: transparent;\n",
              "      border-bottom-color: var(--fill-color);\n",
              "    }\n",
              "  }\n",
              "</style>\n",
              "\n",
              "  <script>\n",
              "    async function quickchart(key) {\n",
              "      const quickchartButtonEl =\n",
              "        document.querySelector('#' + key + ' button');\n",
              "      quickchartButtonEl.disabled = true;  // To prevent multiple clicks.\n",
              "      quickchartButtonEl.classList.add('colab-df-spinner');\n",
              "      try {\n",
              "        const charts = await google.colab.kernel.invokeFunction(\n",
              "            'suggestCharts', [key], {});\n",
              "      } catch (error) {\n",
              "        console.error('Error during call to suggestCharts:', error);\n",
              "      }\n",
              "      quickchartButtonEl.classList.remove('colab-df-spinner');\n",
              "      quickchartButtonEl.classList.add('colab-df-quickchart-complete');\n",
              "    }\n",
              "    (() => {\n",
              "      let quickchartButtonEl =\n",
              "        document.querySelector('#df-35b1e2e8-4622-4a01-86d8-8848fccc35c6 button');\n",
              "      quickchartButtonEl.style.display =\n",
              "        google.colab.kernel.accessAllowed ? 'block' : 'none';\n",
              "    })();\n",
              "  </script>\n",
              "</div>\n",
              "\n",
              "  <div id=\"id_8e3c4078-c5b5-45da-bd38-e45e15847a35\">\n",
              "    <style>\n",
              "      .colab-df-generate {\n",
              "        background-color: #E8F0FE;\n",
              "        border: none;\n",
              "        border-radius: 50%;\n",
              "        cursor: pointer;\n",
              "        display: none;\n",
              "        fill: #1967D2;\n",
              "        height: 32px;\n",
              "        padding: 0 0 0 0;\n",
              "        width: 32px;\n",
              "      }\n",
              "\n",
              "      .colab-df-generate:hover {\n",
              "        background-color: #E2EBFA;\n",
              "        box-shadow: 0px 1px 2px rgba(60, 64, 67, 0.3), 0px 1px 3px 1px rgba(60, 64, 67, 0.15);\n",
              "        fill: #174EA6;\n",
              "      }\n",
              "\n",
              "      [theme=dark] .colab-df-generate {\n",
              "        background-color: #3B4455;\n",
              "        fill: #D2E3FC;\n",
              "      }\n",
              "\n",
              "      [theme=dark] .colab-df-generate:hover {\n",
              "        background-color: #434B5C;\n",
              "        box-shadow: 0px 1px 3px 1px rgba(0, 0, 0, 0.15);\n",
              "        filter: drop-shadow(0px 1px 2px rgba(0, 0, 0, 0.3));\n",
              "        fill: #FFFFFF;\n",
              "      }\n",
              "    </style>\n",
              "    <button class=\"colab-df-generate\" onclick=\"generateWithVariable('summary_df')\"\n",
              "            title=\"Generate code using this dataframe.\"\n",
              "            style=\"display:none;\">\n",
              "\n",
              "  <svg xmlns=\"http://www.w3.org/2000/svg\" height=\"24px\"viewBox=\"0 0 24 24\"\n",
              "       width=\"24px\">\n",
              "    <path d=\"M7,19H8.4L18.45,9,17,7.55,7,17.6ZM5,21V16.75L18.45,3.32a2,2,0,0,1,2.83,0l1.4,1.43a1.91,1.91,0,0,1,.58,1.4,1.91,1.91,0,0,1-.58,1.4L9.25,21ZM18.45,9,17,7.55Zm-12,3A5.31,5.31,0,0,0,4.9,8.1,5.31,5.31,0,0,0,1,6.5,5.31,5.31,0,0,0,4.9,4.9,5.31,5.31,0,0,0,6.5,1,5.31,5.31,0,0,0,8.1,4.9,5.31,5.31,0,0,0,12,6.5,5.46,5.46,0,0,0,6.5,12Z\"/>\n",
              "  </svg>\n",
              "    </button>\n",
              "    <script>\n",
              "      (() => {\n",
              "      const buttonEl =\n",
              "        document.querySelector('#id_8e3c4078-c5b5-45da-bd38-e45e15847a35 button.colab-df-generate');\n",
              "      buttonEl.style.display =\n",
              "        google.colab.kernel.accessAllowed ? 'block' : 'none';\n",
              "\n",
              "      buttonEl.onclick = () => {\n",
              "        google.colab.notebook.generateWithVariable('summary_df');\n",
              "      }\n",
              "      })();\n",
              "    </script>\n",
              "  </div>\n",
              "\n",
              "    </div>\n",
              "  </div>\n"
            ],
            "text/plain": [
              "   플랫폼  가게 수   리뷰 수     평점 평균     평점 편차\n",
              "0  요기요    22  37840  4.749683  0.731638\n",
              "1   구글  2055  27893  4.060625  1.206763"
            ]
          },
          "execution_count": 17,
          "metadata": {},
          "output_type": "execute_result"
        }
      ],
      "source": [
        "google_store_count = google_map_data['store_name'].nunique()\n",
        "google_review_count = len(google_map_data)\n",
        "\n",
        "yogiyo_store_count = yogiyo_data['store_id'].nunique()\n",
        "yogiyo_review_count = len(yogiyo_data)\n",
        "\n",
        "# 구글 리뷰 데이터의 평균과 표준편차\n",
        "google_mean = google_map_data['rating'].mean()\n",
        "google_std = google_map_data['rating'].std()\n",
        "\n",
        "# 요기요 리뷰 데이터의 평균과 표준편차\n",
        "yogiyo_mean = yogiyo_data['rating'].mean()\n",
        "yogiyo_std = yogiyo_data['rating'].std()\n",
        "\n",
        "summary_data = {\n",
        "    \"플랫폼\": [\"요기요\", \"구글\"],\n",
        "    \"가게 수\": [yogiyo_store_count, google_store_count],\n",
        "    \"리뷰 수\": [yogiyo_review_count, google_review_count],\n",
        "    \"평점 평균\": [yogiyo_mean, google_mean],\n",
        "    \"평점 편차\": [yogiyo_std, google_std]\n",
        "}\n",
        "\n",
        "summary_df = pd.DataFrame(summary_data)\n",
        "summary_df"
      ]
    },
    {
      "cell_type": "code",
      "execution_count": null,
      "metadata": {
        "id": "azYE4AaVi9UZ"
      },
      "outputs": [],
      "source": [
        "#특수문자 제거 + 자음, 모음만 있는 것 제거 + 공백 여러 개를 하나의 공백으로\n",
        "#df = pd.read_csv(\"/content/drive/MyDrive/google_map_review_final.csv\")\n",
        "import re\n",
        "def clean_text(text):\n",
        "  # 특수문자 제거\n",
        "  text = re.sub(r'[^\\w\\s]', '', text)\n",
        "  # 자음, 모음만 있는 것 제거\n",
        "  text = re.sub(r'\\b[ㄱ-ㅎㅏ-ㅣ]+\\b', '', text)\n",
        "  # 공백 여러 개를 하나의 공백으로 변환\n",
        "  text = re.sub(r'\\s+', ' ', text).strip()\n",
        "  return text\n",
        "#df['comment'] = df['comment'].apply(lambda x: clean_text(x) if pd.notna(x) else x)\n",
        "yogiyo_data['comment_'] = yogiyo_data['comment'].apply(lambda x: clean_text(x) if pd.notna(x) else x)"
      ]
    },
    {
      "cell_type": "code",
      "execution_count": null,
      "metadata": {
        "colab": {
          "background_save": true
        },
        "id": "LrsW77aPilZp"
      },
      "outputs": [],
      "source": [
        "#띄어쓰기 교정-PyKoSpacing\n",
        "from pykospacing import Spacing\n",
        "def correct_spacing(text):\n",
        "  spacing = Spacing()\n",
        "  corrected_text = spacing(text)\n",
        "  return corrected_text\n",
        "#df['comment'] = df['comment'].apply(lambda x: correct_spacing(x) if pd.notna(x) else x)\n",
        "yogiyo_data['comment_'] = yogiyo_data['comment_'].apply(lambda x: correct_spacing(x) if pd.notna(x) else x)"
      ]
    },
    {
      "cell_type": "code",
      "execution_count": null,
      "metadata": {
        "id": "07OrFUCWUNb9"
      },
      "outputs": [],
      "source": [
        "#SOYNLP을 이용한 반복되는 문자 제한\n",
        "!pip install soynlp\n",
        "from soynlp.normalizer import *\n",
        "\n",
        "def exception(text):\n",
        "  text = emoticon_normalize(text, num_repeats = 2)\n",
        "  return text\n",
        "\n",
        "#df['comment'] = df['comment'].apply(lambda x: exception(x) if pd.notna(x) else x)\n",
        "yogiyo_data['comment_'] = yogiyo_data['comment_'].apply(lambda x: exception(x) if pd.notna(x) else x)"
      ]
    },
    {
      "cell_type": "code",
      "execution_count": null,
      "metadata": {
        "id": "PWQ_uA8sGTdP"
      },
      "outputs": [],
      "source": [
        "!pip install konlpy"
      ]
    },
    {
      "cell_type": "code",
      "execution_count": null,
      "metadata": {
        "id": "NM7g9M66gGEs"
      },
      "outputs": [],
      "source": [
        "from konlpy.tag import Okt\n",
        "okt = Okt()\n",
        "stop_words = set(['은', '는', '이', '가', '아', '하', '들', '것', '의', '있', '되', '수', '보', '주', '등', '한', '에'])"
      ]
    },
    {
      "cell_type": "code",
      "execution_count": null,
      "metadata": {
        "id": "t1D5tprjTo70"
      },
      "outputs": [],
      "source": [
        "def preprocessing(okt, review):\n",
        "  # 한글이 아닌 단어는 지우고 \" \"으로 대체\n",
        "  review_text = re.sub(\"[^가-힣ㄱ-ㅎㅏ-ㅣ]\", \" \", review)\n",
        "  # 형태소 분석을 하며 stemming 기법을 사용\n",
        "  token_li = okt.morphs(review_text, stem=True)\n",
        "  # 이전 stop_words에 포함되지 않는 단어만 clean_review에 들어갈 수 있게 함\n",
        "  clean_review = [token for token in token_li if not token in stop_words]\n",
        "  clean_review = ' '.join(clean_review)\n",
        "  return clean_review.strip()\n",
        "\n",
        "#df['comment'] = df[\"comment\"].apply(lambda x: preprocessing(okt, x))\n",
        "yogiyo_data['comment_'] = yogiyo_data['comment_'].apply(lambda x: preprocessing(okt, x))"
      ]
    },
    {
      "cell_type": "code",
      "execution_count": null,
      "metadata": {
        "id": "YiW-TYdOhih5"
      },
      "outputs": [],
      "source": [
        "yogiyo_data"
      ]
    },
    {
      "cell_type": "code",
      "execution_count": null,
      "metadata": {
        "id": "XHDAjy7j6UXS"
      },
      "outputs": [],
      "source": [
        "df.to_csv(\"/content/drive/MyDrive/preprocessed_google_map_review.csv\")"
      ]
    },
    {
      "cell_type": "code",
      "execution_count": null,
      "metadata": {
        "id": "LyK7I1hqr2BP"
      },
      "outputs": [],
      "source": [
        "yogiyo_data.to_csv(\"/content/drive/MyDrive/preprocessed_yogiyo_review.csv\")"
      ]
    },
    {
      "cell_type": "markdown",
      "metadata": {
        "id": "x2GVz67EsmI9"
      },
      "source": [
        "## 2-2) 불균형 데이터 해소"
      ]
    },
    {
      "cell_type": "code",
      "execution_count": null,
      "metadata": {
        "id": "07QXSrBusmI-"
      },
      "outputs": [],
      "source": [
        "options = Options()\n",
        "options.add_argument(\"--headless\")\n",
        "options.add_argument(\"--disable-dev-shm-usage\")\n",
        "options.add_argument(\"--no-sandbox\")\n",
        "driver = webdriver.Chrome(options=options)"
      ]
    },
    {
      "cell_type": "code",
      "execution_count": null,
      "metadata": {
        "id": "xnn3rGh3smI-"
      },
      "outputs": [],
      "source": [
        "# 역번역을 통한 데이터 증강\n",
        "trans_list = []  # 중간 번역 저장\n",
        "backtrans_list = []  # 최종 번역 결과 저장\n",
        "\n",
        "from tqdm import tqdm\n",
        "\n",
        "# kor_to_trans 함수: 한국어 -> 외국어\n",
        "def kor_to_trans(text_data, trans_lang):\n",
        "    global trans_list\n",
        "    trans_list = []\n",
        "    for i in tqdm(range(len(text_data))):\n",
        "        try:\n",
        "            driver.get('https://papago.naver.com/?sk=ko&tk='+trans_lang+'&st='+text_data[i])\n",
        "            time.sleep(2.5)\n",
        "            backtrans = driver.find_element(By.XPATH, '//*[@id=\"txtTarget\"]').text\n",
        "            trans_list.append(backtrans)\n",
        "        except Exception as e:\n",
        "            print(f\"Error on index {i}: {e}\")\n",
        "\n",
        "# trans_to_kor 함수: 외국어 -> 한국어\n",
        "def trans_to_kor(transed_list, transed_lang):\n",
        "    global backtrans_list\n",
        "    for i in tqdm(range(len(transed_list))):\n",
        "        try:\n",
        "            driver.get('https://papago.naver.com/?sk='+transed_lang+'&tk=ko&st='+transed_list[i])\n",
        "            time.sleep(2.5)\n",
        "            backtrans = driver.find_element(By.XPATH, '//*[@id=\"txtTarget\"]').text\n",
        "            backtrans_list.append(backtrans)\n",
        "        except Exception as e:\n",
        "            print(f\"Error on index {i}: {e}\")\n",
        "            backtrans_list.append(\"\")\n",
        "\n",
        "languages = {\n",
        "    1: ['en', 'ja&hn=0', 'zh-CN', 'fr'],\n",
        "    2: ['en', 'ja&hn=0', 'zh-CN', 'fr'],\n",
        "    3: ['en', 'ja&hn=0', 'zh-CN'],\n",
        "    4: ['en', 'ja&hn=0'],\n",
        "}\n",
        "\n",
        "augmented_data = []\n",
        "count = 0\n",
        "\n",
        "df = pd.read_csv(\"/content/drive/MyDrive/preprocessed_google_map_review.csv\")\n",
        "\n",
        "for index, row in df.iterrows():\n",
        "    rating = row['rating']\n",
        "    comment = row['comment']\n",
        "    count += 1\n",
        "    print(f\"#######{count}번######\")\n",
        "    if rating in languages:\n",
        "        for lang in languages[rating]:\n",
        "            # 한국어 -> 외국어 번역\n",
        "            kor_to_trans([comment], lang)\n",
        "            # 외국어 -> 한국어 번역\n",
        "            trans_to_kor(trans_list, lang)\n",
        "            # 결과 저장\n",
        "            if backtrans_list:\n",
        "                augmented_data.append({'rating': rating, 'comment': backtrans_list[-1]})\n",
        "            else:\n",
        "                augmented_data.append({'rating': rating, 'comment': comment})\n",
        "\n",
        "augmented_df = pd.DataFrame(augmented_data)\n",
        "df_expanded = augmented_df\n",
        "driver.quit()"
      ]
    },
    {
      "cell_type": "code",
      "execution_count": null,
      "metadata": {
        "colab": {
          "base_uri": "https://localhost:8080/"
        },
        "id": "53nRBD4RsmI_",
        "outputId": "4a1cd6ab-1344-40df-98ec-ae721db1087a"
      },
      "outputs": [
        {
          "name": "stdout",
          "output_type": "stream",
          "text": [
            "Drive already mounted at /content/drive; to attempt to forcibly remount, call drive.mount(\"/content/drive\", force_remount=True).\n"
          ]
        }
      ],
      "source": [
        "combined_df = df_expanded\n",
        "combined_df.to_csv(\"/content/drive/MyDrive/preprocessed_google_map_review+역번역_전체.csv\")"
      ]
    },
    {
      "cell_type": "code",
      "execution_count": null,
      "metadata": {
        "colab": {
          "base_uri": "https://localhost:8080/",
          "height": 564
        },
        "id": "CRw-Z3i4smI_",
        "outputId": "afb348d7-ffa3-4579-82cb-cfcf32ce8b66"
      },
      "outputs": [
        {
          "data": {
            "image/png": "[encoded data removed]",
            "text/plain": [
              "<Figure size 1000x600 with 1 Axes>"
            ]
          },
          "metadata": {},
          "output_type": "display_data"
        }
      ],
      "source": [
        "# 역번역이 수행된 이후 분포 변화 확인\n",
        "plt.figure(figsize=(10, 6))\n",
        "combined_df['rating'].value_counts().sort_index().plot(kind='bar')\n",
        "plt.title('Distribution of Ratings')\n",
        "plt.xlabel('Rating')\n",
        "plt.ylabel('Frequency')\n",
        "plt.xticks(rotation=0)\n",
        "plt.grid(axis='y', linestyle='--', alpha=0.7)\n",
        "plt.show()"
      ]
    },
    {
      "cell_type": "code",
      "execution_count": null,
      "metadata": {
        "id": "aLtHR8MZtaO4"
      },
      "outputs": [],
      "source": [
        "combined_df = pd.read_csv(\"/content/drive/MyDrive/preprocessed_google_map_review+역번역_전체.csv\")"
      ]
    },
    {
      "cell_type": "code",
      "execution_count": null,
      "metadata": {
        "colab": {
          "base_uri": "https://localhost:8080/",
          "height": 461
        },
        "id": "jdaChEL4taO4",
        "outputId": "2665e4c7-a239-4a47-e71e-a698f6f3addd"
      },
      "outputs": [
        {
          "name": "stdout",
          "output_type": "stream",
          "text": [
            "Drive already mounted at /content/drive; to attempt to forcibly remount, call drive.mount(\"/content/drive\", force_remount=True).\n"
          ]
        },
        {
          "data": {
            "application/vnd.google.colaboratory.intrinsic+json": {
              "summary": "{\n  \"name\": \"result_df\",\n  \"rows\": 38577,\n  \"fields\": [\n    {\n      \"column\": \"comment\",\n      \"properties\": {\n        \"dtype\": \"string\",\n        \"num_unique_values\": 21151,\n        \"samples\": [\n          \"\\ubd80\\ubaa8\\ub2d8\\ub301\\uc758 \\uce58\\ud0a8\\uc744 \\uc88b\\uc544\\ud574\\uc11c \\uc885\\uc885 \\uc2dc\\ucf1c\\uba39\\uace0 \\uacb0\\uad6d \\uadf8 \\uce58\\ud0a8\\ucfe0\\ud3f0\\uc73c\\ub85c \\ub098\\uc911\\uc5d0 \\uce58\\ud0a8\\uc744 \\uc2dc\\ucf1c \\ucfe0\\ud3f0\\uc73c\\ub85c \\uc2dc\\ud0a4\\uace0 \\ud22c\\uc815\\uc744 \\ubd80\\ub824\\uc11c \\ucfe0\\ud3f0\\uc73c\\ub85c \\uc88b\\uc740 \\ud3c9\\uac00\\ub97c \\uc8fc\\uc9c0 \\uc774\\uc720\\uac00 \\ubcc4\\ub85c \\uc8fc\\ubb38\\ud558\\ub294 \\uac83\\uc744 \\ubbf8\\ub9ac \\ub9d0\\ud55c\\ub2e4, \\ubabb\\ud55c\\ub2e4 \\uc5c6\\ub2e4\",\n          \"\\uc7a5\\uc791\\uc744 \\uc5c6\\uc774 \\ub808\\uc2a4\\ud1a0\\ub791 \\ub85c\\uc2a4\\ud2b8 \\uce58\\ud0a8 \\ub450 \\ub9c8\\ub9ac. \\ub2e4\\uc2dc \\ud280\\uae30\\ub294 \\ub370 \\uc5bc\\ub9c8\\ub098 \\ub54c\\uae4c\\uc9c0 \\uace0\\uac1d\\uc774 \\uc8fc\\ubb38\\ud560 \\uac78\\ub9ac\\ub098\\uc694? \\uae30\\ub2e4\\ub838\\ub2e4\\uac00 \\ub2e4\\uc2dc \\ud280\\uae34 \\ub2e4\\uc74c \\ub2e4\\uc2dc \\ub9d0\\ub9b4 \\ud544\\uc694 \\ud280\\uae34 \\uac13 \\uc0ac\\uc6a9\\ud569\\ub2c8\\ub2e4. \\ub450 \\uc0ac\\ub78c \\ubaa8\\ub450 \\ud55c\\uad6d\\uc2dd \\ud504\\ub77c\\uc774\\ub4dc \\uce58\\ud0a8\\uc744 \\uba39\\uace0 \\uc788\\uc2b5\\ub2c8\\ub2e4. \\ub808\\uc774\",\n          \"\\uc0ac\\uc7a5 \\ubc18 \\ub9d0 \\uc9c0\\ub2e4 \\uce5c\\uad6c \\uc788\\ub2e4 \\uac00\\uc624 \\ubd80\\ub9ac\\uace0 \\ub2e4\\uc2dc\\ub2e4 \\uc548\\uac10\"\n        ],\n        \"semantic_type\": \"\",\n        \"description\": \"\"\n      }\n    },\n    {\n      \"column\": \"rating\",\n      \"properties\": {\n        \"dtype\": \"number\",\n        \"std\": 0,\n        \"min\": 1,\n        \"max\": 2,\n        \"num_unique_values\": 2,\n        \"samples\": [\n          1,\n          2\n        ],\n        \"semantic_type\": \"\",\n        \"description\": \"\"\n      }\n    }\n  ]\n}",
              "type": "dataframe",
              "variable_name": "result_df"
            },
            "text/html": [
              "\n",
              "  <div id=\"df-24134616-b55a-4f12-9707-1f97bb3cdade\" class=\"colab-df-container\">\n",
              "    <div>\n",
              "<style scoped>\n",
              "    .dataframe tbody tr th:only-of-type {\n",
              "        vertical-align: middle;\n",
              "    }\n",
              "\n",
              "    .dataframe tbody tr th {\n",
              "        vertical-align: top;\n",
              "    }\n",
              "\n",
              "    .dataframe thead th {\n",
              "        text-align: right;\n",
              "    }\n",
              "</style>\n",
              "<table border=\"1\" class=\"dataframe\">\n",
              "  <thead>\n",
              "    <tr style=\"text-align: right;\">\n",
              "      <th></th>\n",
              "      <th>comment</th>\n",
              "      <th>rating</th>\n",
              "    </tr>\n",
              "  </thead>\n",
              "  <tbody>\n",
              "    <tr>\n",
              "      <th>0</th>\n",
              "      <td>거리의 한 장소</td>\n",
              "      <td>2</td>\n",
              "    </tr>\n",
              "    <tr>\n",
              "      <th>1</th>\n",
              "      <td>거리의 장소</td>\n",
              "      <td>2</td>\n",
              "    </tr>\n",
              "    <tr>\n",
              "      <th>2</th>\n",
              "      <td>거리의 한 장소</td>\n",
              "      <td>2</td>\n",
              "    </tr>\n",
              "    <tr>\n",
              "      <th>3</th>\n",
              "      <td>거리의 위치</td>\n",
              "      <td>2</td>\n",
              "    </tr>\n",
              "    <tr>\n",
              "      <th>4</th>\n",
              "      <td>거리의 위치</td>\n",
              "      <td>2</td>\n",
              "    </tr>\n",
              "    <tr>\n",
              "      <th>...</th>\n",
              "      <td>...</td>\n",
              "      <td>...</td>\n",
              "    </tr>\n",
              "    <tr>\n",
              "      <th>38572</th>\n",
              "      <td>주차도 인심 못하는</td>\n",
              "      <td>1</td>\n",
              "    </tr>\n",
              "    <tr>\n",
              "      <th>38573</th>\n",
              "      <td>주차도 못하는 인심</td>\n",
              "      <td>1</td>\n",
              "    </tr>\n",
              "    <tr>\n",
              "      <th>38574</th>\n",
              "      <td>주차도 못하다</td>\n",
              "      <td>1</td>\n",
              "    </tr>\n",
              "    <tr>\n",
              "      <th>38575</th>\n",
              "      <td>못하다 주차도</td>\n",
              "      <td>1</td>\n",
              "    </tr>\n",
              "    <tr>\n",
              "      <th>38576</th>\n",
              "      <td>주차도 못하다</td>\n",
              "      <td>1</td>\n",
              "    </tr>\n",
              "  </tbody>\n",
              "</table>\n",
              "<p>38577 rows × 2 columns</p>\n",
              "</div>\n",
              "    <div class=\"colab-df-buttons\">\n",
              "\n",
              "  <div class=\"colab-df-container\">\n",
              "    <button class=\"colab-df-convert\" onclick=\"convertToInteractive('df-24134616-b55a-4f12-9707-1f97bb3cdade')\"\n",
              "            title=\"Convert this dataframe to an interactive table.\"\n",
              "            style=\"display:none;\">\n",
              "\n",
              "  <svg xmlns=\"http://www.w3.org/2000/svg\" height=\"24px\" viewBox=\"0 -960 960 960\">\n",
              "    <path d=\"M120-120v-720h720v720H120Zm60-500h600v-160H180v160Zm220 220h160v-160H400v160Zm0 220h160v-160H400v160ZM180-400h160v-160H180v160Zm440 0h160v-160H620v160ZM180-180h160v-160H180v160Zm440 0h160v-160H620v160Z\"/>\n",
              "  </svg>\n",
              "    </button>\n",
              "\n",
              "  <style>\n",
              "    .colab-df-container {\n",
              "      display:flex;\n",
              "      gap: 12px;\n",
              "    }\n",
              "\n",
              "    .colab-df-convert {\n",
              "      background-color: #E8F0FE;\n",
              "      border: none;\n",
              "      border-radius: 50%;\n",
              "      cursor: pointer;\n",
              "      display: none;\n",
              "      fill: #1967D2;\n",
              "      height: 32px;\n",
              "      padding: 0 0 0 0;\n",
              "      width: 32px;\n",
              "    }\n",
              "\n",
              "    .colab-df-convert:hover {\n",
              "      background-color: #E2EBFA;\n",
              "      box-shadow: 0px 1px 2px rgba(60, 64, 67, 0.3), 0px 1px 3px 1px rgba(60, 64, 67, 0.15);\n",
              "      fill: #174EA6;\n",
              "    }\n",
              "\n",
              "    .colab-df-buttons div {\n",
              "      margin-bottom: 4px;\n",
              "    }\n",
              "\n",
              "    [theme=dark] .colab-df-convert {\n",
              "      background-color: #3B4455;\n",
              "      fill: #D2E3FC;\n",
              "    }\n",
              "\n",
              "    [theme=dark] .colab-df-convert:hover {\n",
              "      background-color: #434B5C;\n",
              "      box-shadow: 0px 1px 3px 1px rgba(0, 0, 0, 0.15);\n",
              "      filter: drop-shadow(0px 1px 2px rgba(0, 0, 0, 0.3));\n",
              "      fill: #FFFFFF;\n",
              "    }\n",
              "  </style>\n",
              "\n",
              "    <script>\n",
              "      const buttonEl =\n",
              "        document.querySelector('#df-24134616-b55a-4f12-9707-1f97bb3cdade button.colab-df-convert');\n",
              "      buttonEl.style.display =\n",
              "        google.colab.kernel.accessAllowed ? 'block' : 'none';\n",
              "\n",
              "      async function convertToInteractive(key) {\n",
              "        const element = document.querySelector('#df-24134616-b55a-4f12-9707-1f97bb3cdade');\n",
              "        const dataTable =\n",
              "          await google.colab.kernel.invokeFunction('convertToInteractive',\n",
              "                                                    [key], {});\n",
              "        if (!dataTable) return;\n",
              "\n",
              "        const docLinkHtml = 'Like what you see? Visit the ' +\n",
              "          '<a target=\"_blank\" href=https://colab.research.google.com/notebooks/data_table.ipynb>data table notebook</a>'\n",
              "          + ' to learn more about interactive tables.';\n",
              "        element.innerHTML = '';\n",
              "        dataTable['output_type'] = 'display_data';\n",
              "        await google.colab.output.renderOutput(dataTable, element);\n",
              "        const docLink = document.createElement('div');\n",
              "        docLink.innerHTML = docLinkHtml;\n",
              "        element.appendChild(docLink);\n",
              "      }\n",
              "    </script>\n",
              "  </div>\n",
              "\n",
              "\n",
              "<div id=\"df-a6d2badc-8b47-4b94-9f4f-ff87d441cf36\">\n",
              "  <button class=\"colab-df-quickchart\" onclick=\"quickchart('df-a6d2badc-8b47-4b94-9f4f-ff87d441cf36')\"\n",
              "            title=\"Suggest charts\"\n",
              "            style=\"display:none;\">\n",
              "\n",
              "<svg xmlns=\"http://www.w3.org/2000/svg\" height=\"24px\"viewBox=\"0 0 24 24\"\n",
              "     width=\"24px\">\n",
              "    <g>\n",
              "        <path d=\"M19 3H5c-1.1 0-2 .9-2 2v14c0 1.1.9 2 2 2h14c1.1 0 2-.9 2-2V5c0-1.1-.9-2-2-2zM9 17H7v-7h2v7zm4 0h-2V7h2v10zm4 0h-2v-4h2v4z\"/>\n",
              "    </g>\n",
              "</svg>\n",
              "  </button>\n",
              "\n",
              "<style>\n",
              "  .colab-df-quickchart {\n",
              "      --bg-color: #E8F0FE;\n",
              "      --fill-color: #1967D2;\n",
              "      --hover-bg-color: #E2EBFA;\n",
              "      --hover-fill-color: #174EA6;\n",
              "      --disabled-fill-color: #AAA;\n",
              "      --disabled-bg-color: #DDD;\n",
              "  }\n",
              "\n",
              "  [theme=dark] .colab-df-quickchart {\n",
              "      --bg-color: #3B4455;\n",
              "      --fill-color: #D2E3FC;\n",
              "      --hover-bg-color: #434B5C;\n",
              "      --hover-fill-color: #FFFFFF;\n",
              "      --disabled-bg-color: #3B4455;\n",
              "      --disabled-fill-color: #666;\n",
              "  }\n",
              "\n",
              "  .colab-df-quickchart {\n",
              "    background-color: var(--bg-color);\n",
              "    border: none;\n",
              "    border-radius: 50%;\n",
              "    cursor: pointer;\n",
              "    display: none;\n",
              "    fill: var(--fill-color);\n",
              "    height: 32px;\n",
              "    padding: 0;\n",
              "    width: 32px;\n",
              "  }\n",
              "\n",
              "  .colab-df-quickchart:hover {\n",
              "    background-color: var(--hover-bg-color);\n",
              "    box-shadow: 0 1px 2px rgba(60, 64, 67, 0.3), 0 1px 3px 1px rgba(60, 64, 67, 0.15);\n",
              "    fill: var(--button-hover-fill-color);\n",
              "  }\n",
              "\n",
              "  .colab-df-quickchart-complete:disabled,\n",
              "  .colab-df-quickchart-complete:disabled:hover {\n",
              "    background-color: var(--disabled-bg-color);\n",
              "    fill: var(--disabled-fill-color);\n",
              "    box-shadow: none;\n",
              "  }\n",
              "\n",
              "  .colab-df-spinner {\n",
              "    border: 2px solid var(--fill-color);\n",
              "    border-color: transparent;\n",
              "    border-bottom-color: var(--fill-color);\n",
              "    animation:\n",
              "      spin 1s steps(1) infinite;\n",
              "  }\n",
              "\n",
              "  @keyframes spin {\n",
              "    0% {\n",
              "      border-color: transparent;\n",
              "      border-bottom-color: var(--fill-color);\n",
              "      border-left-color: var(--fill-color);\n",
              "    }\n",
              "    20% {\n",
              "      border-color: transparent;\n",
              "      border-left-color: var(--fill-color);\n",
              "      border-top-color: var(--fill-color);\n",
              "    }\n",
              "    30% {\n",
              "      border-color: transparent;\n",
              "      border-left-color: var(--fill-color);\n",
              "      border-top-color: var(--fill-color);\n",
              "      border-right-color: var(--fill-color);\n",
              "    }\n",
              "    40% {\n",
              "      border-color: transparent;\n",
              "      border-right-color: var(--fill-color);\n",
              "      border-top-color: var(--fill-color);\n",
              "    }\n",
              "    60% {\n",
              "      border-color: transparent;\n",
              "      border-right-color: var(--fill-color);\n",
              "    }\n",
              "    80% {\n",
              "      border-color: transparent;\n",
              "      border-right-color: var(--fill-color);\n",
              "      border-bottom-color: var(--fill-color);\n",
              "    }\n",
              "    90% {\n",
              "      border-color: transparent;\n",
              "      border-bottom-color: var(--fill-color);\n",
              "    }\n",
              "  }\n",
              "</style>\n",
              "\n",
              "  <script>\n",
              "    async function quickchart(key) {\n",
              "      const quickchartButtonEl =\n",
              "        document.querySelector('#' + key + ' button');\n",
              "      quickchartButtonEl.disabled = true;  // To prevent multiple clicks.\n",
              "      quickchartButtonEl.classList.add('colab-df-spinner');\n",
              "      try {\n",
              "        const charts = await google.colab.kernel.invokeFunction(\n",
              "            'suggestCharts', [key], {});\n",
              "      } catch (error) {\n",
              "        console.error('Error during call to suggestCharts:', error);\n",
              "      }\n",
              "      quickchartButtonEl.classList.remove('colab-df-spinner');\n",
              "      quickchartButtonEl.classList.add('colab-df-quickchart-complete');\n",
              "    }\n",
              "    (() => {\n",
              "      let quickchartButtonEl =\n",
              "        document.querySelector('#df-a6d2badc-8b47-4b94-9f4f-ff87d441cf36 button');\n",
              "      quickchartButtonEl.style.display =\n",
              "        google.colab.kernel.accessAllowed ? 'block' : 'none';\n",
              "    })();\n",
              "  </script>\n",
              "</div>\n",
              "\n",
              "  <div id=\"id_2647ce86-503d-4184-878a-0ec882fffd79\">\n",
              "    <style>\n",
              "      .colab-df-generate {\n",
              "        background-color: #E8F0FE;\n",
              "        border: none;\n",
              "        border-radius: 50%;\n",
              "        cursor: pointer;\n",
              "        display: none;\n",
              "        fill: #1967D2;\n",
              "        height: 32px;\n",
              "        padding: 0 0 0 0;\n",
              "        width: 32px;\n",
              "      }\n",
              "\n",
              "      .colab-df-generate:hover {\n",
              "        background-color: #E2EBFA;\n",
              "        box-shadow: 0px 1px 2px rgba(60, 64, 67, 0.3), 0px 1px 3px 1px rgba(60, 64, 67, 0.15);\n",
              "        fill: #174EA6;\n",
              "      }\n",
              "\n",
              "      [theme=dark] .colab-df-generate {\n",
              "        background-color: #3B4455;\n",
              "        fill: #D2E3FC;\n",
              "      }\n",
              "\n",
              "      [theme=dark] .colab-df-generate:hover {\n",
              "        background-color: #434B5C;\n",
              "        box-shadow: 0px 1px 3px 1px rgba(0, 0, 0, 0.15);\n",
              "        filter: drop-shadow(0px 1px 2px rgba(0, 0, 0, 0.3));\n",
              "        fill: #FFFFFF;\n",
              "      }\n",
              "    </style>\n",
              "    <button class=\"colab-df-generate\" onclick=\"generateWithVariable('result_df')\"\n",
              "            title=\"Generate code using this dataframe.\"\n",
              "            style=\"display:none;\">\n",
              "\n",
              "  <svg xmlns=\"http://www.w3.org/2000/svg\" height=\"24px\"viewBox=\"0 0 24 24\"\n",
              "       width=\"24px\">\n",
              "    <path d=\"M7,19H8.4L18.45,9,17,7.55,7,17.6ZM5,21V16.75L18.45,3.32a2,2,0,0,1,2.83,0l1.4,1.43a1.91,1.91,0,0,1,.58,1.4,1.91,1.91,0,0,1-.58,1.4L9.25,21ZM18.45,9,17,7.55Zm-12,3A5.31,5.31,0,0,0,4.9,8.1,5.31,5.31,0,0,0,1,6.5,5.31,5.31,0,0,0,4.9,4.9,5.31,5.31,0,0,0,6.5,1,5.31,5.31,0,0,0,8.1,4.9,5.31,5.31,0,0,0,12,6.5,5.46,5.46,0,0,0,6.5,12Z\"/>\n",
              "  </svg>\n",
              "    </button>\n",
              "    <script>\n",
              "      (() => {\n",
              "      const buttonEl =\n",
              "        document.querySelector('#id_2647ce86-503d-4184-878a-0ec882fffd79 button.colab-df-generate');\n",
              "      buttonEl.style.display =\n",
              "        google.colab.kernel.accessAllowed ? 'block' : 'none';\n",
              "\n",
              "      buttonEl.onclick = () => {\n",
              "        google.colab.notebook.generateWithVariable('result_df');\n",
              "      }\n",
              "      })();\n",
              "    </script>\n",
              "  </div>\n",
              "\n",
              "    </div>\n",
              "  </div>\n"
            ],
            "text/plain": [
              "          comment  rating\n",
              "0        거리의 한 장소       2\n",
              "1          거리의 장소       2\n",
              "2        거리의 한 장소       2\n",
              "3          거리의 위치       2\n",
              "4          거리의 위치       2\n",
              "...           ...     ...\n",
              "38572  주차도 인심 못하는       1\n",
              "38573  주차도 못하는 인심       1\n",
              "38574     주차도 못하다       1\n",
              "38575     못하다 주차도       1\n",
              "38576     주차도 못하다       1\n",
              "\n",
              "[38577 rows x 2 columns]"
            ]
          },
          "execution_count": 61,
          "metadata": {},
          "output_type": "execute_result"
        }
      ],
      "source": [
        "#EDA\n",
        "import random\n",
        "import pickle\n",
        "import pandas as pd\n",
        "from google.colab import drive\n",
        "\n",
        "# Google 드라이브 마운트\n",
        "drive.mount('/content/drive')\n",
        "wordnet_path = '/content/drive/MyDrive/wordnet.pickle'\n",
        "\n",
        "wordnet = {}\n",
        "\n",
        "def synonym_replacement(words, n):\n",
        "    new_words = words.copy()\n",
        "    random_word_list = list(set([word for word in words]))\n",
        "    random.shuffle(random_word_list)\n",
        "    num_replaced = 0\n",
        "    for random_word in random_word_list:\n",
        "        synonyms = get_synonyms(random_word)\n",
        "        if len(synonyms) >= 1:\n",
        "            synonym = random.choice(list(synonyms))\n",
        "            new_words = [synonym if word == random_word else word for word in new_words]\n",
        "            num_replaced += 1\n",
        "        if num_replaced >= n:\n",
        "            break\n",
        "    return new_words if len(new_words) != 0 else []\n",
        "\n",
        "def get_synonyms(word):\n",
        "    synonyms = []\n",
        "    try:\n",
        "        for syn in wordnet[word]:\n",
        "            for s in syn:\n",
        "                synonyms.append(s)\n",
        "    except KeyError:\n",
        "        pass\n",
        "    return synonyms\n",
        "\n",
        "def random_deletion(words, p):\n",
        "    if len(words) == 1:\n",
        "        return words\n",
        "    new_words = [word for word in words if random.uniform(0, 1) > p]\n",
        "    return new_words if len(new_words) != 0 else [random.choice(words)]\n",
        "\n",
        "def random_swap(words, n):\n",
        "    new_words = words.copy()\n",
        "    for _ in range(n):\n",
        "        new_words = swap_word(new_words)\n",
        "    return new_words\n",
        "\n",
        "def swap_word(new_words):\n",
        "    if len(new_words) < 2:\n",
        "        return new_words\n",
        "    idx1, idx2 = random.sample(range(len(new_words)), 2)\n",
        "    new_words[idx1], new_words[idx2] = new_words[idx2], new_words[idx1]\n",
        "    return new_words\n",
        "\n",
        "def random_insertion(words, n):\n",
        "    new_words = words.copy()\n",
        "    for _ in range(n):\n",
        "        add_word(new_words)\n",
        "    return new_words\n",
        "\n",
        "def add_word(new_words):\n",
        "    synonyms = []\n",
        "    counter = 0\n",
        "    while len(synonyms) < 1 and counter < 10:\n",
        "        random_word = random.choice(new_words)\n",
        "        synonyms = get_synonyms(random_word)\n",
        "        counter += 1\n",
        "    if synonyms:\n",
        "        random_synonym = random.choice(synonyms)\n",
        "        random_idx = random.randint(0, len(new_words))\n",
        "        new_words.insert(random_idx, random_synonym)\n",
        "\n",
        "# EDA 적용 함수\n",
        "def EDA(sentence, alpha_sr=0.1, alpha_ri=0.1, alpha_rs=0.1, p_rd=0.1, num_aug=9):\n",
        "    words = sentence.split(' ')\n",
        "    words = [word for word in words if word]\n",
        "    num_words = len(words)\n",
        "\n",
        "    augmented_sentences = []\n",
        "    num_new_per_technique = int(num_aug / 4) + 1\n",
        "\n",
        "    n_sr = max(1, int(alpha_sr * num_words))\n",
        "    n_ri = max(1, int(alpha_ri * num_words))\n",
        "    n_rs = max(1, int(alpha_rs * num_words))\n",
        "\n",
        "    # Synonym replacement\n",
        "    for _ in range(num_new_per_technique):\n",
        "        a_words = synonym_replacement(words, n_sr)\n",
        "        augmented_sentences.append(' '.join(a_words))\n",
        "\n",
        "    # Random insertion\n",
        "    for _ in range(num_new_per_technique):\n",
        "        a_words = random_insertion(words, n_ri)\n",
        "        augmented_sentences.append(' '.join(a_words))\n",
        "\n",
        "    # Random swap\n",
        "    for _ in range(num_new_per_technique):\n",
        "        a_words = random_swap(words, n_rs)\n",
        "        augmented_sentences.append(\" \".join(a_words))\n",
        "\n",
        "    # Random deletion\n",
        "    for _ in range(num_new_per_technique):\n",
        "        a_words = random_deletion(words, p_rd)\n",
        "        augmented_sentences.append(\" \".join(a_words))\n",
        "\n",
        "    random.shuffle(augmented_sentences)\n",
        "\n",
        "    if num_aug >= 1:\n",
        "        augmented_sentences = augmented_sentences[:num_aug]\n",
        "    else:\n",
        "        keep_prob = num_aug / len(augmented_sentences)\n",
        "        augmented_sentences = [s for s in augmented_sentences if random.uniform(0, 1) < keep_prob]\n",
        "\n",
        "    augmented_sentences.append(sentence)\n",
        "    return augmented_sentences\n",
        "\n",
        "# DataFrame에 EDA 적용 함수\n",
        "def apply_eda_to_dataframe_v2(df, alpha_sr=0.1, alpha_ri=0.1, alpha_rs=0.1, p_rd=0.1):\n",
        "    # 최종 결과를 담을 리스트\n",
        "    augmented_data = []\n",
        "\n",
        "    for _, row in df.iterrows():\n",
        "        comment = row['comment']\n",
        "        rating = row['rating']\n",
        "\n",
        "        # 증강 배수 설정\n",
        "        if rating == 1:\n",
        "            num_aug = 2  # 1인 경우 2배 증강\n",
        "        elif rating == 2:\n",
        "            num_aug = 2  # 2인 경우 2배 증강\n",
        "        else:\n",
        "            continue  # 나머지는 증강하지 않음\n",
        "\n",
        "        # EDA 적용\n",
        "        augmented_comments = EDA(comment, alpha_sr, alpha_ri, alpha_rs, p_rd, num_aug)\n",
        "\n",
        "        for augmented_comment in augmented_comments:\n",
        "            augmented_data.append({'comment': augmented_comment, 'rating': rating})\n",
        "\n",
        "    augmented_df = pd.DataFrame(augmented_data)\n",
        "    return augmented_df\n",
        "\n",
        "df = combined_df\n",
        "result_df = apply_eda_to_dataframe_v2(df)\n",
        "result_df"
      ]
    },
    {
      "cell_type": "code",
      "execution_count": null,
      "metadata": {
        "id": "qK0zCX1VtaO5"
      },
      "outputs": [],
      "source": [
        "df = pd.concat([result_df, combined_df])"
      ]
    },
    {
      "cell_type": "code",
      "execution_count": null,
      "metadata": {
        "colab": {
          "base_uri": "https://localhost:8080/",
          "height": 571
        },
        "id": "_AaCsLAataO6",
        "outputId": "69119f35-7fd3-4c21-9724-7544cc75db92"
      },
      "outputs": [
        {
          "data": {
            "image/png": "[encoded data removed]",
            "text/plain": [
              "<Figure size 800x600 with 1 Axes>"
            ]
          },
          "metadata": {},
          "output_type": "display_data"
        }
      ],
      "source": [
        "import matplotlib.pyplot as plt\n",
        "#EDA이후의 분포 그래프로 나타내기\n",
        "# 별점 분포 계산\n",
        "rating_distribution = df['rating'].value_counts().sort_index()\n",
        "\n",
        "# 그래프 그리기\n",
        "plt.figure(figsize=(8, 6))\n",
        "plt.bar(rating_distribution.index, rating_distribution.values)\n",
        "plt.title('google_map_rating', fontsize=16)\n",
        "plt.xlabel('rating', fontsize=14)\n",
        "plt.ylabel('count', fontsize=14)\n",
        "plt.xticks(rating_distribution.index)\n",
        "plt.grid(axis='y', linestyle='--', alpha=0.7)\n",
        "plt.show()\n"
      ]
    },
    {
      "cell_type": "code",
      "execution_count": null,
      "metadata": {
        "colab": {
          "base_uri": "https://localhost:8080/"
        },
        "id": "g_aDnFEvtaO6",
        "outputId": "3f507192-0757-4c5e-d11f-c81bde561b96"
      },
      "outputs": [
        {
          "name": "stdout",
          "output_type": "stream",
          "text": [
            "Rating 1: 34.18%\n",
            "Rating 2: 19.15%\n",
            "Rating 3: 12.98%\n",
            "Rating 4: 19.45%\n",
            "Rating 5: 14.25%\n"
          ]
        }
      ],
      "source": [
        "# 별점 비율 계산\n",
        "rating_percentage = (df['rating'].value_counts(normalize=True) * 100).sort_index()\n",
        "\n",
        "# 비율 출력\n",
        "for rating, percentage in rating_percentage.items():\n",
        "    print(f\"Rating {rating}: {percentage:.2f}%\")"
      ]
    },
    {
      "cell_type": "code",
      "execution_count": null,
      "metadata": {
        "colab": {
          "base_uri": "https://localhost:8080/"
        },
        "id": "pHoGiJIgtaO7",
        "outputId": "da1adfa1-3f2c-4ddd-bc3a-66ccff122776"
      },
      "outputs": [
        {
          "name": "stdout",
          "output_type": "stream",
          "text": [
            "Original Google Data Shape: (96447, 4)\n",
            "Augmented Data Shape (After Deduplication): (119278, 2)\n",
            "    comment  rating\n",
            "0  거리의 한 장소       2\n",
            "1  한 장소 거리의       2\n",
            "2    거리의 장소       2\n",
            "3    거리의 장소       2\n",
            "4    거리의 위치       2\n"
          ]
        }
      ],
      "source": [
        "#swap\n",
        "# 결측값 제거\n",
        "google_data_cleaned = df\n",
        "google_data_cleaned = google_data_cleaned.dropna(subset=['comment'])\n",
        "\n",
        "# 모든 값을 문자열로 변환\n",
        "google_data_cleaned['comment'] = google_data_cleaned['comment'].astype(str)\n",
        "\n",
        "# random_swap 함수 및 증강 함수 유지\n",
        "def augment_text_with_swap(text, num_augments=1):\n",
        "    if not isinstance(text, str):  # 데이터가 문자열인지 확인\n",
        "        return []\n",
        "    words = text.split()  # 문장을 단어 단위로 분리\n",
        "    augmented_texts = []\n",
        "\n",
        "    for _ in range(num_augments):\n",
        "        augmented_text = random_swap(words, n=2)  # 2번 교환 수행\n",
        "        augmented_texts.append(\" \".join(augmented_text))  # 증강된 텍스트를 문자열로 변환\n",
        "\n",
        "    return augmented_texts\n",
        "\n",
        "# 중복된 comment 제거\n",
        "unique_google_data = google_data_cleaned.drop_duplicates(subset=['comment'])\n",
        "\n",
        "# 증강된 데이터 생성\n",
        "augmented_google_comments = []\n",
        "augmented_ratings = []\n",
        "augmented_store_names = []\n",
        "augmentation_factor = 1\n",
        "\n",
        "for _, row in unique_google_data.iterrows():\n",
        "    comment = row['comment']\n",
        "    rating = row['rating']\n",
        "\n",
        "    # 원본 데이터 포함\n",
        "    augmented_google_comments.append(comment)\n",
        "    augmented_ratings.append(rating)\n",
        "\n",
        "    # 증강 데이터 추가\n",
        "    augmented_comments = augment_text_with_swap(comment, num_augments=augmentation_factor)\n",
        "    augmented_google_comments.extend(augmented_comments)\n",
        "    augmented_ratings.extend([rating] * len(augmented_comments))\n",
        "\n",
        "# 새로운 데이터프레임 생성\n",
        "augmented_google_data_cleaned = pd.DataFrame({\n",
        "    'comment': augmented_google_comments,\n",
        "    'rating': augmented_ratings\n",
        "})\n",
        "\n",
        "# 증강된 데이터 확인\n",
        "print(f\"Original Google Data Shape: {google_data_cleaned.shape}\")\n",
        "print(f\"Augmented Data Shape (After Deduplication): {augmented_google_data_cleaned.shape}\")\n",
        "print(augmented_google_data_cleaned.head())\n"
      ]
    },
    {
      "cell_type": "code",
      "execution_count": null,
      "metadata": {
        "colab": {
          "base_uri": "https://localhost:8080/",
          "height": 662
        },
        "id": "6QanSPp5taO7",
        "outputId": "98c4a8df-2e95-464d-f23f-67b6b127835a"
      },
      "outputs": [
        {
          "data": {
            "image/png": "[encoded data removed]",
            "text/plain": [
              "<Figure size 800x600 with 1 Axes>"
            ]
          },
          "metadata": {},
          "output_type": "display_data"
        },
        {
          "name": "stdout",
          "output_type": "stream",
          "text": [
            "Rating 1: 23.12%\n",
            "Rating 2: 12.35%\n",
            "Rating 3: 17.53%\n",
            "Rating 4: 27.22%\n",
            "Rating 5: 19.78%\n"
          ]
        }
      ],
      "source": [
        "#swap 이후 변화\n",
        "import matplotlib.pyplot as plt\n",
        "df = augmented_google_data_cleaned\n",
        "# 별점 분포 계산\n",
        "rating_distribution = df['rating'].value_counts().sort_index()\n",
        "\n",
        "# 그래프 그리기\n",
        "plt.figure(figsize=(8, 6))\n",
        "plt.bar(rating_distribution.index, rating_distribution.values)\n",
        "plt.title('google_map_rating', fontsize=16)\n",
        "plt.xlabel('rating', fontsize=14)\n",
        "plt.ylabel('count', fontsize=14)\n",
        "plt.xticks(rating_distribution.index)\n",
        "plt.grid(axis='y', linestyle='--', alpha=0.7)\n",
        "plt.show()\n",
        "# 별점 비율 계산\n",
        "rating_percentage = (df['rating'].value_counts(normalize=True) * 100).sort_index()\n",
        "\n",
        "# 비율 출력\n",
        "for rating, percentage in rating_percentage.items():\n",
        "    print(f\"Rating {rating}: {percentage:.2f}%\")"
      ]
    },
    {
      "cell_type": "code",
      "execution_count": null,
      "metadata": {
        "colab": {
          "base_uri": "https://localhost:8080/"
        },
        "id": "Uu1du48UtaO7",
        "outputId": "de080bfd-b1d6-43cb-e99b-c127db28c1bd"
      },
      "outputs": [
        {
          "name": "stdout",
          "output_type": "stream",
          "text": [
            "Rating Ratios: 23:12:18:27:20\n"
          ]
        }
      ],
      "source": [
        "# 비율\n",
        "rating_ratio = [f\"{round(percentage):.0f}\" for percentage in rating_percentage]\n",
        "\n",
        "# 비율 출력\n",
        "print(\"Rating Ratios: \" + \":\".join(rating_ratio))"
      ]
    },
    {
      "cell_type": "markdown",
      "metadata": {
        "id": "eGJn5VV9iXu0"
      },
      "source": [
        "# 모델 학습"
      ]
    },
    {
      "cell_type": "markdown",
      "metadata": {
        "id": "CIhYwujxuE_6"
      },
      "source": [
        "##  TF-IDF->Random Forest\n",
        "\n"
      ]
    },
    {
      "cell_type": "code",
      "execution_count": null,
      "metadata": {
        "colab": {
          "base_uri": "https://localhost:8080/"
        },
        "id": "UJdAAMn3uJta",
        "outputId": "9cff76c7-3d36-4bb7-d394-82ebd86f5743"
      },
      "outputs": [
        {
          "name": "stdout",
          "output_type": "stream",
          "text": [
            "Mounted at /content/drive\n"
          ]
        }
      ],
      "source": [
        "from sklearn.model_selection import train_test_split\n",
        "from sklearn.metrics import classification_report, accuracy_score\n",
        "from sklearn.ensemble import RandomForestClassifier\n",
        "from sklearn.feature_extraction.text import TfidfVectorizer\n",
        "from google.colab import drive\n",
        "drive.mount('/content/drive')\n",
        "import pandas as pd"
      ]
    },
    {
      "cell_type": "code",
      "execution_count": null,
      "metadata": {
        "id": "Lo39wANDuMSB"
      },
      "outputs": [],
      "source": [
        "combined_df = pd.read_csv(\"/content/drive/MyDrive/preprocess+translate+eda+swap.csv\")\n",
        "x = combined_df['comment']\n",
        "y = combined_df['rating']\n",
        "\n",
        "tfidf_vectorizer = TfidfVectorizer()\n",
        "x = tfidf_vectorizer.fit_transform(x)\n",
        "X_train_resampled, X_test, y_train_resampled,y_test = train_test_split(x, y, test_size = 0.2, random_state = 42)"
      ]
    },
    {
      "cell_type": "code",
      "execution_count": null,
      "metadata": {
        "colab": {
          "base_uri": "https://localhost:8080/"
        },
        "id": "bunJXavVtaO8",
        "outputId": "5038b8a0-da1c-4155-aace-5864c2b20cb7"
      },
      "outputs": [
        {
          "name": "stdout",
          "output_type": "stream",
          "text": [
            "훈련 세트 성능 평가 지표:\n",
            "Train Accuracy (정확도): 0.9877\n",
            "\n",
            "Train Classification Report:\n",
            "              precision    recall  f1-score   support\n",
            "\n",
            "           1       0.99      0.99      0.99     21975\n",
            "           2       0.99      0.98      0.99     11763\n",
            "           3       0.99      0.98      0.99     16765\n",
            "           4       0.99      0.99      0.99     26043\n",
            "           5       0.97      0.99      0.98     18876\n",
            "\n",
            "    accuracy                           0.99     95422\n",
            "   macro avg       0.99      0.99      0.99     95422\n",
            "weighted avg       0.99      0.99      0.99     95422\n",
            "\n",
            "\n",
            "테스트 세트 성능 평가 지표:\n",
            "Test Accuracy (정확도): 0.9231\n",
            "\n",
            "Test Classification Report:\n",
            "              precision    recall  f1-score   support\n",
            "\n",
            "           1       0.95      0.97      0.96      5601\n",
            "           2       0.96      0.94      0.95      2963\n",
            "           3       0.94      0.84      0.89      4149\n",
            "           4       0.91      0.90      0.91      6423\n",
            "           5       0.86      0.95      0.90      4720\n",
            "\n",
            "    accuracy                           0.92     23856\n",
            "   macro avg       0.93      0.92      0.92     23856\n",
            "weighted avg       0.92      0.92      0.92     23856\n",
            "\n"
          ]
        }
      ],
      "source": [
        "rf = RandomForestClassifier(random_state = 42)\n",
        "rf.fit(X_train_resampled,y_train_resampled)\n",
        "pred = rf.predict(X_test)\n",
        "\n",
        "# 훈련 세트에 대한 성능 평가\n",
        "train_pred = rf.predict(X_train_resampled)\n",
        "train_accuracy = accuracy_score(y_train_resampled, train_pred)\n",
        "print(\"훈련 세트 성능 평가 지표:\")\n",
        "print(f\"Train Accuracy (정확도): {train_accuracy:.4f}\")\n",
        "print(\"\\nTrain Classification Report:\")\n",
        "print(classification_report(y_train_resampled, train_pred))\n",
        "\n",
        "# 테스트 세트에 대한 성능 평가\n",
        "test_pred = rf.predict(X_test)\n",
        "test_accuracy = accuracy_score(y_test, test_pred)\n",
        "print(\"\\n테스트 세트 성능 평가 지표:\")\n",
        "print(f\"Test Accuracy (정확도): {test_accuracy:.4f}\")\n",
        "print(\"\\nTest Classification Report:\")\n",
        "print(classification_report(y_test, test_pred))"
      ]
    },
    {
      "cell_type": "code",
      "execution_count": null,
      "metadata": {
        "colab": {
          "base_uri": "https://localhost:8080/",
          "height": 899
        },
        "id": "_xydGDwxtaO8",
        "outputId": "69da666d-0638-4394-957c-f47d95691a9b"
      },
      "outputs": [
        {
          "data": {
            "image/png": "[encoded data removed]",
            "text/plain": [
              "<Figure size 1000x600 with 1 Axes>"
            ]
          },
          "metadata": {},
          "output_type": "display_data"
        },
        {
          "name": "stdout",
          "output_type": "stream",
          "text": [
            "True Distribution (%):\n",
            "rating\n",
            "1     1.896932\n",
            "2     1.048235\n",
            "3     2.894618\n",
            "4     8.516242\n",
            "5    85.643973\n",
            "Name: proportion, dtype: float64\n",
            "\n",
            "Predicted Distribution (%):\n",
            "1     4.280735\n",
            "2     0.396414\n",
            "3     2.303988\n",
            "4    16.109293\n",
            "5    76.909570\n",
            "Name: proportion, dtype: float64\n"
          ]
        }
      ],
      "source": [
        "yogiyo_data = pd.read_csv(\"/content/drive/MyDrive/preprocessed_yogiyo_review.csv\")\n",
        "yogiyo_data.dropna(inplace = True)\n",
        "yogiyo_data.to_csv(\"/content/drive/MyDrive/preprocessed_yogiyo_review.csv\")\n",
        "x = yogiyo_data['comment']\n",
        "y = yogiyo_data['rating']\n",
        "\n",
        "from sklearn.model_selection import train_test_split\n",
        "from sklearn.metrics import classification_report, accuracy_score\n",
        "from sklearn.ensemble import RandomForestClassifier\n",
        "from sklearn.model_selection import train_test_split\n",
        "from sklearn.feature_extraction.text import TfidfVectorizer\n",
        "import matplotlib.pyplot as plt\n",
        "\n",
        "x = tfidf_vectorizer.transform(x)\n",
        "y_yogiyo_pred = rf.predict(x)\n",
        "\n",
        "# 정답값 분포 계산\n",
        "true_distribution_yogiyo = y.value_counts(normalize=True) * 100\n",
        "\n",
        "# 예측값 분포 계산\n",
        "pred_distribution_yogiyo = pd.Series(y_yogiyo_pred).value_counts(normalize=True) * 100\n",
        "\n",
        "# 그래프 그리기\n",
        "fig, ax = plt.subplots(figsize=(10, 6))\n",
        "\n",
        "# 실제 값 분포\n",
        "true_distribution_yogiyo.sort_index().plot(kind='bar', alpha=0.6, color='blue', label='True Distribution', ax=ax)\n",
        "\n",
        "# 예측 값 분포\n",
        "pred_distribution_yogiyo.sort_index().plot(kind='bar', alpha=0.6, color='orange', label='Predicted Distribution', ax=ax)\n",
        "\n",
        "plt.title(\"True vs Predicted Rating Distribution (Yogiyo Data)\", fontsize=16)\n",
        "plt.xlabel(\"Rating\", fontsize=14)\n",
        "plt.ylabel(\"Percentage (%)\", fontsize=14)\n",
        "plt.legend()\n",
        "plt.grid(axis='y', linestyle='--', alpha=0.7)\n",
        "plt.xticks(rotation=0)\n",
        "plt.tight_layout()\n",
        "\n",
        "plt.show()\n",
        "\n",
        "# 분포 출력\n",
        "print(\"True Distribution (%):\")\n",
        "print(true_distribution_yogiyo.sort_index())\n",
        "\n",
        "print(\"\\nPredicted Distribution (%):\")\n",
        "print(pred_distribution_yogiyo.sort_index())\n"
      ]
    },
    {
      "cell_type": "code",
      "execution_count": null,
      "metadata": {
        "colab": {
          "base_uri": "https://localhost:8080/"
        },
        "id": "jK195iQftaO8",
        "outputId": "9bcf582e-96b4-4459-c3fb-0d3a541b7296"
      },
      "outputs": [
        {
          "name": "stdout",
          "output_type": "stream",
          "text": [
            "Accuracy Score: 0.7283\n"
          ]
        }
      ],
      "source": [
        "# 정확도 계산\n",
        "accuracy = accuracy_score(y, y_yogiyo_pred)\n",
        "\n",
        "# 정확도 출력\n",
        "print(f\"Accuracy Score: {accuracy:.4f}\")"
      ]
    },
    {
      "cell_type": "code",
      "execution_count": null,
      "metadata": {
        "id": "_ybwdlSMNZ_q"
      },
      "outputs": [],
      "source": [
        "yogiyo = pd.read_csv(\"/content/drive/MyDrive/yogigyo_Review_data.csv\")"
      ]
    },
    {
      "cell_type": "code",
      "execution_count": null,
      "metadata": {
        "id": "Fn9BH2QpdAED"
      },
      "outputs": [],
      "source": [
        "incorrect_indices = np.where(y_yogiyo_pred != y)[0]\n",
        "correct_indices = np.where(y_yogiyo_pred == y)[0]\n",
        "\n",
        "index_incorrect = [yogiyo_data['Unnamed: 0'][i] for i in incorrect_indices]\n",
        "index_correct = [yogiyo_data['Unnamed: 0'][i] for i in correct_indices]"
      ]
    },
    {
      "cell_type": "code",
      "execution_count": null,
      "metadata": {
        "id": "rU3wW-bvMeT9"
      },
      "outputs": [],
      "source": [
        "incorrect_results = pd.DataFrame({\n",
        "    'Index': incorrect_indices,\n",
        "    'Actual': y.iloc[incorrect_indices].values,\n",
        "    'Predicted': y_yogiyo_pred[incorrect_indices],\n",
        "    'Comment_preprocessing': [list(yogiyo_data['comment'][i]) for i in incorrect_indices],\n",
        "    'Comment': [list(yogiyo['comment'][i]) for i in index_incorrect]\n",
        "})\n",
        "\n",
        "correct_results = pd.DataFrame({\n",
        "    'Index': correct_indices,\n",
        "    'Actual': y.iloc[correct_indices].values,\n",
        "    'Predicted': y_yogiyo_pred[correct_indices],\n",
        "    'Comment_preprocessing': [list(yogiyo_data['comment'][i]) for i in correct_indices],\n",
        "    'Comment': [list(yogiyo['comment'][i]) for i in index_correct]\n",
        "})"
      ]
    },
    {
      "cell_type": "code",
      "execution_count": null,
      "metadata": {
        "id": "ucu696s-cIbV"
      },
      "outputs": [],
      "source": [
        "incorrect_results.to_csv('/content/drive/MyDrive/incorrect_predictions_yogiyo.csv', index=False)\n",
        "correct_results.to_csv('/content/drive/MyDrive/correct_predictions_yogiyo.csv', index=False)"
      ]
    },
    {
      "cell_type": "code",
      "execution_count": null,
      "metadata": {
        "colab": {
          "base_uri": "https://localhost:8080/",
          "height": 1000
        },
        "id": "15V9S-pTtaO9",
        "outputId": "1647c282-14a6-4deb-8472-94ad253b3d34"
      },
      "outputs": [
        {
          "data": {
            "image/png": "[encoded data removed]",
            "text/plain": [
              "<Figure size 800x600 with 1 Axes>"
            ]
          },
          "metadata": {},
          "output_type": "display_data"
        },
        {
          "data": {
            "image/png": "[encoded data removed]",
            "text/plain": [
              "<Figure size 800x600 with 1 Axes>"
            ]
          },
          "metadata": {},
          "output_type": "display_data"
        },
        {
          "name": "stdout",
          "output_type": "stream",
          "text": [
            "True Distribution (%):\n",
            "rating\n",
            "1     1.896932\n",
            "2     1.048235\n",
            "3     2.894618\n",
            "4     8.516242\n",
            "5    85.643973\n",
            "Name: proportion, dtype: float64\n",
            "\n",
            "Predicted Distribution (%):\n",
            "1     4.280735\n",
            "2     0.396414\n",
            "3     2.303988\n",
            "4    16.109293\n",
            "5    76.909570\n",
            "Name: proportion, dtype: float64\n"
          ]
        }
      ],
      "source": [
        "import matplotlib.pyplot as plt\n",
        "\n",
        "# 그래프 1: 실제 값 분포\n",
        "fig, ax1 = plt.subplots(figsize=(8, 6))\n",
        "true_distribution_yogiyo.sort_index().plot(kind='bar', alpha=0.6, color='blue', label='True Distribution', ax=ax1)\n",
        "ax1.set_title(\"True Rating Distribution (Yogiyo Data)\", fontsize=16)\n",
        "ax1.set_xlabel(\"Rating\", fontsize=14)\n",
        "ax1.set_ylabel(\"Percentage (%)\", fontsize=14)\n",
        "ax1.grid(axis='y', linestyle='--', alpha=0.7)\n",
        "ax1.legend()\n",
        "plt.xticks(rotation=0)\n",
        "plt.tight_layout()\n",
        "plt.show()\n",
        "\n",
        "# 그래프 2: 예측 값 분포\n",
        "fig, ax2 = plt.subplots(figsize=(8, 6))\n",
        "pred_distribution_yogiyo.sort_index().plot(kind='bar', alpha=0.6, color='orange', label='Predicted Distribution', ax=ax2)\n",
        "ax2.set_title(\"Predicted Rating Distribution (Yogiyo Data)\", fontsize=16)\n",
        "ax2.set_xlabel(\"Rating\", fontsize=14)\n",
        "ax2.set_ylabel(\"Percentage (%)\", fontsize=14)\n",
        "ax2.grid(axis='y', linestyle='--', alpha=0.7)\n",
        "ax2.legend()\n",
        "plt.xticks(rotation=0)\n",
        "plt.tight_layout()\n",
        "plt.show()\n",
        "\n",
        "# 분포 출력\n",
        "print(\"True Distribution (%):\")\n",
        "print(true_distribution_yogiyo.sort_index())\n",
        "\n",
        "print(\"\\nPredicted Distribution (%):\")\n",
        "print(pred_distribution_yogiyo.sort_index())\n"
      ]
    },
    {
      "cell_type": "markdown",
      "metadata": {
        "id": "dZyqo4xppvQs"
      },
      "source": [
        "## TF-IDF -> lightgbm"
      ]
    },
    {
      "cell_type": "code",
      "execution_count": null,
      "metadata": {
        "colab": {
          "base_uri": "https://localhost:8080/"
        },
        "id": "GwAueUMmP4Kc",
        "outputId": "aadc2b70-a400-4a66-dbae-5df47c507222"
      },
      "outputs": [
        {
          "name": "stderr",
          "output_type": "stream",
          "text": [
            "/usr/local/lib/python3.10/dist-packages/dask/dataframe/__init__.py:42: FutureWarning: \n",
            "Dask dataframe query planning is disabled because dask-expr is not installed.\n",
            "\n",
            "You can install it with `pip install dask[dataframe]` or `conda install dask`.\n",
            "This will raise in a future version.\n",
            "\n",
            "  warnings.warn(msg, FutureWarning)\n"
          ]
        },
        {
          "name": "stdout",
          "output_type": "stream",
          "text": [
            "[LightGBM] [Info] Auto-choosing col-wise multi-threading, the overhead of testing was 11.989022 seconds.\n",
            "You can set `force_col_wise=true` to remove the overhead.\n",
            "[LightGBM] [Info] Total Bins 183083\n",
            "[LightGBM] [Info] Number of data points in the train set: 95422, number of used features: 5641\n",
            "[LightGBM] [Info] Start training from score -1.468404\n",
            "[LightGBM] [Info] Start training from score -2.093350\n",
            "[LightGBM] [Info] Start training from score -1.739016\n",
            "[LightGBM] [Info] Start training from score -1.298560\n",
            "[LightGBM] [Info] Start training from score -1.620418\n",
            "훈련 세트 성능 평가 지표:\n",
            "Train Accuracy (정확도): 0.9877\n",
            "\n",
            "Train Classification Report:\n",
            "              precision    recall  f1-score   support\n",
            "\n",
            "           1       0.99      0.99      0.99     21975\n",
            "           2       0.99      0.98      0.99     11763\n",
            "           3       0.99      0.98      0.99     16765\n",
            "           4       0.99      0.99      0.99     26043\n",
            "           5       0.97      0.99      0.98     18876\n",
            "\n",
            "    accuracy                           0.99     95422\n",
            "   macro avg       0.99      0.99      0.99     95422\n",
            "weighted avg       0.99      0.99      0.99     95422\n",
            "\n",
            "\n",
            "테스트 세트 성능 평가 지표:\n",
            "Test Accuracy (정확도): 0.9231\n",
            "\n",
            "Test Classification Report:\n",
            "              precision    recall  f1-score   support\n",
            "\n",
            "           1       0.95      0.97      0.96      5601\n",
            "           2       0.96      0.94      0.95      2963\n",
            "           3       0.94      0.84      0.89      4149\n",
            "           4       0.91      0.90      0.91      6423\n",
            "           5       0.86      0.95      0.90      4720\n",
            "\n",
            "    accuracy                           0.92     23856\n",
            "   macro avg       0.93      0.92      0.92     23856\n",
            "weighted avg       0.92      0.92      0.92     23856\n",
            "\n"
          ]
        }
      ],
      "source": [
        "import lightgbm as lgb\n",
        "\n",
        "combined_df = pd.read_csv(\"/content/drive/MyDrive/preprocess+translate+eda+swap.csv\")\n",
        "x = combined_df['comment']\n",
        "y = combined_df['rating']\n",
        "\n",
        "tfidf_vectorizer_lgb = TfidfVectorizer()\n",
        "x = tfidf_vectorizer_lgb.fit_transform(x)\n",
        "X_train_resampled, X_test, y_train_resampled,y_test = train_test_split(x, y, test_size = 0.2, random_state = 42)\n",
        "\n",
        "lgb = lgb.LGBMClassifier(random_state = 42)\n",
        "lgb.fit(X_train_resampled, y_train_resampled)\n",
        "y_pred = lgb.predict(X_test)\n",
        "# 훈련 세트에 대한 성능 평가\n",
        "train_pred = rf.predict(X_train_resampled)\n",
        "train_accuracy = accuracy_score(y_train_resampled, train_pred)\n",
        "print(\"훈련 세트 성능 평가 지표:\")\n",
        "print(f\"Train Accuracy (정확도): {train_accuracy:.4f}\")\n",
        "print(\"\\nTrain Classification Report:\")\n",
        "print(classification_report(y_train_resampled, train_pred))\n",
        "\n",
        "# 테스트 세트에 대한 성능 평가\n",
        "test_pred = rf.predict(X_test)\n",
        "test_accuracy = accuracy_score(y_test, test_pred)\n",
        "print(\"\\n테스트 세트 성능 평가 지표:\")\n",
        "print(f\"Test Accuracy (정확도): {test_accuracy:.4f}\")\n",
        "print(\"\\nTest Classification Report:\")\n",
        "print(classification_report(y_test, test_pred))"
      ]
    },
    {
      "cell_type": "code",
      "execution_count": null,
      "metadata": {
        "colab": {
          "base_uri": "https://localhost:8080/",
          "height": 897
        },
        "id": "4ulL71sUtvDi",
        "outputId": "20bb7b5a-9dbd-4bc8-ab73-3ff2de1547c1"
      },
      "outputs": [
        {
          "data": {
            "image/png": "[encoded data removed]",
            "text/plain": [
              "<Figure size 1000x600 with 1 Axes>"
            ]
          },
          "metadata": {},
          "output_type": "display_data"
        },
        {
          "name": "stdout",
          "output_type": "stream",
          "text": [
            "True Distribution (%):\n",
            "rating\n",
            "1     1.896932\n",
            "2     1.048235\n",
            "3     2.894618\n",
            "4     8.516242\n",
            "5    85.643973\n",
            "Name: proportion, dtype: float64\n",
            "\n",
            "Predicted Distribution (%):\n",
            "1     9.229255\n",
            "2     0.965759\n",
            "3     1.489877\n",
            "4    10.099236\n",
            "5    78.215873\n",
            "Name: proportion, dtype: float64\n"
          ]
        }
      ],
      "source": [
        "yogiyo_data = pd.read_csv(\"/content/drive/MyDrive/preprocessed_yogiyo_review.csv\")\n",
        "yogiyo_data.dropna(inplace = True)\n",
        "yogiyo_data.to_csv(\"/content/drive/MyDrive/preprocessed_yogiyo_review.csv\")\n",
        "x = yogiyo_data['comment']\n",
        "y = yogiyo_data['rating']\n",
        "\n",
        "from sklearn.model_selection import train_test_split\n",
        "from sklearn.metrics import classification_report, accuracy_score\n",
        "from sklearn.ensemble import RandomForestClassifier\n",
        "from sklearn.model_selection import train_test_split\n",
        "from sklearn.feature_extraction.text import TfidfVectorizer\n",
        "\n",
        "x = tfidf_vectorizer_lgb.transform(x)\n",
        "y_yogiyo_pred = lgb.predict(x)\n",
        "\n",
        "# 정답값 분포 계산\n",
        "true_distribution_yogiyo = y.value_counts(normalize=True) * 100\n",
        "\n",
        "# 예측값 분포 계산\n",
        "pred_distribution_yogiyo = pd.Series(y_yogiyo_pred).value_counts(normalize=True) * 100\n",
        "\n",
        "# 그래프 그리기\n",
        "fig, ax = plt.subplots(figsize=(10, 6))\n",
        "\n",
        "# 실제 값 분포\n",
        "true_distribution_yogiyo.sort_index().plot(kind='bar', alpha=0.6, color='blue', label='True Distribution', ax=ax)\n",
        "\n",
        "# 예측 값 분포\n",
        "pred_distribution_yogiyo.sort_index().plot(kind='bar', alpha=0.6, color='orange', label='Predicted Distribution', ax=ax)\n",
        "\n",
        "plt.title(\"True vs Predicted Rating Distribution (Yogiyo Data)\", fontsize=16)\n",
        "plt.xlabel(\"Rating\", fontsize=14)\n",
        "plt.ylabel(\"Percentage (%)\", fontsize=14)\n",
        "plt.legend()\n",
        "plt.grid(axis='y', linestyle='--', alpha=0.7)\n",
        "plt.xticks(rotation=0)\n",
        "plt.tight_layout()\n",
        "\n",
        "plt.show()\n",
        "\n",
        "# 분포 출력\n",
        "print(\"True Distribution (%):\")\n",
        "print(true_distribution_yogiyo.sort_index())\n",
        "\n",
        "print(\"\\nPredicted Distribution (%):\")\n",
        "print(pred_distribution_yogiyo.sort_index())\n"
      ]
    },
    {
      "cell_type": "code",
      "execution_count": null,
      "metadata": {
        "colab": {
          "base_uri": "https://localhost:8080/",
          "height": 1000
        },
        "id": "6yzqHji8zh1z",
        "outputId": "481b42a0-19a0-4f0e-891b-8e74a36d94b2"
      },
      "outputs": [
        {
          "data": {
            "image/png": "[encoded data removed]",
            "text/plain": [
              "<Figure size 800x600 with 1 Axes>"
            ]
          },
          "metadata": {},
          "output_type": "display_data"
        },
        {
          "data": {
            "image/png": "[encoded data removed]",
            "text/plain": [
              "<Figure size 800x600 with 1 Axes>"
            ]
          },
          "metadata": {},
          "output_type": "display_data"
        },
        {
          "name": "stdout",
          "output_type": "stream",
          "text": [
            "Accuracy Score: 0.7577\n",
            "True Distribution (%):\n",
            "rating\n",
            "1     1.896932\n",
            "2     1.048235\n",
            "3     2.894618\n",
            "4     8.516242\n",
            "5    85.643973\n",
            "Name: proportion, dtype: float64\n",
            "\n",
            "Predicted Distribution (%):\n",
            "1     9.229255\n",
            "2     0.965759\n",
            "3     1.489877\n",
            "4    10.099236\n",
            "5    78.215873\n",
            "Name: proportion, dtype: float64\n"
          ]
        }
      ],
      "source": [
        "import matplotlib.pyplot as plt\n",
        "from sklearn.metrics import accuracy_score\n",
        "\n",
        "# 그래프 1: 실제 값 분포\n",
        "fig, ax1 = plt.subplots(figsize=(8, 6))\n",
        "true_distribution_yogiyo.sort_index().plot(kind='bar', alpha=0.6, color='blue', label='True Distribution', ax=ax1)\n",
        "ax1.set_title(\"True Rating Distribution (Yogiyo Data)\", fontsize=16)\n",
        "ax1.set_xlabel(\"Rating\", fontsize=14)\n",
        "ax1.set_ylabel(\"Percentage (%)\", fontsize=14)\n",
        "ax1.grid(axis='y', linestyle='--', alpha=0.7)\n",
        "ax1.legend()\n",
        "plt.xticks(rotation=0)\n",
        "plt.tight_layout()\n",
        "plt.show()\n",
        "\n",
        "# 그래프 2: 예측 값 분포\n",
        "fig, ax2 = plt.subplots(figsize=(8, 6))\n",
        "pred_distribution_yogiyo.sort_index().plot(kind='bar', alpha=0.6, color='orange', label='Predicted Distribution', ax=ax2)\n",
        "ax2.set_title(\"Predicted Rating Distribution (Yogiyo Data)\", fontsize=16)\n",
        "ax2.set_xlabel(\"Rating\", fontsize=14)\n",
        "ax2.set_ylabel(\"Percentage (%)\", fontsize=14)\n",
        "ax2.grid(axis='y', linestyle='--', alpha=0.7)\n",
        "ax2.legend()\n",
        "plt.xticks(rotation=0)\n",
        "plt.tight_layout()\n",
        "plt.show()\n",
        "\n",
        "# Accuracy Score 계산\n",
        "accuracy = accuracy_score(y, y_yogiyo_pred)\n",
        "print(f\"Accuracy Score: {accuracy:.4f}\")\n",
        "\n",
        "# 분포 출력\n",
        "print(\"True Distribution (%):\")\n",
        "print(true_distribution_yogiyo.sort_index())\n",
        "\n",
        "print(\"\\nPredicted Distribution (%):\")\n",
        "print(pred_distribution_yogiyo.sort_index())\n"
      ]
    },
    {
      "cell_type": "markdown",
      "metadata": {
        "id": "6Nat_mYpVxbY"
      },
      "source": [
        "## Naive Bayes(NB)"
      ]
    },
    {
      "cell_type": "code",
      "execution_count": null,
      "metadata": {
        "id": "rj4ygsVCz8H7"
      },
      "outputs": [],
      "source": [
        "import numpy as np\n",
        "import pandas as pd\n",
        "import matplotlib.pyplot as plt\n",
        "\n",
        "from google.colab import drive\n",
        "drive.mount('/content/drive')"
      ]
    },
    {
      "cell_type": "code",
      "execution_count": null,
      "metadata": {
        "id": "2wxP2bba6as4"
      },
      "outputs": [],
      "source": [
        "# 데이터 로드\n",
        "google_data = pd.read_csv(\"/content/drive/MyDrive/preprocess+translate+eda+swap.csv\")\n",
        "yogiyo_data = pd.read_csv(\"/content/drive/MyDrive/preprocessed_yogiyo_review.csv\")"
      ]
    },
    {
      "cell_type": "code",
      "execution_count": null,
      "metadata": {
        "id": "Z5Bi9L6iSTPc"
      },
      "outputs": [],
      "source": [
        "from sklearn.model_selection import train_test_split\n",
        "from sklearn.feature_extraction.text import TfidfVectorizer\n",
        "\n",
        "x = google_data['comment']\n",
        "y = google_data['rating']\n",
        "\n",
        "tfidf_vectorizer = TfidfVectorizer()\n",
        "x = tfidf_vectorizer.fit_transform(x)\n",
        "\n",
        "# 학습 데이터와 테스트 데이터 분할\n",
        "X_train, X_test, y_train, y_test = train_test_split(x, y, test_size=0.2, random_state=42)"
      ]
    },
    {
      "cell_type": "code",
      "execution_count": null,
      "metadata": {
        "colab": {
          "base_uri": "https://localhost:8080/"
        },
        "id": "QL_XRTwoS04V",
        "outputId": "9e7bd4ee-fd93-4ba5-ec6f-48f96a69081d"
      },
      "outputs": [
        {
          "name": "stdout",
          "output_type": "stream",
          "text": [
            "학습 데이터 모델 성능 평가:\n",
            "              precision    recall  f1-score   support\n",
            "\n",
            "           1       0.80      0.86      0.83     21975\n",
            "           2       0.98      0.44      0.61     11763\n",
            "           3       0.89      0.45      0.60     16765\n",
            "           4       0.69      0.69      0.69     26043\n",
            "           5       0.56      0.95      0.71     18876\n",
            "\n",
            "    accuracy                           0.71     95422\n",
            "   macro avg       0.78      0.68      0.69     95422\n",
            "weighted avg       0.76      0.71      0.70     95422\n",
            "\n",
            "학습 데이터 Accuracy: 70.94%\n",
            "\n",
            "테스트 데이터 모델 성능 평가:\n",
            "              precision    recall  f1-score   support\n",
            "\n",
            "           1       0.76      0.83      0.79      5601\n",
            "           2       0.95      0.37      0.53      2963\n",
            "           3       0.80      0.34      0.48      4149\n",
            "           4       0.63      0.65      0.64      6423\n",
            "           5       0.54      0.94      0.69      4720\n",
            "\n",
            "    accuracy                           0.66     23856\n",
            "   macro avg       0.74      0.63      0.63     23856\n",
            "weighted avg       0.71      0.66      0.64     23856\n",
            "\n",
            "테스트 데이터 Accuracy: 66.10%\n"
          ]
        }
      ],
      "source": [
        "# 구글 데이터만 학습시킨 경우\n",
        "\n",
        "from sklearn.naive_bayes import MultinomialNB\n",
        "from sklearn.metrics import classification_report, accuracy_score\n",
        "\n",
        "# 나이브 베이즈 모델 생성 및 학습\n",
        "nb_model = MultinomialNB()\n",
        "nb_model.fit(X_train, y_train)\n",
        "\n",
        "# 학습 데이터 성능 평가\n",
        "y_train_pred = nb_model.predict(X_train)\n",
        "print(\"학습 데이터 모델 성능 평가:\")\n",
        "print(classification_report(y_train, y_train_pred))\n",
        "train_accuracy = accuracy_score(y_train, y_train_pred)\n",
        "print(f\"학습 데이터 Accuracy: {train_accuracy * 100:.2f}%\")\n",
        "\n",
        "# 테스트 데이터 성능 평가\n",
        "y_test_pred = nb_model.predict(X_test)\n",
        "print(\"\\n테스트 데이터 모델 성능 평가:\")\n",
        "print(classification_report(y_test, y_test_pred))\n",
        "test_accuracy = accuracy_score(y_test, y_test_pred)\n",
        "print(f\"테스트 데이터 Accuracy: {test_accuracy * 100:.2f}%\")"
      ]
    },
    {
      "cell_type": "code",
      "execution_count": null,
      "metadata": {
        "id": "j9qu-UPsWcIR",
        "outputId": "297fc9cf-58b7-4dad-92c3-286db082e09a"
      },
      "outputs": [
        {
          "name": "stdout",
          "output_type": "stream",
          "text": [
            "학습 데이터 모델 성능 평가:\n",
            "              precision    recall  f1-score   support\n",
            "\n",
            "           1       0.82      0.86      0.84     27576\n",
            "           2       0.97      0.49      0.65     14726\n",
            "           3       0.89      0.48      0.62     20914\n",
            "           4       0.71      0.69      0.70     32466\n",
            "           5       0.56      0.96      0.71     23596\n",
            "\n",
            "    accuracy                           0.72    119278\n",
            "   macro avg       0.79      0.69      0.70    119278\n",
            "weighted avg       0.77      0.72      0.71    119278\n",
            "\n",
            "학습 데이터 Accuracy: 71.72%\n"
          ]
        }
      ],
      "source": [
        "# NaN 값을 가진 행 삭제\n",
        "yogiyo_data = yogiyo_data.dropna(subset=['comment'])\n",
        "\n",
        "# 학습 데이터 (구글 데이터)\n",
        "x_train = google_data['comment']\n",
        "y_train = google_data['rating']\n",
        "\n",
        "# 테스트 데이터 (요기요 데이터)\n",
        "x_test = yogiyo_data['comment']\n",
        "y_test = yogiyo_data['rating']\n",
        "\n",
        "# TfidfVectorizer 학습\n",
        "tfidf_vectorizer = TfidfVectorizer()\n",
        "X_train_vec = tfidf_vectorizer.fit_transform(x_train)  # 학습 데이터에 대해서 fit_transform\n",
        "\n",
        "# 나이브 베이즈 모델 학습\n",
        "nb_model = MultinomialNB()\n",
        "nb_model.fit(X_train_vec, y_train)\n",
        "\n",
        "# 학습 데이터에 대한 성능 평가\n",
        "y_train_pred = nb_model.predict(X_train_vec)\n",
        "print(\"학습 데이터 모델 성능 평가:\")\n",
        "print(classification_report(y_train, y_train_pred))\n",
        "train_accuracy = accuracy_score(y_train, y_train_pred)\n",
        "print(f\"학습 데이터 Accuracy: {train_accuracy * 100:.2f}%\")"
      ]
    },
    {
      "cell_type": "code",
      "execution_count": null,
      "metadata": {
        "id": "16YqM2Qa6as6",
        "outputId": "65034a5c-4179-4ee6-9e55-7fb20726a35d"
      },
      "outputs": [
        {
          "name": "stdout",
          "output_type": "stream",
          "text": [
            "\n",
            "테스트 데이터 모델 성능 평가:\n",
            "              precision    recall  f1-score   support\n",
            "\n",
            "           1       0.31      0.42      0.35       713\n",
            "           2       0.11      0.01      0.01       394\n",
            "           3       0.26      0.03      0.05      1088\n",
            "           4       0.20      0.12      0.15      3201\n",
            "           5       0.88      0.95      0.91     32191\n",
            "\n",
            "    accuracy                           0.83     37587\n",
            "   macro avg       0.35      0.30      0.30     37587\n",
            "weighted avg       0.79      0.83      0.80     37587\n",
            "\n",
            "테스트 데이터 Accuracy: 83.03%\n"
          ]
        }
      ],
      "source": [
        "# 테스트 데이터에 대해서는 학습한 tfidf_vectorizer로 변환\n",
        "X_test_vec = tfidf_vectorizer.transform(x_test)\n",
        "\n",
        "# 테스트 데이터에 대한 성능 평가\n",
        "y_test_pred = nb_model.predict(X_test_vec)\n",
        "print(\"\\n테스트 데이터 모델 성능 평가:\")\n",
        "print(classification_report(y_test, y_test_pred))\n",
        "test_accuracy = accuracy_score(y_test, y_test_pred)\n",
        "print(f\"테스트 데이터 Accuracy: {test_accuracy * 100:.2f}%\")"
      ]
    },
    {
      "cell_type": "markdown",
      "metadata": {
        "id": "NFymBqrWWCBP"
      },
      "source": [
        "## SVM (Support Vector Machine)"
      ]
    },
    {
      "cell_type": "code",
      "execution_count": null,
      "metadata": {
        "id": "H0xIbIq5WHjg"
      },
      "outputs": [],
      "source": [
        "import pandas as pd\n",
        "import numpy as np\n",
        "import ast\n",
        "import re\n",
        "from sklearn.model_selection import train_test_split\n",
        "import matplotlib.pyplot as plt\n",
        "import seaborn as sns\n",
        "\n",
        "# 경고 메시지 무시\n",
        "import warnings\n",
        "warnings.filterwarnings('ignore')"
      ]
    },
    {
      "cell_type": "code",
      "execution_count": null,
      "metadata": {
        "id": "Axuh434e6as7",
        "outputId": "aa3f08d7-1bb2-4066-e673-9e10a916c782"
      },
      "outputs": [
        {
          "name": "stdout",
          "output_type": "stream",
          "text": [
            "학습 데이터 모델 성능 평가:\n",
            "              precision    recall  f1-score   support\n",
            "\n",
            "           1       0.99      0.99      0.99     21975\n",
            "           2       0.98      0.96      0.97     11763\n",
            "           3       0.97      0.93      0.95     16765\n",
            "           4       0.96      0.95      0.95     26043\n",
            "           5       0.91      0.98      0.94     18876\n",
            "\n",
            "    accuracy                           0.96     95422\n",
            "   macro avg       0.96      0.96      0.96     95422\n",
            "weighted avg       0.96      0.96      0.96     95422\n",
            "\n",
            "학습 데이터 Accuracy: 96.13%\n",
            "\n",
            "테스트 데이터 모델 성능 평가:\n",
            "              precision    recall  f1-score   support\n",
            "\n",
            "           1       0.94      0.96      0.95      5601\n",
            "           2       0.95      0.90      0.93      2963\n",
            "           3       0.90      0.77      0.83      4149\n",
            "           4       0.84      0.86      0.85      6423\n",
            "           5       0.83      0.91      0.87      4720\n",
            "\n",
            "    accuracy                           0.88     23856\n",
            "   macro avg       0.89      0.88      0.88     23856\n",
            "weighted avg       0.88      0.88      0.88     23856\n",
            "\n",
            "테스트 데이터 Accuracy: 88.31%\n"
          ]
        }
      ],
      "source": [
        "# 구글 데이터만 학습시킨 경우\n",
        "\n",
        "from sklearn.svm import SVC\n",
        "from sklearn.metrics import classification_report, accuracy_score\n",
        "\n",
        "# SVM 모델 생성 및 학습\n",
        "svm_model = SVC()\n",
        "svm_model.fit(X_train, y_train)\n",
        "\n",
        "# 학습 데이터 성능 평가\n",
        "y_train_pred = svm_model.predict(X_train)\n",
        "print(\"학습 데이터 모델 성능 평가:\")\n",
        "print(classification_report(y_train, y_train_pred))\n",
        "train_accuracy = accuracy_score(y_train, y_train_pred)\n",
        "print(f\"학습 데이터 Accuracy: {train_accuracy * 100:.2f}%\")\n",
        "\n",
        "# 테스트 데이터 성능 평가\n",
        "y_test_pred = svm_model.predict(X_test)\n",
        "print(\"\\n테스트 데이터 모델 성능 평가:\")\n",
        "print(classification_report(y_test, y_test_pred))\n",
        "test_accuracy = accuracy_score(y_test, y_test_pred)\n",
        "print(f\"테스트 데이터 Accuracy: {test_accuracy * 100:.2f}%\")"
      ]
    },
    {
      "cell_type": "code",
      "execution_count": null,
      "metadata": {
        "id": "XAeDF-eHYW5C",
        "outputId": "8b5133e1-19b7-48f4-b7b9-055768ddf37d"
      },
      "outputs": [
        {
          "name": "stdout",
          "output_type": "stream",
          "text": [
            "학습 데이터 모델 성능 평가:\n",
            "              precision    recall  f1-score   support\n",
            "\n",
            "           1       0.99      0.99      0.99     27576\n",
            "           2       0.98      0.97      0.98     14726\n",
            "           3       0.98      0.95      0.96     20914\n",
            "           4       0.97      0.96      0.96     32466\n",
            "           5       0.93      0.98      0.95     23596\n",
            "\n",
            "    accuracy                           0.97    119278\n",
            "   macro avg       0.97      0.97      0.97    119278\n",
            "weighted avg       0.97      0.97      0.97    119278\n",
            "\n",
            "학습 데이터 Accuracy: 96.87%\n"
          ]
        }
      ],
      "source": [
        "from sklearn.svm import SVC\n",
        "from sklearn.metrics import classification_report, accuracy_score\n",
        "from sklearn.feature_extraction.text import TfidfVectorizer\n",
        "\n",
        "# 학습 데이터 (구글 데이터)\n",
        "x_train = google_data['comment']\n",
        "y_train = google_data['rating']\n",
        "\n",
        "\n",
        "# 학습 데이터에 TF-IDF 변환 적용\n",
        "tfidf_vectorizer = TfidfVectorizer()\n",
        "X_train_vec = tfidf_vectorizer.fit_transform(x_train)\n",
        "\n",
        "# SVM 모델\n",
        "svm_model = SVC(C=1.0)\n",
        "\n",
        "# 구글 데이터로 학습\n",
        "svm_model.fit(X_train_vec, y_train)\n",
        "\n",
        "# 학습 데이터 성능 평가\n",
        "y_train_pred = svm_model.predict(X_train_vec)\n",
        "print(\"학습 데이터 모델 성능 평가:\")\n",
        "print(classification_report(y_train, y_train_pred))\n",
        "train_accuracy = accuracy_score(y_train, y_train_pred)\n",
        "print(f\"학습 데이터 Accuracy: {train_accuracy * 100:.2f}%\")"
      ]
    },
    {
      "cell_type": "code",
      "execution_count": null,
      "metadata": {
        "id": "UvzF0AZlYe39",
        "outputId": "dfe03989-3228-49fd-e8a5-7b72b6edbe14"
      },
      "outputs": [
        {
          "name": "stdout",
          "output_type": "stream",
          "text": [
            "\n",
            "요기요 데이터 모델 성능 평가:\n",
            "              precision    recall  f1-score   support\n",
            "\n",
            "           1       0.27      0.75      0.40       713\n",
            "           2       0.07      0.07      0.07       394\n",
            "           3       0.16      0.21      0.18      1088\n",
            "           4       0.16      0.25      0.20      3201\n",
            "           5       0.92      0.83      0.87     32191\n",
            "\n",
            "    accuracy                           0.75     37587\n",
            "   macro avg       0.32      0.42      0.34     37587\n",
            "weighted avg       0.82      0.75      0.78     37587\n",
            "\n",
            "예측된 평점 (요기요):\n",
            "                                   comment  predicted_rating\n",
            "0  뿌링클 언제나 맛있다 해 요 소스 오래되다 건지다 젤리 처럼 굳다 오다                 5\n",
            "1                오늘 양념 을 더 넉넉하다 입히다 맛있다 먹다                 4\n",
            "2                    넘다 비삭 비삭 게 맛 나다 자다 먹다                 5\n",
            "3                           자다 받다 재다 예정 이다                 4\n",
            "4             닭 뼈 만 있다 오랫동안 먹다 이렇다 닭 처음 예요                 5\n",
            "Accuracy: 75.23%\n"
          ]
        }
      ],
      "source": [
        "# 테스트 데이터 (요기요 데이터)\n",
        "x_test = yogiyo_data['comment']\n",
        "y_test = yogiyo_data['rating']\n",
        "\n",
        "# NaN 값을 가진 행 삭제\n",
        "yogiyo_data = yogiyo_data.dropna(subset=['comment'])\n",
        "\n",
        "# 테스트 데이터에 TF-IDF 변환 적용\n",
        "X_test_vec = tfidf_vectorizer.transform(x_test)\n",
        "\n",
        "# 모델 예측 (요기요 데이터에 대한 예측)\n",
        "y_pred_yogiyo = svm_model.predict(X_test_vec)\n",
        "\n",
        "# 요기요 데이터 성능 평가\n",
        "print(\"\\n요기요 데이터 모델 성능 평가:\")\n",
        "print(classification_report(y_test, y_pred_yogiyo))\n",
        "\n",
        "# 예측된 평점 확인\n",
        "yogiyo_data['predicted_rating'] = y_pred_yogiyo\n",
        "print(\"예측된 평점 (요기요):\")\n",
        "print(yogiyo_data[['comment', 'predicted_rating']].head())\n",
        "\n",
        "# 정확도(Accuracy) 평가\n",
        "accuracy = accuracy_score(y_test, y_pred_yogiyo)\n",
        "print(f'Accuracy: {accuracy * 100:.2f}%')"
      ]
    },
    {
      "cell_type": "markdown",
      "metadata": {
        "id": "gVgeAFYUWIVv"
      },
      "source": [
        "## CNN"
      ]
    },
    {
      "cell_type": "code",
      "execution_count": null,
      "metadata": {
        "colab": {
          "base_uri": "https://localhost:8080/"
        },
        "id": "A8qi9nt-m9y5",
        "outputId": "4f5dc4f1-623a-4a54-f45b-c1dccc9aaa6f"
      },
      "outputs": [
        {
          "name": "stdout",
          "output_type": "stream",
          "text": [
            "Drive already mounted at /content/drive; to attempt to forcibly remount, call drive.mount(\"/content/drive\", force_remount=True).\n"
          ]
        }
      ],
      "source": [
        "from google.colab import drive\n",
        "import numpy as np\n",
        "import pandas as pd\n",
        "from sklearn.model_selection import train_test_split\n",
        "import tensorflow as tf\n",
        "from tensorflow.keras.preprocessing.text import Tokenizer\n",
        "from tensorflow.keras.preprocessing.sequence import pad_sequences\n",
        "from tensorflow.keras.layers import Input, Embedding, Conv1D, GlobalMaxPooling1D, Concatenate, Dropout, Dense\n",
        "from tensorflow.keras.models import Model\n",
        "import matplotlib.pyplot as plt\n",
        "\n",
        "drive.mount('/content/drive')\n",
        "\n",
        "data = pd.read_csv(\"/content/drive/MyDrive/preprocess+translate+eda+swap.csv\")"
      ]
    },
    {
      "cell_type": "code",
      "execution_count": null,
      "metadata": {
        "id": "lJI1N5VjjE38"
      },
      "outputs": [],
      "source": [
        "data = data.drop(columns=['Unnamed: 0'])\n",
        "\n",
        "# 특성과 레이블 분리\n",
        "texts = data['comment']\n",
        "labels = data['rating']\n",
        "\n",
        "# 학습 및 테스트 데이터 분리\n",
        "texts_train, texts_test, labels_train, labels_test = train_test_split(\n",
        "    texts, labels, test_size=0.2, random_state=42)\n",
        "\n",
        "# 토큰화 및 시퀀스 변환\n",
        "tokenizer = Tokenizer(num_words=20000)  # 상위 20,000개의 단어만 사용\n",
        "tokenizer.fit_on_texts(texts_train)\n",
        "sequences_train = tokenizer.texts_to_sequences(texts_train)\n",
        "sequences_test = tokenizer.texts_to_sequences(texts_test)\n",
        "\n",
        "# 패딩\n",
        "max_sequence_length = 100  # 고정된 길이로 시퀀스를 패딩\n",
        "x_train = pad_sequences(sequences_train, maxlen=max_sequence_length)\n",
        "x_test = pad_sequences(sequences_test, maxlen=max_sequence_length)\n",
        "\n",
        "# 레이블 원-핫 인코딩\n",
        "from tensorflow.keras.utils import to_categorical\n",
        "\n",
        "num_classes = labels.nunique()\n",
        "y_train = to_categorical(labels_train)\n",
        "y_test = to_categorical(labels_test)\n"
      ]
    },
    {
      "cell_type": "code",
      "execution_count": null,
      "metadata": {
        "id": "APtqf5Zjp2S_"
      },
      "outputs": [],
      "source": [
        "y_train = y_train[:, 1:]\n",
        "y_test = y_test[:, 1:]"
      ]
    },
    {
      "cell_type": "code",
      "execution_count": null,
      "metadata": {
        "colab": {
          "base_uri": "https://localhost:8080/"
        },
        "id": "vOyfTgkyjiPE",
        "outputId": "db1a9629-9e31-46a6-c8a3-d21e1fe4a8db"
      },
      "outputs": [
        {
          "name": "stderr",
          "output_type": "stream",
          "text": [
            "/usr/local/lib/python3.10/dist-packages/keras/src/layers/core/embedding.py:90: UserWarning: Argument `input_length` is deprecated. Just remove it.\n",
            "  warnings.warn(\n"
          ]
        }
      ],
      "source": [
        "# Input layer\n",
        "input_layer = Input(shape=(100,))\n",
        "\n",
        "# Embedding layer\n",
        "embedding_layer = Embedding(input_dim=20000, output_dim=50, input_length=100)(input_layer)\n",
        "\n",
        "# Conv1D + GlobalMaxPooling layers\n",
        "conv_layers = [Conv1D(128, kernel_size=5, activation='relu', padding='same')(embedding_layer)]\n",
        "pooled_layers = [GlobalMaxPooling1D()(conv) for conv in conv_layers]\n",
        "\n",
        "# Concatenate pooled outputs\n",
        "concat_layer = Concatenate()(pooled_layers)\n",
        "\n",
        "# Dropout and Dense layers\n",
        "dropout_layer = Dropout(0.5)(concat_layer)\n",
        "dense_layer = Dense(64, activation='relu')(dropout_layer)\n",
        "output_layer = Dense(5, activation='softmax')(dense_layer)\n",
        "\n",
        "model = Model(inputs=input_layer, outputs=output_layer)"
      ]
    },
    {
      "cell_type": "code",
      "execution_count": null,
      "metadata": {
        "colab": {
          "base_uri": "https://localhost:8080/",
          "height": 422
        },
        "id": "pbp33TeajtGJ",
        "outputId": "f0ab0831-72b3-49df-9abf-79cf61bada96"
      },
      "outputs": [
        {
          "data": {
            "text/html": [
              "<pre style=\"white-space:pre;overflow-x:auto;line-height:normal;font-family:Menlo,'DejaVu Sans Mono',consolas,'Courier New',monospace\"><span style=\"font-weight: bold\">Model: \"functional\"</span>\n",
              "</pre>\n"
            ],
            "text/plain": [
              "\u001b[1mModel: \"functional\"\u001b[0m\n"
            ]
          },
          "metadata": {},
          "output_type": "display_data"
        },
        {
          "data": {
            "text/html": [
              "<pre style=\"white-space:pre;overflow-x:auto;line-height:normal;font-family:Menlo,'DejaVu Sans Mono',consolas,'Courier New',monospace\">┏━━━━━━━━━━━━━━━━━━━━━━━━━━━━━━━━━━━━━━┳━━━━━━━━━━━━━━━━━━━━━━━━━━━━━┳━━━━━━━━━━━━━━━━━┓\n",
              "┃<span style=\"font-weight: bold\"> Layer (type)                         </span>┃<span style=\"font-weight: bold\"> Output Shape                </span>┃<span style=\"font-weight: bold\">         Param # </span>┃\n",
              "┡━━━━━━━━━━━━━━━━━━━━━━━━━━━━━━━━━━━━━━╇━━━━━━━━━━━━━━━━━━━━━━━━━━━━━╇━━━━━━━━━━━━━━━━━┩\n",
              "│ input_layer (<span style=\"color: #0087ff; text-decoration-color: #0087ff\">InputLayer</span>)             │ (<span style=\"color: #00d7ff; text-decoration-color: #00d7ff\">None</span>, <span style=\"color: #00af00; text-decoration-color: #00af00\">100</span>)                 │               <span style=\"color: #00af00; text-decoration-color: #00af00\">0</span> │\n",
              "├──────────────────────────────────────┼─────────────────────────────┼─────────────────┤\n",
              "│ embedding (<span style=\"color: #0087ff; text-decoration-color: #0087ff\">Embedding</span>)                │ (<span style=\"color: #00d7ff; text-decoration-color: #00d7ff\">None</span>, <span style=\"color: #00af00; text-decoration-color: #00af00\">100</span>, <span style=\"color: #00af00; text-decoration-color: #00af00\">50</span>)             │       <span style=\"color: #00af00; text-decoration-color: #00af00\">1,000,000</span> │\n",
              "├──────────────────────────────────────┼─────────────────────────────┼─────────────────┤\n",
              "│ conv1d (<span style=\"color: #0087ff; text-decoration-color: #0087ff\">Conv1D</span>)                      │ (<span style=\"color: #00d7ff; text-decoration-color: #00d7ff\">None</span>, <span style=\"color: #00af00; text-decoration-color: #00af00\">100</span>, <span style=\"color: #00af00; text-decoration-color: #00af00\">128</span>)            │          <span style=\"color: #00af00; text-decoration-color: #00af00\">32,128</span> │\n",
              "├──────────────────────────────────────┼─────────────────────────────┼─────────────────┤\n",
              "│ global_max_pooling1d                 │ (<span style=\"color: #00d7ff; text-decoration-color: #00d7ff\">None</span>, <span style=\"color: #00af00; text-decoration-color: #00af00\">128</span>)                 │               <span style=\"color: #00af00; text-decoration-color: #00af00\">0</span> │\n",
              "│ (<span style=\"color: #0087ff; text-decoration-color: #0087ff\">GlobalMaxPooling1D</span>)                 │                             │                 │\n",
              "├──────────────────────────────────────┼─────────────────────────────┼─────────────────┤\n",
              "│ concatenate (<span style=\"color: #0087ff; text-decoration-color: #0087ff\">Concatenate</span>)            │ (<span style=\"color: #00d7ff; text-decoration-color: #00d7ff\">None</span>, <span style=\"color: #00af00; text-decoration-color: #00af00\">128</span>)                 │               <span style=\"color: #00af00; text-decoration-color: #00af00\">0</span> │\n",
              "├──────────────────────────────────────┼─────────────────────────────┼─────────────────┤\n",
              "│ dropout (<span style=\"color: #0087ff; text-decoration-color: #0087ff\">Dropout</span>)                    │ (<span style=\"color: #00d7ff; text-decoration-color: #00d7ff\">None</span>, <span style=\"color: #00af00; text-decoration-color: #00af00\">128</span>)                 │               <span style=\"color: #00af00; text-decoration-color: #00af00\">0</span> │\n",
              "├──────────────────────────────────────┼─────────────────────────────┼─────────────────┤\n",
              "│ dense (<span style=\"color: #0087ff; text-decoration-color: #0087ff\">Dense</span>)                        │ (<span style=\"color: #00d7ff; text-decoration-color: #00d7ff\">None</span>, <span style=\"color: #00af00; text-decoration-color: #00af00\">64</span>)                  │           <span style=\"color: #00af00; text-decoration-color: #00af00\">8,256</span> │\n",
              "├──────────────────────────────────────┼─────────────────────────────┼─────────────────┤\n",
              "│ dense_1 (<span style=\"color: #0087ff; text-decoration-color: #0087ff\">Dense</span>)                      │ (<span style=\"color: #00d7ff; text-decoration-color: #00d7ff\">None</span>, <span style=\"color: #00af00; text-decoration-color: #00af00\">5</span>)                   │             <span style=\"color: #00af00; text-decoration-color: #00af00\">325</span> │\n",
              "└──────────────────────────────────────┴─────────────────────────────┴─────────────────┘\n",
              "</pre>\n"
            ],
            "text/plain": [
              "┏━━━━━━━━━━━━━━━━━━━━━━━━━━━━━━━━━━━━━━┳━━━━━━━━━━━━━━━━━━━━━━━━━━━━━┳━━━━━━━━━━━━━━━━━┓\n",
              "┃\u001b[1m \u001b[0m\u001b[1mLayer (type)                        \u001b[0m\u001b[1m \u001b[0m┃\u001b[1m \u001b[0m\u001b[1mOutput Shape               \u001b[0m\u001b[1m \u001b[0m┃\u001b[1m \u001b[0m\u001b[1m        Param #\u001b[0m\u001b[1m \u001b[0m┃\n",
              "┡━━━━━━━━━━━━━━━━━━━━━━━━━━━━━━━━━━━━━━╇━━━━━━━━━━━━━━━━━━━━━━━━━━━━━╇━━━━━━━━━━━━━━━━━┩\n",
              "│ input_layer (\u001b[38;5;33mInputLayer\u001b[0m)             │ (\u001b[38;5;45mNone\u001b[0m, \u001b[38;5;34m100\u001b[0m)                 │               \u001b[38;5;34m0\u001b[0m │\n",
              "├──────────────────────────────────────┼─────────────────────────────┼─────────────────┤\n",
              "│ embedding (\u001b[38;5;33mEmbedding\u001b[0m)                │ (\u001b[38;5;45mNone\u001b[0m, \u001b[38;5;34m100\u001b[0m, \u001b[38;5;34m50\u001b[0m)             │       \u001b[38;5;34m1,000,000\u001b[0m │\n",
              "├──────────────────────────────────────┼─────────────────────────────┼─────────────────┤\n",
              "│ conv1d (\u001b[38;5;33mConv1D\u001b[0m)                      │ (\u001b[38;5;45mNone\u001b[0m, \u001b[38;5;34m100\u001b[0m, \u001b[38;5;34m128\u001b[0m)            │          \u001b[38;5;34m32,128\u001b[0m │\n",
              "├──────────────────────────────────────┼─────────────────────────────┼─────────────────┤\n",
              "│ global_max_pooling1d                 │ (\u001b[38;5;45mNone\u001b[0m, \u001b[38;5;34m128\u001b[0m)                 │               \u001b[38;5;34m0\u001b[0m │\n",
              "│ (\u001b[38;5;33mGlobalMaxPooling1D\u001b[0m)                 │                             │                 │\n",
              "├──────────────────────────────────────┼─────────────────────────────┼─────────────────┤\n",
              "│ concatenate (\u001b[38;5;33mConcatenate\u001b[0m)            │ (\u001b[38;5;45mNone\u001b[0m, \u001b[38;5;34m128\u001b[0m)                 │               \u001b[38;5;34m0\u001b[0m │\n",
              "├──────────────────────────────────────┼─────────────────────────────┼─────────────────┤\n",
              "│ dropout (\u001b[38;5;33mDropout\u001b[0m)                    │ (\u001b[38;5;45mNone\u001b[0m, \u001b[38;5;34m128\u001b[0m)                 │               \u001b[38;5;34m0\u001b[0m │\n",
              "├──────────────────────────────────────┼─────────────────────────────┼─────────────────┤\n",
              "│ dense (\u001b[38;5;33mDense\u001b[0m)                        │ (\u001b[38;5;45mNone\u001b[0m, \u001b[38;5;34m64\u001b[0m)                  │           \u001b[38;5;34m8,256\u001b[0m │\n",
              "├──────────────────────────────────────┼─────────────────────────────┼─────────────────┤\n",
              "│ dense_1 (\u001b[38;5;33mDense\u001b[0m)                      │ (\u001b[38;5;45mNone\u001b[0m, \u001b[38;5;34m5\u001b[0m)                   │             \u001b[38;5;34m325\u001b[0m │\n",
              "└──────────────────────────────────────┴─────────────────────────────┴─────────────────┘\n"
            ]
          },
          "metadata": {},
          "output_type": "display_data"
        },
        {
          "data": {
            "text/html": [
              "<pre style=\"white-space:pre;overflow-x:auto;line-height:normal;font-family:Menlo,'DejaVu Sans Mono',consolas,'Courier New',monospace\"><span style=\"font-weight: bold\"> Total params: </span><span style=\"color: #00af00; text-decoration-color: #00af00\">1,040,709</span> (3.97 MB)\n",
              "</pre>\n"
            ],
            "text/plain": [
              "\u001b[1m Total params: \u001b[0m\u001b[38;5;34m1,040,709\u001b[0m (3.97 MB)\n"
            ]
          },
          "metadata": {},
          "output_type": "display_data"
        },
        {
          "data": {
            "text/html": [
              "<pre style=\"white-space:pre;overflow-x:auto;line-height:normal;font-family:Menlo,'DejaVu Sans Mono',consolas,'Courier New',monospace\"><span style=\"font-weight: bold\"> Trainable params: </span><span style=\"color: #00af00; text-decoration-color: #00af00\">1,040,709</span> (3.97 MB)\n",
              "</pre>\n"
            ],
            "text/plain": [
              "\u001b[1m Trainable params: \u001b[0m\u001b[38;5;34m1,040,709\u001b[0m (3.97 MB)\n"
            ]
          },
          "metadata": {},
          "output_type": "display_data"
        },
        {
          "data": {
            "text/html": [
              "<pre style=\"white-space:pre;overflow-x:auto;line-height:normal;font-family:Menlo,'DejaVu Sans Mono',consolas,'Courier New',monospace\"><span style=\"font-weight: bold\"> Non-trainable params: </span><span style=\"color: #00af00; text-decoration-color: #00af00\">0</span> (0.00 B)\n",
              "</pre>\n"
            ],
            "text/plain": [
              "\u001b[1m Non-trainable params: \u001b[0m\u001b[38;5;34m0\u001b[0m (0.00 B)\n"
            ]
          },
          "metadata": {},
          "output_type": "display_data"
        }
      ],
      "source": [
        "model.summary()"
      ]
    },
    {
      "cell_type": "code",
      "execution_count": null,
      "metadata": {
        "id": "aw1-z4Zqjtp9"
      },
      "outputs": [],
      "source": [
        "model.compile(optimizer='adam', loss='categorical_crossentropy', metrics=['accuracy'])\n",
        "\n",
        "checkpoint_cb = tf.keras.callbacks.ModelCheckpoint('best_model.keras', save_best_only=True)\n",
        "early_stopping_cb = tf.keras.callbacks.EarlyStopping(patience=3, restore_best_weights=True)"
      ]
    },
    {
      "cell_type": "code",
      "execution_count": null,
      "metadata": {
        "colab": {
          "base_uri": "https://localhost:8080/"
        },
        "id": "L43WdJIpj4QR",
        "outputId": "2a7d2aef-5a51-47da-f97c-8fff1a2b2e4f"
      },
      "outputs": [
        {
          "name": "stdout",
          "output_type": "stream",
          "text": [
            "Epoch 1/20\n",
            "\u001b[1m2386/2386\u001b[0m \u001b[32m━━━━━━━━━━━━━━━━━━━━\u001b[0m\u001b[37m\u001b[0m \u001b[1m92s\u001b[0m 37ms/step - accuracy: 0.4801 - loss: 1.2113 - val_accuracy: 0.6473 - val_loss: 0.8615\n",
            "Epoch 2/20\n",
            "\u001b[1m2386/2386\u001b[0m \u001b[32m━━━━━━━━━━━━━━━━━━━━\u001b[0m\u001b[37m\u001b[0m \u001b[1m93s\u001b[0m 39ms/step - accuracy: 0.6957 - loss: 0.7566 - val_accuracy: 0.7107 - val_loss: 0.7328\n",
            "Epoch 3/20\n",
            "\u001b[1m2386/2386\u001b[0m \u001b[32m━━━━━━━━━━━━━━━━━━━━\u001b[0m\u001b[37m\u001b[0m \u001b[1m136s\u001b[0m 37ms/step - accuracy: 0.7704 - loss: 0.5774 - val_accuracy: 0.7321 - val_loss: 0.6898\n",
            "Epoch 4/20\n",
            "\u001b[1m2386/2386\u001b[0m \u001b[32m━━━━━━━━━━━━━━━━━━━━\u001b[0m\u001b[37m\u001b[0m \u001b[1m139s\u001b[0m 35ms/step - accuracy: 0.8114 - loss: 0.4721 - val_accuracy: 0.7415 - val_loss: 0.6862\n",
            "Epoch 5/20\n",
            "\u001b[1m2386/2386\u001b[0m \u001b[32m━━━━━━━━━━━━━━━━━━━━\u001b[0m\u001b[37m\u001b[0m \u001b[1m130s\u001b[0m 30ms/step - accuracy: 0.8355 - loss: 0.4080 - val_accuracy: 0.7540 - val_loss: 0.7003\n",
            "Epoch 6/20\n",
            "\u001b[1m2386/2386\u001b[0m \u001b[32m━━━━━━━━━━━━━━━━━━━━\u001b[0m\u001b[37m\u001b[0m \u001b[1m72s\u001b[0m 30ms/step - accuracy: 0.8512 - loss: 0.3655 - val_accuracy: 0.7600 - val_loss: 0.7267\n",
            "Epoch 7/20\n",
            "\u001b[1m2386/2386\u001b[0m \u001b[32m━━━━━━━━━━━━━━━━━━━━\u001b[0m\u001b[37m\u001b[0m \u001b[1m80s\u001b[0m 29ms/step - accuracy: 0.8663 - loss: 0.3275 - val_accuracy: 0.7585 - val_loss: 0.7660\n",
            "\u001b[1m746/746\u001b[0m \u001b[32m━━━━━━━━━━━━━━━━━━━━\u001b[0m\u001b[37m\u001b[0m \u001b[1m7s\u001b[0m 10ms/step - accuracy: 0.7367 - loss: 0.7126\n",
            "Test Loss: 0.7021795511245728, Test Accuracy: 0.7380114197731018\n"
          ]
        }
      ],
      "source": [
        "history = model.fit(x_train, y_train, epochs=20, validation_split=0.2,\n",
        "                    callbacks=[checkpoint_cb, early_stopping_cb])\n",
        "\n",
        "loss, accuracy = model.evaluate(x_test, y_test)\n",
        "print(f\"Test Loss: {loss}, Test Accuracy: {accuracy}\")"
      ]
    },
    {
      "cell_type": "code",
      "execution_count": null,
      "metadata": {
        "colab": {
          "base_uri": "https://localhost:8080/",
          "height": 449
        },
        "id": "k8dcN3KcnAs3",
        "outputId": "c4fd711c-77dc-4fd8-89b3-c75d879c5ce0"
      },
      "outputs": [
        {
          "data": {
            "image/png": "[encoded data removed]",
            "text/plain": [
              "<Figure size 640x480 with 1 Axes>"
            ]
          },
          "metadata": {},
          "output_type": "display_data"
        }
      ],
      "source": [
        "plt.plot(history.history['loss'], label='Training Loss')\n",
        "plt.plot(history.history['val_loss'], label='Validation Loss')\n",
        "plt.xlabel('Epoch')\n",
        "plt.ylabel('Loss')\n",
        "plt.legend()\n",
        "plt.show()"
      ]
    },
    {
      "cell_type": "markdown",
      "metadata": {
        "id": "4PqsrNbhW_DF"
      },
      "source": [
        "## LSTM"
      ]
    },
    {
      "cell_type": "code",
      "execution_count": null,
      "metadata": {
        "colab": {
          "base_uri": "https://localhost:8080/"
        },
        "id": "lyA2180CXDve",
        "outputId": "beb96a24-d651-4a3a-c41c-c09a87a59c27"
      },
      "outputs": [
        {
          "output_type": "stream",
          "name": "stdout",
          "text": [
            "Mounted at /content/drive\n"
          ]
        }
      ],
      "source": [
        "import pandas as pd\n",
        "from sklearn.model_selection import train_test_split\n",
        "import tensorflow as tf\n",
        "from tensorflow.keras.preprocessing.text import Tokenizer\n",
        "from tensorflow.keras.preprocessing.sequence import pad_sequences\n",
        "from tensorflow.keras.models import Sequential\n",
        "from tensorflow.keras.layers import Embedding, LSTM, Dense\n",
        "from tensorflow.keras.utils import to_categorical\n",
        "import matplotlib.pyplot as plt\n",
        "\n",
        "from google.colab import drive\n",
        "drive.mount('/content/drive')\n",
        "\n",
        "data = pd.read_csv(\"/content/drive/MyDrive/preprocess+translate+eda+swap.csv\")"
      ]
    },
    {
      "cell_type": "code",
      "execution_count": null,
      "metadata": {
        "id": "9QKjtllOnQKs"
      },
      "outputs": [],
      "source": [
        "data = data.drop(columns=['Unnamed: 0'])\n",
        "\n",
        "texts = data['comment']\n",
        "labels = data['rating']\n",
        "\n",
        "texts_train, texts_test, labels_train, labels_test = train_test_split(texts, labels, test_size=0.2, random_state=42)"
      ]
    },
    {
      "cell_type": "code",
      "execution_count": null,
      "metadata": {
        "id": "oUECCfBOv49p"
      },
      "outputs": [],
      "source": [
        "labels_train = labels_train - 1\n",
        "labels_test = labels_test - 1"
      ]
    },
    {
      "cell_type": "code",
      "execution_count": null,
      "metadata": {
        "colab": {
          "base_uri": "https://localhost:8080/"
        },
        "id": "VuCqhyUqnWyF",
        "outputId": "3bc290f8-a1a6-460c-9027-b91c2535713c"
      },
      "outputs": [
        {
          "output_type": "stream",
          "name": "stderr",
          "text": [
            "/usr/local/lib/python3.10/dist-packages/keras/src/layers/core/embedding.py:90: UserWarning: Argument `input_length` is deprecated. Just remove it.\n",
            "  warnings.warn(\n"
          ]
        }
      ],
      "source": [
        "# 텍스트 데이터 전처리\n",
        "tokenizer = Tokenizer(num_words=20000)\n",
        "tokenizer.fit_on_texts(texts_train)\n",
        "sequences_train = tokenizer.texts_to_sequences(texts_train)\n",
        "sequences_test = tokenizer.texts_to_sequences(texts_test)\n",
        "\n",
        "# 패딩\n",
        "max_sequence_length = 100\n",
        "x_train = pad_sequences(sequences_train, maxlen=max_sequence_length)\n",
        "x_test = pad_sequences(sequences_test, maxlen=max_sequence_length)\n",
        "\n",
        "# 레이블 전처리\n",
        "num_classes = len(set(labels))\n",
        "y_train = to_categorical(labels_train, num_classes=num_classes)\n",
        "y_test = to_categorical(labels_test, num_classes=num_classes)\n",
        "\n",
        "# LSTM 모델 설계\n",
        "model = Sequential([\n",
        "    Embedding(input_dim=20000, output_dim=128, input_length=max_sequence_length),\n",
        "    LSTM(128, dropout=0.5, return_sequences=False),\n",
        "    Dense(64, activation='relu'),\n",
        "    Dense(num_classes, activation='softmax')\n",
        "])\n",
        "\n"
      ]
    },
    {
      "cell_type": "code",
      "execution_count": null,
      "metadata": {
        "id": "YOMm5PZOnb_m"
      },
      "outputs": [],
      "source": [
        "model.compile(optimizer='adam', loss='categorical_crossentropy', metrics=['accuracy'])\n",
        "\n",
        "checkpoint_cb = tf.keras.callbacks.ModelCheckpoint('best_model.keras', save_best_only=True)\n",
        "early_stopping_cb = tf.keras.callbacks.EarlyStopping(patience=3, restore_best_weights=True)"
      ]
    },
    {
      "cell_type": "code",
      "execution_count": null,
      "metadata": {
        "colab": {
          "base_uri": "https://localhost:8080/"
        },
        "id": "nYGA8mR0oQ3Q",
        "outputId": "7d863236-0269-4df2-fc32-372b5d2d039f"
      },
      "outputs": [
        {
          "output_type": "stream",
          "name": "stdout",
          "text": [
            "Epoch 1/20\n",
            "\u001b[1m2386/2386\u001b[0m \u001b[32m━━━━━━━━━━━━━━━━━━━━\u001b[0m\u001b[37m\u001b[0m \u001b[1m556s\u001b[0m 232ms/step - accuracy: 0.4965 - loss: 1.1788 - val_accuracy: 0.6366 - val_loss: 0.8979\n",
            "Epoch 2/20\n",
            "\u001b[1m2386/2386\u001b[0m \u001b[32m━━━━━━━━━━━━━━━━━━━━\u001b[0m\u001b[37m\u001b[0m \u001b[1m566s\u001b[0m 234ms/step - accuracy: 0.6991 - loss: 0.7573 - val_accuracy: 0.7001 - val_loss: 0.7471\n",
            "Epoch 3/20\n",
            "\u001b[1m2386/2386\u001b[0m \u001b[32m━━━━━━━━━━━━━━━━━━━━\u001b[0m\u001b[37m\u001b[0m \u001b[1m559s\u001b[0m 232ms/step - accuracy: 0.7619 - loss: 0.5998 - val_accuracy: 0.7315 - val_loss: 0.6868\n",
            "Epoch 4/20\n",
            "\u001b[1m2386/2386\u001b[0m \u001b[32m━━━━━━━━━━━━━━━━━━━━\u001b[0m\u001b[37m\u001b[0m \u001b[1m561s\u001b[0m 235ms/step - accuracy: 0.7931 - loss: 0.5193 - val_accuracy: 0.7445 - val_loss: 0.6562\n",
            "Epoch 5/20\n",
            "\u001b[1m2386/2386\u001b[0m \u001b[32m━━━━━━━━━━━━━━━━━━━━\u001b[0m\u001b[37m\u001b[0m \u001b[1m561s\u001b[0m 235ms/step - accuracy: 0.8145 - loss: 0.4609 - val_accuracy: 0.7569 - val_loss: 0.6573\n",
            "Epoch 6/20\n",
            "\u001b[1m2386/2386\u001b[0m \u001b[32m━━━━━━━━━━━━━━━━━━━━\u001b[0m\u001b[37m\u001b[0m \u001b[1m563s\u001b[0m 236ms/step - accuracy: 0.8342 - loss: 0.4087 - val_accuracy: 0.7656 - val_loss: 0.6499\n",
            "Epoch 7/20\n",
            "\u001b[1m2386/2386\u001b[0m \u001b[32m━━━━━━━━━━━━━━━━━━━━\u001b[0m\u001b[37m\u001b[0m \u001b[1m619s\u001b[0m 235ms/step - accuracy: 0.8489 - loss: 0.3732 - val_accuracy: 0.7734 - val_loss: 0.6613\n",
            "Epoch 8/20\n",
            "\u001b[1m2386/2386\u001b[0m \u001b[32m━━━━━━━━━━━━━━━━━━━━\u001b[0m\u001b[37m\u001b[0m \u001b[1m560s\u001b[0m 234ms/step - accuracy: 0.8615 - loss: 0.3392 - val_accuracy: 0.7791 - val_loss: 0.6687\n",
            "Epoch 9/20\n",
            "\u001b[1m2386/2386\u001b[0m \u001b[32m━━━━━━━━━━━━━━━━━━━━\u001b[0m\u001b[37m\u001b[0m \u001b[1m569s\u001b[0m 237ms/step - accuracy: 0.8717 - loss: 0.3152 - val_accuracy: 0.7874 - val_loss: 0.6736\n",
            "\u001b[1m746/746\u001b[0m \u001b[32m━━━━━━━━━━━━━━━━━━━━\u001b[0m\u001b[37m\u001b[0m \u001b[1m49s\u001b[0m 66ms/step - accuracy: 0.7565 - loss: 0.6817\n",
            "Test Loss: 0.6802358627319336, Test Accuracy: 0.7594316005706787\n"
          ]
        }
      ],
      "source": [
        "history = model.fit(x_train, y_train, batch_size=32, epochs=20, validation_split=0.2,\n",
        "          callbacks=[checkpoint_cb, early_stopping_cb])\n",
        "\n",
        "loss, accuracy = model.evaluate(x_test, y_test)\n",
        "print(f\"Test Loss: {loss}, Test Accuracy: {accuracy}\")"
      ]
    },
    {
      "cell_type": "code",
      "execution_count": null,
      "metadata": {
        "colab": {
          "base_uri": "https://localhost:8080/",
          "height": 449
        },
        "id": "7ok9w_w1oWtu",
        "outputId": "89873e50-22da-4ac0-8043-f1a06ce56782"
      },
      "outputs": [
        {
          "output_type": "display_data",
          "data": {
            "text/plain": [
              "<Figure size 640x480 with 1 Axes>"
            ],
            "image/png": "[encoded data removed]"
          },
          "metadata": {}
        }
      ],
      "source": [
        "plt.plot(history.history['loss'], label='Training Loss')\n",
        "plt.plot(history.history['val_loss'], label='Validation Loss')\n",
        "plt.xlabel('Epoch')\n",
        "plt.ylabel('Loss')\n",
        "plt.legend()\n",
        "plt.show()"
      ]
    },
    {
      "cell_type": "markdown",
      "metadata": {
        "id": "-eMinzGpXUoq"
      },
      "source": [
        "# TF-IDF 키워드 추출"
      ]
    },
    {
      "cell_type": "code",
      "execution_count": 8,
      "metadata": {
        "colab": {
          "base_uri": "https://localhost:8080/"
        },
        "id": "Bnux0cnId_Am",
        "outputId": "9e0a376b-b03b-43ab-d47f-91649caba6b9"
      },
      "outputs": [
        {
          "output_type": "stream",
          "name": "stdout",
          "text": [
            "Collecting konlpy\n",
            "  Downloading konlpy-0.6.0-py2.py3-none-any.whl.metadata (1.9 kB)\n",
            "Collecting JPype1>=0.7.0 (from konlpy)\n",
            "  Downloading jpype1-1.5.1-cp310-cp310-manylinux_2_17_x86_64.manylinux2014_x86_64.whl.metadata (4.9 kB)\n",
            "Requirement already satisfied: lxml>=4.1.0 in /usr/local/lib/python3.10/dist-packages (from konlpy) (5.3.0)\n",
            "Requirement already satisfied: numpy>=1.6 in /usr/local/lib/python3.10/dist-packages (from konlpy) (1.26.4)\n",
            "Requirement already satisfied: packaging in /usr/local/lib/python3.10/dist-packages (from JPype1>=0.7.0->konlpy) (24.2)\n",
            "Downloading konlpy-0.6.0-py2.py3-none-any.whl (19.4 MB)\n",
            "\u001b[2K   \u001b[90m━━━━━━━━━━━━━━━━━━━━━━━━━━━━━━━━━━━━━━━━\u001b[0m \u001b[32m19.4/19.4 MB\u001b[0m \u001b[31m79.2 MB/s\u001b[0m eta \u001b[36m0:00:00\u001b[0m\n",
            "\u001b[?25hDownloading jpype1-1.5.1-cp310-cp310-manylinux_2_17_x86_64.manylinux2014_x86_64.whl (493 kB)\n",
            "\u001b[2K   \u001b[90m━━━━━━━━━━━━━━━━━━━━━━━━━━━━━━━━━━━━━━━━\u001b[0m \u001b[32m493.8/493.8 kB\u001b[0m \u001b[31m27.7 MB/s\u001b[0m eta \u001b[36m0:00:00\u001b[0m\n",
            "\u001b[?25hInstalling collected packages: JPype1, konlpy\n",
            "Successfully installed JPype1-1.5.1 konlpy-0.6.0\n"
          ]
        }
      ],
      "source": [
        "!pip install konlpy"
      ]
    },
    {
      "cell_type": "code",
      "execution_count": 9,
      "metadata": {
        "colab": {
          "base_uri": "https://localhost:8080/"
        },
        "id": "mim7zJlqXdx9",
        "outputId": "f68da55a-f20b-45b8-8bbc-bc50ee897eb4"
      },
      "outputs": [
        {
          "output_type": "stream",
          "name": "stdout",
          "text": [
            "Drive already mounted at /content/drive; to attempt to forcibly remount, call drive.mount(\"/content/drive\", force_remount=True).\n"
          ]
        }
      ],
      "source": [
        "import numpy as np\n",
        "import pandas as pd\n",
        "import matplotlib.pyplot as plt\n",
        "import seaborn as sns\n",
        "from sklearn.feature_extraction.text import TfidfVectorizer\n",
        "from konlpy.tag import Okt\n",
        "\n",
        "from google.colab import drive\n",
        "drive.mount('/content/drive')"
      ]
    },
    {
      "cell_type": "code",
      "execution_count": 10,
      "metadata": {
        "id": "QC17l_5zXq2f"
      },
      "outputs": [],
      "source": [
        "df1 = pd.read_csv(\"/content/drive/MyDrive/incorrect_predictions_yogiyo.csv\")\n",
        "df2 = pd.read_csv(\"/content/drive/MyDrive/correct_predictions_yogiyo.csv\")"
      ]
    },
    {
      "cell_type": "code",
      "execution_count": 16,
      "metadata": {
        "id": "aorQnNorc6JB"
      },
      "outputs": [],
      "source": [
        "import ast  # 문자열을 리스트로 변환하는 데 사용\n",
        "\n",
        "# 문자열 형태를 리스트로 변환 후 처리\n",
        "def process_string_list(row):\n",
        "    # 문자열을 리스트로 변환\n",
        "    row = ast.literal_eval(row) if isinstance(row, str) else row\n",
        "    # 리스트 요소 정리 (양쪽 작은따옴표와 공백 제거)\n",
        "    # cleaned = [elem.strip(\" '\") for elem in row]\n",
        "    return ''.join(row)  # 요소를 그대로 연결\n",
        "\n",
        "# 데이터프레임에서 처리\n",
        "df1['Comment'] = df1['Comment'].apply(process_string_list)\n",
        "df2['Comment'] = df2['Comment'].apply(process_string_list)"
      ]
    },
    {
      "cell_type": "code",
      "execution_count": null,
      "metadata": {
        "colab": {
          "base_uri": "https://localhost:8080/",
          "height": 467
        },
        "id": "ZsBJXJZ-dmWJ",
        "outputId": "91345ce5-c4ca-4aae-96e4-5af4ff678755"
      },
      "outputs": [
        {
          "data": {
            "text/plain": [
              "<Axes: xlabel='Predicted', ylabel='Actual'>"
            ]
          },
          "execution_count": 5,
          "metadata": {},
          "output_type": "execute_result"
        },
        {
          "data": {
            "image/png": "[encoded data removed]",
            "text/plain": [
              "<Figure size 640x480 with 2 Axes>"
            ]
          },
          "metadata": {},
          "output_type": "display_data"
        }
      ],
      "source": [
        "count = df1.groupby(['Actual', 'Predicted']).size().reset_index(name='Count')\n",
        "\n",
        "pivot_df = count.pivot(index='Actual', columns='Predicted', values='Count')\n",
        "\n",
        "sns.heatmap(pivot_df, annot=True, fmt='g', linewidths=0.5)"
      ]
    },
    {
      "cell_type": "code",
      "execution_count": 17,
      "metadata": {
        "id": "w5_dhw9fdn1H"
      },
      "outputs": [],
      "source": [
        "incorrect_data1 = df1[(df1['Actual'] == 5) & (df1['Predicted'] == 4)]\n",
        "incorrect_data2 = df1[(df1['Actual'] == 5) & (df1['Predicted'] == 3)]\n",
        "incorrect_data3 = df1[(df1['Actual'] == 5) & (df1['Predicted'] == 2)]\n",
        "incorrect_data4 = df1[(df1['Actual'] == 5) & (df1['Predicted'] == 1)]\n",
        "incorrect_data = pd.concat([incorrect_data1, incorrect_data2, incorrect_data3, incorrect_data4])"
      ]
    },
    {
      "cell_type": "code",
      "execution_count": 18,
      "metadata": {
        "id": "8LGaHG8aebv0"
      },
      "outputs": [],
      "source": [
        "correct_data = df2[(df2['Actual'] == 5) & (df2['Predicted'] == 5)]"
      ]
    },
    {
      "cell_type": "code",
      "source": [
        "import re\n",
        "from collections import Counter\n",
        "from konlpy.tag import Okt\n",
        "\n",
        "# 형태소 분석기 초기화\n",
        "okt = Okt()\n",
        "\n",
        "stop_words = set(['은', '는', '이', '가', '아', '요', '하', '들', '것', '의', '있',\n",
        "                  '되', '수', '보', '주', '등', '한', '에', '도', '뿌링클', '지점',\n",
        "                  '치킨', 'bhc', '롯데리아', '배달', '양', '교촌'])\n",
        "\n",
        "# 전처리 및 단어 추출 함수\n",
        "def extract_tokens(text):\n",
        "    # 한글과 공백만 남기고 나머지 제거\n",
        "    cleaned_text = re.sub(r\"[^가-힣\\s]\", \"\", text)\n",
        "    # 단어 추출\n",
        "    tokens = okt.morphs(cleaned_text, stem=True)\n",
        "    # 불용어 제거\n",
        "    filtered_tokens = [token for token in tokens if token not in stop_words]\n",
        "    return filtered_tokens"
      ],
      "metadata": {
        "id": "svrQ6kEtDAfe"
      },
      "execution_count": 70,
      "outputs": []
    },
    {
      "cell_type": "code",
      "source": [
        "# incorrect data\n",
        "\n",
        "# 모든 리뷰에서 단어 추출 및 병합\n",
        "all_tokens = []\n",
        "for comment in incorrect_data['Comment']:\n",
        "    tokens = extract_tokens(comment)\n",
        "    all_tokens.extend(tokens)\n",
        "\n",
        "# 단어 빈도 계산\n",
        "token_counter = Counter(all_tokens)\n",
        "\n",
        "# 상위 빈도 단어 출력\n",
        "top_words = token_counter.most_common(30)\n",
        "print(\"전체 문서에서 가장 높은 빈도의 단어 (불용어 제외):\")\n",
        "for word, freq in top_words:\n",
        "    print(f\"단어: {word}, 빈도: {freq}\")"
      ],
      "metadata": {
        "colab": {
          "base_uri": "https://localhost:8080/"
        },
        "id": "Z7gIu_ah3ODO",
        "outputId": "58a9a710-41e6-4270-e25a-63069a844f3b"
      },
      "execution_count": 57,
      "outputs": [
        {
          "output_type": "stream",
          "name": "stdout",
          "text": [
            "전체 문서에서 가장 높은 빈도의 단어 (불용어 제외):\n",
            "단어: 맛있다, 빈도: 3190\n",
            "단어: 먹다, 빈도: 1479\n",
            "단어: 맛, 빈도: 1085\n",
            "단어: \n",
            ", 빈도: 972\n",
            "단어: 좋다, 빈도: 797\n",
            "단어: 시키다, 빈도: 653\n",
            "단어: 빠르다, 빈도: 632\n",
            "단어: 하다, 빈도: 611\n",
            "단어: 요, 빈도: 524\n",
            "단어: 너무, 빈도: 461\n",
            "단어: 많다, 빈도: 405\n",
            "단어: 있다, 빈도: 333\n",
            "단어: 역시, 빈도: 307\n",
            "단어: 자다, 빈도: 283\n",
            "단어: 잘, 빈도: 279\n",
            "단어: 좀, 빈도: 273\n",
            "단어: 보다, 빈도: 256\n",
            "단어: 다, 빈도: 254\n",
            "단어: 또, 빈도: 253\n",
            "단어: 조금, 빈도: 250\n",
            "단어: 양도, 빈도: 220\n",
            "단어: 없다, 빈도: 210\n",
            "단어: 같다, 빈도: 210\n",
            "단어: 나, 빈도: 204\n",
            "단어: 더, 빈도: 200\n",
            "단어: 짜다, 빈도: 194\n",
            "단어: 만, 빈도: 190\n",
            "단어: 주문, 빈도: 188\n",
            "단어: 지, 빈도: 174\n",
            "단어: 아쉽다, 빈도: 171\n"
          ]
        }
      ]
    },
    {
      "cell_type": "code",
      "source": [
        "# incorrect_data2\n",
        "\n",
        "all_tokens = []\n",
        "for comment in incorrect_data2['Comment']:\n",
        "    tokens = extract_tokens(comment)\n",
        "    all_tokens.extend(tokens)\n",
        "\n",
        "token_counter = Counter(all_tokens)\n",
        "\n",
        "top_words = token_counter.most_common(30)\n",
        "print(\"전체 문서에서 가장 높은 빈도의 단어 (불용어 제외):\")\n",
        "for word, freq in top_words:\n",
        "    print(f\"단어: {word}, 빈도: {freq}\")"
      ],
      "metadata": {
        "colab": {
          "base_uri": "https://localhost:8080/"
        },
        "id": "TeKY0LWI-044",
        "outputId": "3ea00b1d-42e5-44c3-9d3c-ee8fbb399780"
      },
      "execution_count": 65,
      "outputs": [
        {
          "output_type": "stream",
          "name": "stdout",
          "text": [
            "전체 문서에서 가장 높은 빈도의 단어 (불용어 제외):\n",
            "단어: 맛, 빈도: 123\n",
            "단어: 맛있다, 빈도: 120\n",
            "단어: 먹다, 빈도: 98\n",
            "단어: 빨르다, 빈도: 85\n",
            "단어: 요, 빈도: 80\n",
            "단어: 시키다, 빈도: 54\n",
            "단어: \n",
            ", 빈도: 51\n",
            "단어: 너무, 빈도: 38\n",
            "단어: 그냥, 빈도: 35\n",
            "단어: 좋다, 빈도: 35\n",
            "단어: 또, 빈도: 32\n",
            "단어: 하다, 빈도: 32\n",
            "단어: 좀, 빈도: 26\n",
            "단어: 그렇다, 빈도: 25\n",
            "단어: 존맛, 빈도: 23\n",
            "단어: 자다, 빈도: 22\n",
            "단어: 나, 빈도: 22\n",
            "단어: 쏘다, 빈도: 22\n",
            "단어: 보다, 빈도: 21\n",
            "단어: 많이, 빈도: 20\n",
            "단어: 많다, 빈도: 18\n",
            "단어: 괜찮다, 빈도: 18\n",
            "단어: 같다, 빈도: 18\n",
            "단어: 링클, 빈도: 17\n",
            "단어: 다, 빈도: 17\n",
            "단어: 다음, 빈도: 17\n",
            "단어: 아쉽다, 빈도: 17\n",
            "단어: 조금, 빈도: 17\n",
            "단어: 짜다, 빈도: 16\n",
            "단어: 점, 빈도: 15\n"
          ]
        }
      ]
    },
    {
      "cell_type": "code",
      "source": [
        "# incorrect_data3\n",
        "\n",
        "all_tokens = []\n",
        "for comment in incorrect_data3['Comment']:\n",
        "    tokens = extract_tokens(comment)\n",
        "    all_tokens.extend(tokens)\n",
        "\n",
        "token_counter = Counter(all_tokens)\n",
        "\n",
        "top_words = token_counter.most_common(30)\n",
        "print(\"전체 문서에서 가장 높은 빈도의 단어 (불용어 제외):\")\n",
        "for word, freq in top_words:\n",
        "    print(f\"단어: {word}, 빈도: {freq}\")"
      ],
      "metadata": {
        "colab": {
          "base_uri": "https://localhost:8080/"
        },
        "id": "qyTlcHDE_Ebw",
        "outputId": "ebd6c936-d417-4cdc-a8e5-edce146eca94"
      },
      "execution_count": 66,
      "outputs": [
        {
          "output_type": "stream",
          "name": "stdout",
          "text": [
            "전체 문서에서 가장 높은 빈도의 단어 (불용어 제외):\n",
            "단어: 맛, 빈도: 15\n",
            "단어: 너무, 빈도: 15\n",
            "단어: 요, 빈도: 10\n",
            "단어: 짜다, 빈도: 9\n",
            "단어: 나, 빈도: 6\n",
            "단어: 먹다, 빈도: 6\n",
            "단어: 갓, 빈도: 5\n",
            "단어: 하다, 빈도: 5\n",
            "단어: 느리다, 빈도: 5\n",
            "단어: 여, 빈도: 4\n",
            "단어: 만족하다, 빈도: 4\n",
            "단어: 그렇다, 빈도: 4\n",
            "단어: 비다, 빈도: 4\n",
            "단어: 비싸다, 빈도: 3\n",
            "단어: 주문, 빈도: 3\n",
            "단어: 소스, 빈도: 3\n",
            "단어: 눅눅하다, 빈도: 3\n",
            "단어: 그냥, 빈도: 3\n",
            "단어: 안, 빈도: 3\n",
            "단어: 점, 빈도: 3\n",
            "단어: 좀, 빈도: 3\n",
            "단어: 않다, 빈도: 3\n",
            "단어: 다음, 빈도: 2\n",
            "단어: 또, 빈도: 2\n",
            "단어: 시간, 빈도: 2\n",
            "단어: 치즈볼, 빈도: 2\n",
            "단어: 개, 빈도: 2\n",
            "단어: 달다, 빈도: 2\n",
            "단어: 비, 빈도: 2\n",
            "단어: 짱짱, 빈도: 2\n"
          ]
        }
      ]
    },
    {
      "cell_type": "code",
      "source": [
        "# incorrect_data4\n",
        "\n",
        "all_tokens = []\n",
        "for comment in incorrect_data4['Comment']:\n",
        "    tokens = extract_tokens(comment)\n",
        "    all_tokens.extend(tokens)\n",
        "\n",
        "token_counter = Counter(all_tokens)\n",
        "\n",
        "top_words = token_counter.most_common(30)\n",
        "print(\"전체 문서에서 가장 높은 빈도의 단어 (불용어 제외):\")\n",
        "for word, freq in top_words:\n",
        "    print(f\"단어: {word}, 빈도: {freq}\")"
      ],
      "metadata": {
        "colab": {
          "base_uri": "https://localhost:8080/"
        },
        "id": "WToXJksW_G9L",
        "outputId": "99625927-e852-42fa-ea51-1e4aef13b165"
      },
      "execution_count": 71,
      "outputs": [
        {
          "output_type": "stream",
          "name": "stdout",
          "text": [
            "전체 문서에서 가장 높은 빈도의 단어 (불용어 제외):\n",
            "단어: 하다, 빈도: 240\n",
            "단어: \n",
            ", 빈도: 223\n",
            "단어: 맛, 빈도: 181\n",
            "단어: 시키다, 빈도: 171\n",
            "단어: 먹다, 빈도: 170\n",
            "단어: 너무, 빈도: 155\n",
            "단어: 받다, 빈도: 100\n",
            "단어: 없다, 빈도: 99\n",
            "단어: 주문, 빈도: 75\n",
            "단어: 오다, 빈도: 63\n",
            "단어: 나, 빈도: 57\n",
            "단어: 보다, 빈도: 57\n",
            "단어: 안, 빈도: 56\n",
            "단어: 시간, 빈도: 56\n",
            "단어: 오늘, 빈도: 54\n",
            "단어: 다, 빈도: 51\n",
            "단어: 리뷰, 빈도: 49\n",
            "단어: 로, 빈도: 49\n",
            "단어: 만, 빈도: 47\n",
            "단어: 있다, 빈도: 47\n",
            "단어: 좀, 빈도: 45\n",
            "단어: 다음, 빈도: 43\n",
            "단어: 같다, 빈도: 42\n",
            "단어: 분, 빈도: 39\n",
            "단어: 많이, 빈도: 38\n",
            "단어: 을, 빈도: 37\n",
            "단어: 짜다, 빈도: 36\n",
            "단어: 이다, 빈도: 35\n",
            "단어: 아니다, 빈도: 34\n",
            "단어: 자다, 빈도: 34\n"
          ]
        }
      ]
    },
    {
      "cell_type": "code",
      "source": [
        "# correct_data\n",
        "\n",
        "all_tokens = []\n",
        "for comment in correct_data['Comment']:\n",
        "    tokens = extract_tokens(comment)\n",
        "    all_tokens.extend(tokens)\n",
        "\n",
        "token_counter = Counter(all_tokens)\n",
        "\n",
        "top_words = token_counter.most_common(30)\n",
        "print(\"전체 문서에서 가장 높은 빈도의 단어 (불용어 제외):\")\n",
        "for word, freq in top_words:\n",
        "    print(f\"단어: {word}, 빈도: {freq}\")"
      ],
      "metadata": {
        "colab": {
          "base_uri": "https://localhost:8080/"
        },
        "id": "Dx2iBDry4IDq",
        "outputId": "d7e33831-e358-43c2-af98-d5600276c1da"
      },
      "execution_count": 69,
      "outputs": [
        {
          "output_type": "stream",
          "name": "stdout",
          "text": [
            "전체 문서에서 가장 높은 빈도의 단어 (불용어 제외):\n",
            "단어: 맛있다, 빈도: 18854\n",
            "단어: 먹다, 빈도: 15861\n",
            "단어: \n",
            ", 빈도: 6871\n",
            "단어: 하다, 빈도: 5999\n",
            "단어: 맛, 빈도: 5077\n",
            "단어: 자다, 빈도: 4873\n",
            "단어: 너무, 빈도: 4395\n",
            "단어: 시키다, 빈도: 3759\n",
            "단어: 좋다, 빈도: 3649\n",
            "단어: 잘, 빈도: 3154\n",
            "단어: 보다, 빈도: 2532\n",
            "단어: 빠르다, 빈도: 2170\n",
            "단어: 항상, 빈도: 1970\n",
            "단어: 감사하다, 빈도: 1929\n",
            "단어: 요, 빈도: 1903\n",
            "단어: 이다, 빈도: 1881\n",
            "단어: 오다, 빈도: 1873\n",
            "단어: 주문, 빈도: 1785\n",
            "단어: 있다, 빈도: 1666\n",
            "단어: 많다, 빈도: 1464\n",
            "단어: 최고, 빈도: 1435\n",
            "단어: 역시, 빈도: 1433\n",
            "단어: 또, 빈도: 1380\n",
            "단어: 넘다, 빈도: 1358\n",
            "단어: 진짜, 빈도: 1330\n",
            "단어: 만, 빈도: 1309\n",
            "단어: 같다, 빈도: 1200\n",
            "단어: 바삭, 빈도: 1142\n",
            "단어: 다, 빈도: 1131\n",
            "단어: 양도, 빈도: 1093\n"
          ]
        }
      ]
    },
    {
      "cell_type": "markdown",
      "metadata": {
        "id": "eZ40yjlEeJaJ"
      },
      "source": [
        "correct: 5,\n",
        "incorrect: 5 -> 4"
      ]
    },
    {
      "cell_type": "code",
      "execution_count": 19,
      "metadata": {
        "id": "EIvdeHJEeJA5"
      },
      "outputs": [],
      "source": [
        "all_data = pd.concat([incorrect_data1, correct_data])"
      ]
    },
    {
      "cell_type": "code",
      "execution_count": 20,
      "metadata": {
        "colab": {
          "base_uri": "https://localhost:8080/"
        },
        "id": "NXxkRzFseEwz",
        "outputId": "30d9185c-63ae-472c-82db-a7932c8804ec"
      },
      "outputs": [
        {
          "output_type": "stream",
          "name": "stderr",
          "text": [
            "/usr/local/lib/python3.10/dist-packages/sklearn/feature_extraction/text.py:521: UserWarning: The parameter 'token_pattern' will not be used since 'tokenizer' is not None'\n",
            "  warnings.warn(\n"
          ]
        }
      ],
      "source": [
        "okt = Okt()\n",
        "\n",
        "stop_words = set(['은', '는', '이', '가', '아', '하', '들', '것', '의', '있',\n",
        "                  '되', '수', '보', '주', '등', '한', '에', '뿌링클', '지점', 'bhc', '롯데리아', '배달', '양'])\n",
        "\n",
        "def tokenize_korean(text):\n",
        "    token_li = okt.morphs(text, stem=True)\n",
        "    clean = [token for token in token_li if not token in stop_words]\n",
        "    return clean\n",
        "\n",
        "vectorizer = TfidfVectorizer(tokenizer=tokenize_korean)\n",
        "tfidf_matrix = vectorizer.fit_transform(all_data['Comment'])\n",
        "\n",
        "# TF-IDF 단어와 점수 확인\n",
        "tfidf_feature_names = vectorizer.get_feature_names_out()  # 단어 목록\n",
        "tfidf_scores = tfidf_matrix.toarray()  # TF-IDF 점수 배열"
      ]
    },
    {
      "cell_type": "code",
      "execution_count": null,
      "metadata": {
        "colab": {
          "base_uri": "https://localhost:8080/"
        },
        "id": "l6UYBJJ_el6H",
        "outputId": "7330acf5-cc44-4d13-a297-5c607177777d"
      },
      "outputs": [
        {
          "name": "stdout",
          "output_type": "stream",
          "text": [
            "incorrect_data에서 correct_data와 겹치지 않는 고유 키워드:\n",
            "빠르다: 0.0672\n",
            "많다: 0.0260\n",
            "배송: 0.0128\n",
            "조금: 0.0127\n",
            "좀: 0.0109\n",
            "괜찮다: 0.0100\n",
            "진리: 0.0084\n",
            "짜다: 0.0079\n",
            "아쉽다: 0.0073\n",
            "골드: 0.0057\n",
            "킹: 0.0057\n",
            "굿굿: 0.0049\n",
            "라서: 0.0048\n",
            "적다: 0.0047\n",
            "레드: 0.0047\n"
          ]
        }
      ],
      "source": [
        "# incorrect_data와 correct_data에 해당하는 데이터의 행 번호\n",
        "incorrect_indices = range(len(incorrect_data1))\n",
        "correct_indices = range(len(incorrect_data1), len(all_data))\n",
        "\n",
        "# TF-IDF 평균 계산\n",
        "incorrect_tfidf_mean = np.mean(tfidf_scores[incorrect_indices], axis=0)\n",
        "correct_tfidf_mean = np.mean(tfidf_scores[correct_indices], axis=0)\n",
        "\n",
        "# correct_data 집합에 없는 단어 필터링\n",
        "unique_to_incorrect = []\n",
        "for i, word in enumerate(tfidf_feature_names):\n",
        "    if incorrect_tfidf_mean[i] > correct_tfidf_mean[i] * 2:\n",
        "        unique_to_incorrect.append((word, incorrect_tfidf_mean[i]))\n",
        "\n",
        "# 고유 단어를 점수 기준으로 정렬\n",
        "unique_to_incorrect = sorted(unique_to_incorrect, key=lambda x: x[1], reverse=True)\n",
        "\n",
        "# 결과 출력\n",
        "print(\"incorrect_data에서 correct_data와 겹치지 않는 고유 키워드:\")\n",
        "for word, score in unique_to_incorrect[:15]:\n",
        "    print(f\"{word}: {score:.4f}\")"
      ]
    },
    {
      "cell_type": "markdown",
      "metadata": {
        "id": "a7_kFceCe4ra"
      },
      "source": [
        "correct: 5,\n",
        "incorrect: 5 -> 4,3,2,1"
      ]
    },
    {
      "cell_type": "code",
      "execution_count": null,
      "metadata": {
        "id": "QHHwHVzve6Pg"
      },
      "outputs": [],
      "source": [
        "all_data = pd.concat([incorrect_data, correct_data])"
      ]
    },
    {
      "cell_type": "code",
      "execution_count": null,
      "metadata": {
        "id": "RBr6dEoufXln"
      },
      "outputs": [],
      "source": [
        "okt = Okt()\n",
        "\n",
        "stop_words = set(['은', '는', '이', '가', '아', '하', '들', '것', '의', '있', '되',\n",
        "                  '수', '보', '주', '등', '한', '에', '뿌링클', '지점', 'bhc', '롯데리아', '배달', '양'])\n",
        "\n",
        "def tokenize_korean(text):\n",
        "    token_li = okt.morphs(text, stem=True)\n",
        "    clean = [token for token in token_li if not token in stop_words]\n",
        "    return clean\n",
        "\n",
        "vectorizer = TfidfVectorizer(tokenizer=tokenize_korean)\n",
        "tfidf_matrix = vectorizer.fit_transform(all_data['Comment'])\n",
        "\n",
        "# TF-IDF 단어와 점수 확인\n",
        "tfidf_feature_names = vectorizer.get_feature_names_out()  # 단어 목록\n",
        "tfidf_scores = tfidf_matrix.toarray()  # TF-IDF 점수 배열"
      ]
    },
    {
      "cell_type": "code",
      "execution_count": null,
      "metadata": {
        "colab": {
          "base_uri": "https://localhost:8080/"
        },
        "id": "aRfFoCSVfaqE",
        "outputId": "5de33d5d-f174-4a63-eba6-2bfcd6da31c2"
      },
      "outputs": [
        {
          "name": "stdout",
          "output_type": "stream",
          "text": [
            "incorrect_data에서 correct_data와 겹치지 않는 고유 키워드:\n",
            "빠르다: 0.0552\n",
            "빨르다: 0.0152\n",
            "좀: 0.0113\n",
            "조금: 0.0111\n",
            "배송: 0.0105\n",
            "괜찮다: 0.0099\n",
            "짜다: 0.0088\n",
            "진리: 0.0076\n",
            "아쉽다: 0.0076\n",
            "골드: 0.0050\n",
            "적다: 0.0048\n",
            "근데: 0.0046\n",
            "라서: 0.0041\n",
            "빨: 0.0039\n",
            "그렇다: 0.0039\n"
          ]
        }
      ],
      "source": [
        "# incorrect_data와 correct_data에 해당하는 데이터의 행 번호\n",
        "incorrect_indices = range(len(incorrect_data))\n",
        "correct_indices = range(len(incorrect_data), len(all_data))\n",
        "\n",
        "# TF-IDF 평균 계산\n",
        "incorrect_tfidf_mean = np.mean(tfidf_scores[incorrect_indices], axis=0)\n",
        "correct_tfidf_mean = np.mean(tfidf_scores[correct_indices], axis=0)\n",
        "\n",
        "# correct_data 집합에 없는 단어 필터링\n",
        "unique_to_incorrect = []\n",
        "for i, word in enumerate(tfidf_feature_names):\n",
        "    if incorrect_tfidf_mean[i] > correct_tfidf_mean[i] * 2:\n",
        "        unique_to_incorrect.append((word, incorrect_tfidf_mean[i]))\n",
        "\n",
        "# 고유 단어를 점수 기준으로 정렬\n",
        "unique_to_incorrect = sorted(unique_to_incorrect, key=lambda x: x[1], reverse=True)\n",
        "\n",
        "# 결과 출력\n",
        "print(\"incorrect_data에서 correct_data와 겹치지 않는 고유 키워드:\")\n",
        "for word, score in unique_to_incorrect[:15]:\n",
        "    print(f\"{word}: {score:.4f}\")"
      ]
    },
    {
      "cell_type": "markdown",
      "metadata": {
        "id": "vt68I0kofsum"
      },
      "source": [
        "correct: 1,2,3,4,5, incorrect: 5 -> 1,2,3,4"
      ]
    },
    {
      "cell_type": "code",
      "execution_count": null,
      "metadata": {
        "id": "N4Ky-TXLf1n5"
      },
      "outputs": [],
      "source": [
        "all_data = pd.concat([incorrect_data, df2])"
      ]
    },
    {
      "cell_type": "code",
      "execution_count": null,
      "metadata": {
        "id": "SZjoX3yGf4La"
      },
      "outputs": [],
      "source": [
        "okt = Okt()\n",
        "\n",
        "stop_words = set(['은', '는', '이', '가', '아', '하', '들', '것', '의', '있', '되',\n",
        "                  '수', '보', '주', '등', '한', '에', '뿌링클', '지점', 'bhc', '롯데리아', '배달', '양'])\n",
        "\n",
        "def tokenize_korean(text):\n",
        "    token_li = okt.morphs(text, stem=True)\n",
        "    clean = [token for token in token_li if not token in stop_words]\n",
        "    return clean\n",
        "\n",
        "vectorizer = TfidfVectorizer(tokenizer=tokenize_korean)\n",
        "tfidf_matrix = vectorizer.fit_transform(all_data['Comment'])\n",
        "\n",
        "# TF-IDF 단어와 점수 확인\n",
        "tfidf_feature_names = vectorizer.get_feature_names_out()  # 단어 목록\n",
        "tfidf_scores = tfidf_matrix.toarray()  # TF-IDF 점수 배열"
      ]
    },
    {
      "cell_type": "code",
      "execution_count": null,
      "metadata": {
        "colab": {
          "base_uri": "https://localhost:8080/"
        },
        "id": "nPFJ2GGkgCpr",
        "outputId": "df5cfbca-5d45-49c2-d91c-8b87e99bd24c"
      },
      "outputs": [
        {
          "name": "stdout",
          "output_type": "stream",
          "text": [
            "incorrect_data에서 correct_data와 겹치지 않는 고유 키워드:\n",
            "빠르다: 0.0554\n",
            "빨르다: 0.0152\n",
            "조금: 0.0108\n",
            "배송: 0.0105\n",
            "괜찮다: 0.0097\n",
            "짜다: 0.0087\n",
            "진리: 0.0076\n",
            "아쉽다: 0.0075\n",
            "골드: 0.0050\n",
            "적다: 0.0047\n",
            "근데: 0.0045\n",
            "양은: 0.0036\n",
            "단: 0.0032\n",
            "약간: 0.0031\n",
            "오래: 0.0030\n"
          ]
        }
      ],
      "source": [
        "# incorrect_data와 correct_data에 해당하는 데이터의 행 번호\n",
        "incorrect_indices = range(len(incorrect_data))\n",
        "correct_indices = range(len(incorrect_data), len(all_data))\n",
        "\n",
        "# TF-IDF 평균 계산\n",
        "incorrect_tfidf_mean = np.mean(tfidf_scores[incorrect_indices], axis=0)\n",
        "correct_tfidf_mean = np.mean(tfidf_scores[correct_indices], axis=0)\n",
        "\n",
        "# correct_data 집합에 없는 단어 필터링\n",
        "unique_to_incorrect = []\n",
        "for i, word in enumerate(tfidf_feature_names):\n",
        "    if incorrect_tfidf_mean[i] > correct_tfidf_mean[i] * 2:\n",
        "        unique_to_incorrect.append((word, incorrect_tfidf_mean[i]))\n",
        "\n",
        "# 고유 단어를 점수 기준으로 정렬\n",
        "unique_to_incorrect = sorted(unique_to_incorrect, key=lambda x: x[1], reverse=True)\n",
        "\n",
        "# 결과 출력\n",
        "print(\"incorrect_data에서 correct_data와 겹치지 않는 고유 키워드:\")\n",
        "for word, score in unique_to_incorrect[:15]:\n",
        "    print(f\"{word}: {score:.4f}\")"
      ]
    },
    {
      "cell_type": "markdown",
      "metadata": {
        "id": "-oIjpzdmgN6j"
      },
      "source": [
        "correct: 5, incorrect: 5 -> 1"
      ]
    },
    {
      "cell_type": "code",
      "execution_count": null,
      "metadata": {
        "id": "hAGjJJgxgSRt"
      },
      "outputs": [],
      "source": [
        "all_data = pd.concat([incorrect_data4, correct_data])"
      ]
    },
    {
      "cell_type": "code",
      "execution_count": null,
      "metadata": {
        "id": "7ivB7oN-gVlf"
      },
      "outputs": [],
      "source": [
        "okt = Okt()\n",
        "\n",
        "stop_words = set(['은', '는', '이', '가', '아', '하', '들', '것', '의', '있', '되', '수', '보',\n",
        "                  '주', '등', '한', '에', '뿌링클', '지점', 'bhc', '링클', '뿌', '석촌', '점', '치즈볼',\n",
        "                  '맛초킹', '후라이드'])\n",
        "\n",
        "def tokenize_korean(text):\n",
        "    token_li = okt.morphs(text, stem=True)\n",
        "    clean = [token for token in token_li if not token in stop_words]\n",
        "    return clean\n",
        "\n",
        "vectorizer = TfidfVectorizer(tokenizer=tokenize_korean)\n",
        "tfidf_matrix = vectorizer.fit_transform(all_data['Comment'])\n",
        "\n",
        "# TF-IDF 단어와 점수 확인\n",
        "tfidf_feature_names = vectorizer.get_feature_names_out()  # 단어 목록\n",
        "tfidf_scores = tfidf_matrix.toarray()  # TF-IDF 점수 배열"
      ]
    },
    {
      "cell_type": "code",
      "execution_count": null,
      "metadata": {
        "colab": {
          "base_uri": "https://localhost:8080/"
        },
        "id": "8mVlYbgWgZ2m",
        "outputId": "60afc41b-76f5-43bf-de3e-2fb1dd8bbd78"
      },
      "outputs": [
        {
          "name": "stdout",
          "output_type": "stream",
          "text": [
            "incorrect_data에서 correct_data와 겹치지 않는 고유 키워드:\n",
            "할기다: 0.0022\n",
            "삿: 0.0020\n",
            "동일하다: 0.0016\n",
            "🙂🙂🙂🙂🙂: 0.0016\n",
            "너무하다: 0.0015\n",
            "푸석푸석하다: 0.0015\n",
            "매달다: 0.0014\n",
            "놀랐씀돠: 0.0013\n",
            "ㅛㅠ: 0.0013\n",
            "다시다: 0.0013\n",
            "??!??: 0.0012\n",
            "반했어: 0.0012\n",
            "겹: 0.0012\n",
            "체제: 0.0012\n",
            "맛쫌킹: 0.0012\n",
            "쌩까다: 0.0012\n",
            "유당불내증: 0.0012\n",
            "왜케맛나는건: 0.0012\n",
            "븐: 0.0012\n",
            "서장: 0.0012\n",
            "마쉬: 0.0012\n",
            "천황: 0.0012\n",
            "맛쩔: 0.0011\n",
            "비릿내: 0.0011\n",
            "밭: 0.0011\n",
            "걸린건: 0.0011\n",
            "❤️💜: 0.0011\n",
            "앞전: 0.0011\n",
            "~_: 0.0011\n",
            "연달: 0.0011\n"
          ]
        }
      ],
      "source": [
        "# incorrect_data와 correct_data에 해당하는 데이터의 행 번호\n",
        "incorrect_indices = range(len(incorrect_data4))\n",
        "correct_indices = range(len(incorrect_data4), len(all_data))\n",
        "\n",
        "# TF-IDF 평균 계산\n",
        "incorrect_tfidf_mean = np.mean(tfidf_scores[incorrect_indices], axis=0)\n",
        "correct_tfidf_mean = np.mean(tfidf_scores[correct_indices], axis=0)\n",
        "\n",
        "# correct_data 집합에 없는 단어 필터링\n",
        "unique_to_incorrect = []\n",
        "for i, word in enumerate(tfidf_feature_names):\n",
        "    if correct_tfidf_mean[i] == 0:\n",
        "        unique_to_incorrect.append((word, incorrect_tfidf_mean[i]))\n",
        "\n",
        "# 고유 단어를 점수 기준으로 정렬\n",
        "unique_to_incorrect = sorted(unique_to_incorrect, key=lambda x: x[1], reverse=True)\n",
        "\n",
        "# 결과 출력\n",
        "print(\"incorrect_data에서 correct_data와 겹치지 않는 고유 키워드:\")\n",
        "for word, score in unique_to_incorrect[:30]:\n",
        "    print(f\"{word}: {score:.4f}\")"
      ]
    }
  ],
  "metadata": {
    "colab": {
      "provenance": [],
      "toc_visible": true
    },
    "kernelspec": {
      "display_name": "base",
      "language": "python",
      "name": "python3"
    },
    "language_info": {
      "codemirror_mode": {
        "name": "ipython",
        "version": 3
      },
      "file_extension": ".py",
      "mimetype": "text/x-python",
      "name": "python",
      "nbconvert_exporter": "python",
      "pygments_lexer": "ipython3",
      "version": "3.10.13"
    }
  },
  "nbformat": 4,
  "nbformat_minor": 0
}